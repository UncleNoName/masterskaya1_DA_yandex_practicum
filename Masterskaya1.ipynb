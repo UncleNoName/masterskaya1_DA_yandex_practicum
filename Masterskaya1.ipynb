{
 "cells": [
  {
   "cell_type": "markdown",
   "id": "f40e3eef",
   "metadata": {},
   "source": [
    "# Мастерская №1"
   ]
  },
  {
   "cell_type": "markdown",
   "id": "ff550498",
   "metadata": {},
   "source": [
    "### Задача\n",
    "\n",
    "Провести анализ изменения цены лечения в медицинской клинике в 2022 году относительно 2021 года"
   ]
  },
  {
   "cell_type": "markdown",
   "id": "bf09b4ae",
   "metadata": {},
   "source": [
    "### Цель проекта:\n",
    "\n",
    "Определить ключевые драйверы изменения цены лечения и дать прогнозы по изменению цен"
   ]
  },
  {
   "cell_type": "markdown",
   "id": "18aa56d3",
   "metadata": {},
   "source": [
    "### Описание данных:\n",
    "\n",
    "**record_id** - уникальный идентификатор строки данных;\n",
    "\n",
    "**service_date** - дата оказания медицинской услуги;\n",
    "\n",
    "**service_name** - наименование медицинской услуги;\n",
    "\n",
    "**service_number** - количество услуг;\n",
    "\n",
    "**service_amount** - сумма выплат (стоимость оказанных услуг в рублях);\n",
    "\n",
    "**insured** - уникальный идентификатор пациента;\n",
    "\n",
    "**sex_id** - пол пациента;\n",
    "\n",
    "**age_for_service_date** - возраст пациента."
   ]
  },
  {
   "cell_type": "markdown",
   "id": "32fa6e1e",
   "metadata": {},
   "source": [
    "**Импортируем библиотеки**"
   ]
  },
  {
   "cell_type": "code",
   "execution_count": 1,
   "id": "fa71f70d",
   "metadata": {},
   "outputs": [],
   "source": [
    "import pandas as pd\n",
    "import datetime as dt\n",
    "import matplotlib.pyplot as plt\n",
    "import numpy as np\n",
    "import seaborn as sns\n",
    "import plotly.express as px\n",
    "from plotly import graph_objects as go\n",
    "import warnings\n",
    "warnings.filterwarnings(\"ignore\")\n",
    "plt.style.use('fivethirtyeight')\n",
    "pd.options.display.float_format = '{:.2f}'.format\n",
    "pd.options.display.float_format = '{:,.2f}'.format"
   ]
  },
  {
   "cell_type": "markdown",
   "id": "c29ec50f",
   "metadata": {},
   "source": [
    "**Прочитаем файл**\n",
    "\n",
    "Посмотрим на исходную таблицу"
   ]
  },
  {
   "cell_type": "code",
   "execution_count": 2,
   "id": "ad222294",
   "metadata": {},
   "outputs": [],
   "source": [
    "data = pd.read_excel('data_test_task_2022.xlsx')"
   ]
  },
  {
   "cell_type": "code",
   "execution_count": 3,
   "id": "4244b849",
   "metadata": {
    "scrolled": true
   },
   "outputs": [
    {
     "data": {
      "text/html": [
       "<div>\n",
       "<style scoped>\n",
       "    .dataframe tbody tr th:only-of-type {\n",
       "        vertical-align: middle;\n",
       "    }\n",
       "\n",
       "    .dataframe tbody tr th {\n",
       "        vertical-align: top;\n",
       "    }\n",
       "\n",
       "    .dataframe thead th {\n",
       "        text-align: right;\n",
       "    }\n",
       "</style>\n",
       "<table border=\"1\" class=\"dataframe\">\n",
       "  <thead>\n",
       "    <tr style=\"text-align: right;\">\n",
       "      <th></th>\n",
       "      <th>record_id</th>\n",
       "      <th>service_date</th>\n",
       "      <th>service_name</th>\n",
       "      <th>service_amount</th>\n",
       "      <th>service_number</th>\n",
       "      <th>insured</th>\n",
       "      <th>sex_id</th>\n",
       "      <th>age_for_service_date</th>\n",
       "    </tr>\n",
       "  </thead>\n",
       "  <tbody>\n",
       "    <tr>\n",
       "      <th>0</th>\n",
       "      <td>30268157003</td>\n",
       "      <td>2021-01-24</td>\n",
       "      <td>Прием первичный</td>\n",
       "      <td>1470</td>\n",
       "      <td>1</td>\n",
       "      <td>490777</td>\n",
       "      <td>2.00</td>\n",
       "      <td>26</td>\n",
       "    </tr>\n",
       "    <tr>\n",
       "      <th>1</th>\n",
       "      <td>30268157103</td>\n",
       "      <td>2021-01-24</td>\n",
       "      <td>Взятие материала на посев, цитологическое иссл...</td>\n",
       "      <td>284</td>\n",
       "      <td>1</td>\n",
       "      <td>490777</td>\n",
       "      <td>2.00</td>\n",
       "      <td>26</td>\n",
       "    </tr>\n",
       "    <tr>\n",
       "      <th>2</th>\n",
       "      <td>30268157203</td>\n",
       "      <td>2021-01-24</td>\n",
       "      <td>Посев отдел, дыхательных путей - слизистая зев...</td>\n",
       "      <td>1134</td>\n",
       "      <td>1</td>\n",
       "      <td>490777</td>\n",
       "      <td>2.00</td>\n",
       "      <td>26</td>\n",
       "    </tr>\n",
       "    <tr>\n",
       "      <th>3</th>\n",
       "      <td>30268157303</td>\n",
       "      <td>2021-01-24</td>\n",
       "      <td>Общий анализ крови (лейкоцитарная форм,, СОЭ)</td>\n",
       "      <td>693</td>\n",
       "      <td>1</td>\n",
       "      <td>490777</td>\n",
       "      <td>2.00</td>\n",
       "      <td>26</td>\n",
       "    </tr>\n",
       "    <tr>\n",
       "      <th>4</th>\n",
       "      <td>30268157403</td>\n",
       "      <td>2021-01-24</td>\n",
       "      <td>Ревматоидный фактор</td>\n",
       "      <td>420</td>\n",
       "      <td>1</td>\n",
       "      <td>490777</td>\n",
       "      <td>2.00</td>\n",
       "      <td>26</td>\n",
       "    </tr>\n",
       "    <tr>\n",
       "      <th>5</th>\n",
       "      <td>30268157503</td>\n",
       "      <td>2021-01-24</td>\n",
       "      <td>С-реактивный белок</td>\n",
       "      <td>420</td>\n",
       "      <td>1</td>\n",
       "      <td>490777</td>\n",
       "      <td>2.00</td>\n",
       "      <td>26</td>\n",
       "    </tr>\n",
       "    <tr>\n",
       "      <th>6</th>\n",
       "      <td>30268157603</td>\n",
       "      <td>2021-01-24</td>\n",
       "      <td>Взятие крови из периферической вены</td>\n",
       "      <td>158</td>\n",
       "      <td>1</td>\n",
       "      <td>490777</td>\n",
       "      <td>2.00</td>\n",
       "      <td>26</td>\n",
       "    </tr>\n",
       "    <tr>\n",
       "      <th>7</th>\n",
       "      <td>30268157703</td>\n",
       "      <td>2021-01-26</td>\n",
       "      <td>Прием первичный</td>\n",
       "      <td>1470</td>\n",
       "      <td>1</td>\n",
       "      <td>490777</td>\n",
       "      <td>2.00</td>\n",
       "      <td>26</td>\n",
       "    </tr>\n",
       "    <tr>\n",
       "      <th>8</th>\n",
       "      <td>30268157803</td>\n",
       "      <td>2021-01-26</td>\n",
       "      <td>Магнитотерапия (1 сеанс)</td>\n",
       "      <td>1040</td>\n",
       "      <td>1</td>\n",
       "      <td>490777</td>\n",
       "      <td>2.00</td>\n",
       "      <td>26</td>\n",
       "    </tr>\n",
       "    <tr>\n",
       "      <th>9</th>\n",
       "      <td>30268157903</td>\n",
       "      <td>2021-01-26</td>\n",
       "      <td>УВЧ-терапия (1 сеанс) (1 поле)</td>\n",
       "      <td>1040</td>\n",
       "      <td>1</td>\n",
       "      <td>490777</td>\n",
       "      <td>2.00</td>\n",
       "      <td>26</td>\n",
       "    </tr>\n",
       "    <tr>\n",
       "      <th>10</th>\n",
       "      <td>30268158003</td>\n",
       "      <td>2021-01-26</td>\n",
       "      <td>Прием повторный</td>\n",
       "      <td>1313</td>\n",
       "      <td>1</td>\n",
       "      <td>490777</td>\n",
       "      <td>2.00</td>\n",
       "      <td>26</td>\n",
       "    </tr>\n",
       "    <tr>\n",
       "      <th>11</th>\n",
       "      <td>30268158103</td>\n",
       "      <td>2021-01-26</td>\n",
       "      <td>Смазывание глотки лекарственными формами</td>\n",
       "      <td>263</td>\n",
       "      <td>1</td>\n",
       "      <td>490777</td>\n",
       "      <td>2.00</td>\n",
       "      <td>26</td>\n",
       "    </tr>\n",
       "    <tr>\n",
       "      <th>12</th>\n",
       "      <td>30268158203</td>\n",
       "      <td>2021-01-27</td>\n",
       "      <td>Прием повторный</td>\n",
       "      <td>1313</td>\n",
       "      <td>1</td>\n",
       "      <td>232418</td>\n",
       "      <td>2.00</td>\n",
       "      <td>25</td>\n",
       "    </tr>\n",
       "    <tr>\n",
       "      <th>13</th>\n",
       "      <td>30268158303</td>\n",
       "      <td>2021-01-27</td>\n",
       "      <td>Взятие мазка</td>\n",
       "      <td>341</td>\n",
       "      <td>1</td>\n",
       "      <td>232418</td>\n",
       "      <td>2.00</td>\n",
       "      <td>25</td>\n",
       "    </tr>\n",
       "    <tr>\n",
       "      <th>14</th>\n",
       "      <td>30268158403</td>\n",
       "      <td>2021-01-27</td>\n",
       "      <td>Обработка вульвы</td>\n",
       "      <td>788</td>\n",
       "      <td>1</td>\n",
       "      <td>232418</td>\n",
       "      <td>2.00</td>\n",
       "      <td>25</td>\n",
       "    </tr>\n",
       "    <tr>\n",
       "      <th>15</th>\n",
       "      <td>30268158503</td>\n",
       "      <td>2021-01-27</td>\n",
       "      <td>Обработка шейки матки</td>\n",
       "      <td>1208</td>\n",
       "      <td>1</td>\n",
       "      <td>232418</td>\n",
       "      <td>2.00</td>\n",
       "      <td>25</td>\n",
       "    </tr>\n",
       "    <tr>\n",
       "      <th>16</th>\n",
       "      <td>30268158603</td>\n",
       "      <td>2021-01-27</td>\n",
       "      <td>Гинекологический мазок</td>\n",
       "      <td>525</td>\n",
       "      <td>1</td>\n",
       "      <td>232418</td>\n",
       "      <td>2.00</td>\n",
       "      <td>25</td>\n",
       "    </tr>\n",
       "    <tr>\n",
       "      <th>17</th>\n",
       "      <td>30268158703</td>\n",
       "      <td>2021-01-15</td>\n",
       "      <td>Общий анализ крови (лейкоцитарная форм,, СОЭ)</td>\n",
       "      <td>693</td>\n",
       "      <td>1</td>\n",
       "      <td>177372</td>\n",
       "      <td>2.00</td>\n",
       "      <td>25</td>\n",
       "    </tr>\n",
       "    <tr>\n",
       "      <th>18</th>\n",
       "      <td>30268158803</td>\n",
       "      <td>2021-01-15</td>\n",
       "      <td>Общий анализ мочи</td>\n",
       "      <td>431</td>\n",
       "      <td>1</td>\n",
       "      <td>177372</td>\n",
       "      <td>2.00</td>\n",
       "      <td>25</td>\n",
       "    </tr>\n",
       "    <tr>\n",
       "      <th>19</th>\n",
       "      <td>30268158903</td>\n",
       "      <td>2021-01-15</td>\n",
       "      <td>Креатинин</td>\n",
       "      <td>242</td>\n",
       "      <td>1</td>\n",
       "      <td>177372</td>\n",
       "      <td>2.00</td>\n",
       "      <td>25</td>\n",
       "    </tr>\n",
       "  </tbody>\n",
       "</table>\n",
       "</div>"
      ],
      "text/plain": [
       "      record_id service_date  \\\n",
       "0   30268157003   2021-01-24   \n",
       "1   30268157103   2021-01-24   \n",
       "2   30268157203   2021-01-24   \n",
       "3   30268157303   2021-01-24   \n",
       "4   30268157403   2021-01-24   \n",
       "5   30268157503   2021-01-24   \n",
       "6   30268157603   2021-01-24   \n",
       "7   30268157703   2021-01-26   \n",
       "8   30268157803   2021-01-26   \n",
       "9   30268157903   2021-01-26   \n",
       "10  30268158003   2021-01-26   \n",
       "11  30268158103   2021-01-26   \n",
       "12  30268158203   2021-01-27   \n",
       "13  30268158303   2021-01-27   \n",
       "14  30268158403   2021-01-27   \n",
       "15  30268158503   2021-01-27   \n",
       "16  30268158603   2021-01-27   \n",
       "17  30268158703   2021-01-15   \n",
       "18  30268158803   2021-01-15   \n",
       "19  30268158903   2021-01-15   \n",
       "\n",
       "                                         service_name  service_amount  \\\n",
       "0                                     Прием первичный            1470   \n",
       "1   Взятие материала на посев, цитологическое иссл...             284   \n",
       "2   Посев отдел, дыхательных путей - слизистая зев...            1134   \n",
       "3       Общий анализ крови (лейкоцитарная форм,, СОЭ)             693   \n",
       "4                                 Ревматоидный фактор             420   \n",
       "5                                  С-реактивный белок             420   \n",
       "6                 Взятие крови из периферической вены             158   \n",
       "7                                     Прием первичный            1470   \n",
       "8                            Магнитотерапия (1 сеанс)            1040   \n",
       "9                      УВЧ-терапия (1 сеанс) (1 поле)            1040   \n",
       "10                                    Прием повторный            1313   \n",
       "11           Смазывание глотки лекарственными формами             263   \n",
       "12                                    Прием повторный            1313   \n",
       "13                                       Взятие мазка             341   \n",
       "14                                   Обработка вульвы             788   \n",
       "15                              Обработка шейки матки            1208   \n",
       "16                             Гинекологический мазок             525   \n",
       "17      Общий анализ крови (лейкоцитарная форм,, СОЭ)             693   \n",
       "18                                  Общий анализ мочи             431   \n",
       "19                                          Креатинин             242   \n",
       "\n",
       "    service_number  insured  sex_id  age_for_service_date  \n",
       "0                1   490777    2.00                    26  \n",
       "1                1   490777    2.00                    26  \n",
       "2                1   490777    2.00                    26  \n",
       "3                1   490777    2.00                    26  \n",
       "4                1   490777    2.00                    26  \n",
       "5                1   490777    2.00                    26  \n",
       "6                1   490777    2.00                    26  \n",
       "7                1   490777    2.00                    26  \n",
       "8                1   490777    2.00                    26  \n",
       "9                1   490777    2.00                    26  \n",
       "10               1   490777    2.00                    26  \n",
       "11               1   490777    2.00                    26  \n",
       "12               1   232418    2.00                    25  \n",
       "13               1   232418    2.00                    25  \n",
       "14               1   232418    2.00                    25  \n",
       "15               1   232418    2.00                    25  \n",
       "16               1   232418    2.00                    25  \n",
       "17               1   177372    2.00                    25  \n",
       "18               1   177372    2.00                    25  \n",
       "19               1   177372    2.00                    25  "
      ]
     },
     "execution_count": 3,
     "metadata": {},
     "output_type": "execute_result"
    }
   ],
   "source": [
    "data.head(20)"
   ]
  },
  {
   "cell_type": "markdown",
   "id": "672aa151",
   "metadata": {},
   "source": [
    "**Посмотрим на типы данных**"
   ]
  },
  {
   "cell_type": "code",
   "execution_count": 4,
   "id": "d88cf34d",
   "metadata": {},
   "outputs": [
    {
     "name": "stdout",
     "output_type": "stream",
     "text": [
      "<class 'pandas.core.frame.DataFrame'>\n",
      "RangeIndex: 85369 entries, 0 to 85368\n",
      "Data columns (total 8 columns):\n",
      " #   Column                Non-Null Count  Dtype  \n",
      "---  ------                --------------  -----  \n",
      " 0   record_id             85369 non-null  int64  \n",
      " 1   service_date          85369 non-null  object \n",
      " 2   service_name          85369 non-null  object \n",
      " 3   service_amount        85369 non-null  int64  \n",
      " 4   service_number        85369 non-null  int64  \n",
      " 5   insured               85369 non-null  int64  \n",
      " 6   sex_id                85348 non-null  float64\n",
      " 7   age_for_service_date  85369 non-null  int64  \n",
      "dtypes: float64(1), int64(5), object(2)\n",
      "memory usage: 5.2+ MB\n"
     ]
    }
   ],
   "source": [
    "data.info()"
   ]
  },
  {
   "cell_type": "markdown",
   "id": "f95218de",
   "metadata": {},
   "source": [
    "**Посмотрим нулевые значения**"
   ]
  },
  {
   "cell_type": "code",
   "execution_count": 5,
   "id": "8c0336a6",
   "metadata": {},
   "outputs": [
    {
     "data": {
      "text/plain": [
       "record_id                0\n",
       "service_date             0\n",
       "service_name             0\n",
       "service_amount           0\n",
       "service_number           0\n",
       "insured                  0\n",
       "sex_id                  21\n",
       "age_for_service_date     0\n",
       "dtype: int64"
      ]
     },
     "execution_count": 5,
     "metadata": {},
     "output_type": "execute_result"
    }
   ],
   "source": [
    "data.isna().sum()"
   ]
  },
  {
   "cell_type": "code",
   "execution_count": 6,
   "id": "98f7ab04",
   "metadata": {},
   "outputs": [
    {
     "data": {
      "text/html": [
       "<div>\n",
       "<style scoped>\n",
       "    .dataframe tbody tr th:only-of-type {\n",
       "        vertical-align: middle;\n",
       "    }\n",
       "\n",
       "    .dataframe tbody tr th {\n",
       "        vertical-align: top;\n",
       "    }\n",
       "\n",
       "    .dataframe thead th {\n",
       "        text-align: right;\n",
       "    }\n",
       "</style>\n",
       "<table border=\"1\" class=\"dataframe\">\n",
       "  <thead>\n",
       "    <tr style=\"text-align: right;\">\n",
       "      <th></th>\n",
       "      <th>record_id</th>\n",
       "      <th>service_amount</th>\n",
       "      <th>service_number</th>\n",
       "      <th>insured</th>\n",
       "      <th>sex_id</th>\n",
       "      <th>age_for_service_date</th>\n",
       "    </tr>\n",
       "  </thead>\n",
       "  <tbody>\n",
       "    <tr>\n",
       "      <th>count</th>\n",
       "      <td>85,369.00</td>\n",
       "      <td>85,369.00</td>\n",
       "      <td>85,369.00</td>\n",
       "      <td>85,369.00</td>\n",
       "      <td>85,348.00</td>\n",
       "      <td>85,369.00</td>\n",
       "    </tr>\n",
       "    <tr>\n",
       "      <th>mean</th>\n",
       "      <td>31,799,826,572.25</td>\n",
       "      <td>1,166.09</td>\n",
       "      <td>1.02</td>\n",
       "      <td>654,916.29</td>\n",
       "      <td>1.62</td>\n",
       "      <td>33.85</td>\n",
       "    </tr>\n",
       "    <tr>\n",
       "      <th>std</th>\n",
       "      <td>837,064,983.00</td>\n",
       "      <td>799.06</td>\n",
       "      <td>0.23</td>\n",
       "      <td>262,335.58</td>\n",
       "      <td>0.49</td>\n",
       "      <td>12.14</td>\n",
       "    </tr>\n",
       "    <tr>\n",
       "      <th>min</th>\n",
       "      <td>30,268,157,003.00</td>\n",
       "      <td>147.00</td>\n",
       "      <td>1.00</td>\n",
       "      <td>125,073.00</td>\n",
       "      <td>1.00</td>\n",
       "      <td>0.00</td>\n",
       "    </tr>\n",
       "    <tr>\n",
       "      <th>25%</th>\n",
       "      <td>31,111,934,803.00</td>\n",
       "      <td>550.00</td>\n",
       "      <td>1.00</td>\n",
       "      <td>509,690.00</td>\n",
       "      <td>1.00</td>\n",
       "      <td>27.00</td>\n",
       "    </tr>\n",
       "    <tr>\n",
       "      <th>50%</th>\n",
       "      <td>31,814,131,003.00</td>\n",
       "      <td>1,155.00</td>\n",
       "      <td>1.00</td>\n",
       "      <td>651,895.00</td>\n",
       "      <td>2.00</td>\n",
       "      <td>34.00</td>\n",
       "    </tr>\n",
       "    <tr>\n",
       "      <th>75%</th>\n",
       "      <td>32,511,163,303.00</td>\n",
       "      <td>1,530.00</td>\n",
       "      <td>1.00</td>\n",
       "      <td>822,728.00</td>\n",
       "      <td>2.00</td>\n",
       "      <td>41.00</td>\n",
       "    </tr>\n",
       "    <tr>\n",
       "      <th>max</th>\n",
       "      <td>33,178,147,203.00</td>\n",
       "      <td>26,999.00</td>\n",
       "      <td>16.00</td>\n",
       "      <td>1,306,795.00</td>\n",
       "      <td>2.00</td>\n",
       "      <td>83.00</td>\n",
       "    </tr>\n",
       "  </tbody>\n",
       "</table>\n",
       "</div>"
      ],
      "text/plain": [
       "              record_id  service_amount  service_number      insured  \\\n",
       "count         85,369.00       85,369.00       85,369.00    85,369.00   \n",
       "mean  31,799,826,572.25        1,166.09            1.02   654,916.29   \n",
       "std      837,064,983.00          799.06            0.23   262,335.58   \n",
       "min   30,268,157,003.00          147.00            1.00   125,073.00   \n",
       "25%   31,111,934,803.00          550.00            1.00   509,690.00   \n",
       "50%   31,814,131,003.00        1,155.00            1.00   651,895.00   \n",
       "75%   32,511,163,303.00        1,530.00            1.00   822,728.00   \n",
       "max   33,178,147,203.00       26,999.00           16.00 1,306,795.00   \n",
       "\n",
       "         sex_id  age_for_service_date  \n",
       "count 85,348.00             85,369.00  \n",
       "mean       1.62                 33.85  \n",
       "std        0.49                 12.14  \n",
       "min        1.00                  0.00  \n",
       "25%        1.00                 27.00  \n",
       "50%        2.00                 34.00  \n",
       "75%        2.00                 41.00  \n",
       "max        2.00                 83.00  "
      ]
     },
     "execution_count": 6,
     "metadata": {},
     "output_type": "execute_result"
    }
   ],
   "source": [
    "data.describe()"
   ]
  },
  {
   "cell_type": "markdown",
   "id": "a1039157",
   "metadata": {},
   "source": [
    "**Замечания**\n",
    "\n",
    "Сразу заметим, что судя по характеру процедур в графе sex_id можно заметить, что 2.0 -  id женского пола, а 1.0 -id мужского пола, сразу заменим их на 'мужской' и 'женский' для упрощения анализа и визуализации.\n",
    "\n"
   ]
  },
  {
   "cell_type": "code",
   "execution_count": 7,
   "id": "20c6521d",
   "metadata": {},
   "outputs": [],
   "source": [
    "data['sex_id'] = data['sex_id'].replace(1.0, 'мужской')\n",
    "data['sex_id'] = data['sex_id'].replace(2.0, 'женский')"
   ]
  },
  {
   "cell_type": "code",
   "execution_count": 8,
   "id": "8c17b98c",
   "metadata": {},
   "outputs": [
    {
     "data": {
      "text/plain": [
       "array(['женский', 'мужской', nan], dtype=object)"
      ]
     },
     "execution_count": 8,
     "metadata": {},
     "output_type": "execute_result"
    }
   ],
   "source": [
    "data['sex_id'].unique()"
   ]
  },
  {
   "cell_type": "markdown",
   "id": "fab4fc85",
   "metadata": {},
   "source": [
    "Присутствуют нули, скорее всего пациает, либо администратор не заполнили у каких-то клиентов пол."
   ]
  },
  {
   "cell_type": "code",
   "execution_count": 9,
   "id": "071a126b",
   "metadata": {
    "scrolled": false
   },
   "outputs": [
    {
     "data": {
      "text/html": [
       "<div>\n",
       "<style scoped>\n",
       "    .dataframe tbody tr th:only-of-type {\n",
       "        vertical-align: middle;\n",
       "    }\n",
       "\n",
       "    .dataframe tbody tr th {\n",
       "        vertical-align: top;\n",
       "    }\n",
       "\n",
       "    .dataframe thead th {\n",
       "        text-align: right;\n",
       "    }\n",
       "</style>\n",
       "<table border=\"1\" class=\"dataframe\">\n",
       "  <thead>\n",
       "    <tr style=\"text-align: right;\">\n",
       "      <th></th>\n",
       "      <th>record_id</th>\n",
       "      <th>service_date</th>\n",
       "      <th>service_name</th>\n",
       "      <th>service_amount</th>\n",
       "      <th>service_number</th>\n",
       "      <th>insured</th>\n",
       "      <th>sex_id</th>\n",
       "      <th>age_for_service_date</th>\n",
       "    </tr>\n",
       "  </thead>\n",
       "  <tbody>\n",
       "    <tr>\n",
       "      <th>0</th>\n",
       "      <td>30268157003</td>\n",
       "      <td>2021-01-24</td>\n",
       "      <td>Прием первичный</td>\n",
       "      <td>1470</td>\n",
       "      <td>1</td>\n",
       "      <td>490777</td>\n",
       "      <td>женский</td>\n",
       "      <td>26</td>\n",
       "    </tr>\n",
       "    <tr>\n",
       "      <th>1</th>\n",
       "      <td>30268157103</td>\n",
       "      <td>2021-01-24</td>\n",
       "      <td>Взятие материала на посев, цитологическое иссл...</td>\n",
       "      <td>284</td>\n",
       "      <td>1</td>\n",
       "      <td>490777</td>\n",
       "      <td>женский</td>\n",
       "      <td>26</td>\n",
       "    </tr>\n",
       "    <tr>\n",
       "      <th>2</th>\n",
       "      <td>30268157203</td>\n",
       "      <td>2021-01-24</td>\n",
       "      <td>Посев отдел, дыхательных путей - слизистая зев...</td>\n",
       "      <td>1134</td>\n",
       "      <td>1</td>\n",
       "      <td>490777</td>\n",
       "      <td>женский</td>\n",
       "      <td>26</td>\n",
       "    </tr>\n",
       "    <tr>\n",
       "      <th>3</th>\n",
       "      <td>30268157303</td>\n",
       "      <td>2021-01-24</td>\n",
       "      <td>Общий анализ крови (лейкоцитарная форм,, СОЭ)</td>\n",
       "      <td>693</td>\n",
       "      <td>1</td>\n",
       "      <td>490777</td>\n",
       "      <td>женский</td>\n",
       "      <td>26</td>\n",
       "    </tr>\n",
       "    <tr>\n",
       "      <th>4</th>\n",
       "      <td>30268157403</td>\n",
       "      <td>2021-01-24</td>\n",
       "      <td>Ревматоидный фактор</td>\n",
       "      <td>420</td>\n",
       "      <td>1</td>\n",
       "      <td>490777</td>\n",
       "      <td>женский</td>\n",
       "      <td>26</td>\n",
       "    </tr>\n",
       "    <tr>\n",
       "      <th>...</th>\n",
       "      <td>...</td>\n",
       "      <td>...</td>\n",
       "      <td>...</td>\n",
       "      <td>...</td>\n",
       "      <td>...</td>\n",
       "      <td>...</td>\n",
       "      <td>...</td>\n",
       "      <td>...</td>\n",
       "    </tr>\n",
       "    <tr>\n",
       "      <th>85364</th>\n",
       "      <td>33178146803</td>\n",
       "      <td>2022-08-20</td>\n",
       "      <td>Общий анализ мочи</td>\n",
       "      <td>495</td>\n",
       "      <td>1</td>\n",
       "      <td>935341</td>\n",
       "      <td>женский</td>\n",
       "      <td>30</td>\n",
       "    </tr>\n",
       "    <tr>\n",
       "      <th>85365</th>\n",
       "      <td>33178146903</td>\n",
       "      <td>2022-08-20</td>\n",
       "      <td>Общий анализ крови (лейкоцитарная форм,, СОЭ)</td>\n",
       "      <td>800</td>\n",
       "      <td>1</td>\n",
       "      <td>935341</td>\n",
       "      <td>женский</td>\n",
       "      <td>30</td>\n",
       "    </tr>\n",
       "    <tr>\n",
       "      <th>85366</th>\n",
       "      <td>33178147003</td>\n",
       "      <td>2022-08-20</td>\n",
       "      <td>АЧТВ (активированное частичное тромбопластинов...</td>\n",
       "      <td>300</td>\n",
       "      <td>1</td>\n",
       "      <td>935341</td>\n",
       "      <td>женский</td>\n",
       "      <td>30</td>\n",
       "    </tr>\n",
       "    <tr>\n",
       "      <th>85367</th>\n",
       "      <td>33178147103</td>\n",
       "      <td>2022-08-20</td>\n",
       "      <td>Протромбин (МНО)</td>\n",
       "      <td>410</td>\n",
       "      <td>1</td>\n",
       "      <td>935341</td>\n",
       "      <td>женский</td>\n",
       "      <td>30</td>\n",
       "    </tr>\n",
       "    <tr>\n",
       "      <th>85368</th>\n",
       "      <td>33178147203</td>\n",
       "      <td>2022-08-20</td>\n",
       "      <td>Гепатит В HbsAg</td>\n",
       "      <td>570</td>\n",
       "      <td>1</td>\n",
       "      <td>935341</td>\n",
       "      <td>женский</td>\n",
       "      <td>30</td>\n",
       "    </tr>\n",
       "  </tbody>\n",
       "</table>\n",
       "<p>85369 rows × 8 columns</p>\n",
       "</div>"
      ],
      "text/plain": [
       "         record_id service_date  \\\n",
       "0      30268157003   2021-01-24   \n",
       "1      30268157103   2021-01-24   \n",
       "2      30268157203   2021-01-24   \n",
       "3      30268157303   2021-01-24   \n",
       "4      30268157403   2021-01-24   \n",
       "...            ...          ...   \n",
       "85364  33178146803   2022-08-20   \n",
       "85365  33178146903   2022-08-20   \n",
       "85366  33178147003   2022-08-20   \n",
       "85367  33178147103   2022-08-20   \n",
       "85368  33178147203   2022-08-20   \n",
       "\n",
       "                                            service_name  service_amount  \\\n",
       "0                                        Прием первичный            1470   \n",
       "1      Взятие материала на посев, цитологическое иссл...             284   \n",
       "2      Посев отдел, дыхательных путей - слизистая зев...            1134   \n",
       "3          Общий анализ крови (лейкоцитарная форм,, СОЭ)             693   \n",
       "4                                    Ревматоидный фактор             420   \n",
       "...                                                  ...             ...   \n",
       "85364                                  Общий анализ мочи             495   \n",
       "85365      Общий анализ крови (лейкоцитарная форм,, СОЭ)             800   \n",
       "85366  АЧТВ (активированное частичное тромбопластинов...             300   \n",
       "85367                                   Протромбин (МНО)             410   \n",
       "85368                                    Гепатит В HbsAg             570   \n",
       "\n",
       "       service_number  insured   sex_id  age_for_service_date  \n",
       "0                   1   490777  женский                    26  \n",
       "1                   1   490777  женский                    26  \n",
       "2                   1   490777  женский                    26  \n",
       "3                   1   490777  женский                    26  \n",
       "4                   1   490777  женский                    26  \n",
       "...               ...      ...      ...                   ...  \n",
       "85364               1   935341  женский                    30  \n",
       "85365               1   935341  женский                    30  \n",
       "85366               1   935341  женский                    30  \n",
       "85367               1   935341  женский                    30  \n",
       "85368               1   935341  женский                    30  \n",
       "\n",
       "[85369 rows x 8 columns]"
      ]
     },
     "execution_count": 9,
     "metadata": {},
     "output_type": "execute_result"
    }
   ],
   "source": [
    "data"
   ]
  },
  {
   "cell_type": "markdown",
   "id": "d6af708c",
   "metadata": {},
   "source": [
    "**Поменяем тип данных в столбце service_date:**"
   ]
  },
  {
   "cell_type": "code",
   "execution_count": 10,
   "id": "8eedf0f7",
   "metadata": {},
   "outputs": [],
   "source": [
    "data['service_date'] = pd.to_datetime(data['service_date'], format='%Y-%m-%d')"
   ]
  },
  {
   "cell_type": "markdown",
   "id": "d31f61b6",
   "metadata": {},
   "source": [
    "**Добавим столбцы с год, год-месяц, номер месяца:**"
   ]
  },
  {
   "cell_type": "code",
   "execution_count": 11,
   "id": "dc984301",
   "metadata": {},
   "outputs": [
    {
     "data": {
      "text/html": [
       "<div>\n",
       "<style scoped>\n",
       "    .dataframe tbody tr th:only-of-type {\n",
       "        vertical-align: middle;\n",
       "    }\n",
       "\n",
       "    .dataframe tbody tr th {\n",
       "        vertical-align: top;\n",
       "    }\n",
       "\n",
       "    .dataframe thead th {\n",
       "        text-align: right;\n",
       "    }\n",
       "</style>\n",
       "<table border=\"1\" class=\"dataframe\">\n",
       "  <thead>\n",
       "    <tr style=\"text-align: right;\">\n",
       "      <th></th>\n",
       "      <th>record_id</th>\n",
       "      <th>service_date</th>\n",
       "      <th>service_name</th>\n",
       "      <th>service_amount</th>\n",
       "      <th>service_number</th>\n",
       "      <th>insured</th>\n",
       "      <th>sex_id</th>\n",
       "      <th>age_for_service_date</th>\n",
       "      <th>year</th>\n",
       "      <th>year_month</th>\n",
       "      <th>month</th>\n",
       "    </tr>\n",
       "  </thead>\n",
       "  <tbody>\n",
       "    <tr>\n",
       "      <th>0</th>\n",
       "      <td>30268157003</td>\n",
       "      <td>2021-01-24</td>\n",
       "      <td>Прием первичный</td>\n",
       "      <td>1470</td>\n",
       "      <td>1</td>\n",
       "      <td>490777</td>\n",
       "      <td>женский</td>\n",
       "      <td>26</td>\n",
       "      <td>2021</td>\n",
       "      <td>2021-01</td>\n",
       "      <td>1</td>\n",
       "    </tr>\n",
       "    <tr>\n",
       "      <th>1</th>\n",
       "      <td>30268157103</td>\n",
       "      <td>2021-01-24</td>\n",
       "      <td>Взятие материала на посев, цитологическое иссл...</td>\n",
       "      <td>284</td>\n",
       "      <td>1</td>\n",
       "      <td>490777</td>\n",
       "      <td>женский</td>\n",
       "      <td>26</td>\n",
       "      <td>2021</td>\n",
       "      <td>2021-01</td>\n",
       "      <td>1</td>\n",
       "    </tr>\n",
       "    <tr>\n",
       "      <th>2</th>\n",
       "      <td>30268157203</td>\n",
       "      <td>2021-01-24</td>\n",
       "      <td>Посев отдел, дыхательных путей - слизистая зев...</td>\n",
       "      <td>1134</td>\n",
       "      <td>1</td>\n",
       "      <td>490777</td>\n",
       "      <td>женский</td>\n",
       "      <td>26</td>\n",
       "      <td>2021</td>\n",
       "      <td>2021-01</td>\n",
       "      <td>1</td>\n",
       "    </tr>\n",
       "    <tr>\n",
       "      <th>3</th>\n",
       "      <td>30268157303</td>\n",
       "      <td>2021-01-24</td>\n",
       "      <td>Общий анализ крови (лейкоцитарная форм,, СОЭ)</td>\n",
       "      <td>693</td>\n",
       "      <td>1</td>\n",
       "      <td>490777</td>\n",
       "      <td>женский</td>\n",
       "      <td>26</td>\n",
       "      <td>2021</td>\n",
       "      <td>2021-01</td>\n",
       "      <td>1</td>\n",
       "    </tr>\n",
       "    <tr>\n",
       "      <th>4</th>\n",
       "      <td>30268157403</td>\n",
       "      <td>2021-01-24</td>\n",
       "      <td>Ревматоидный фактор</td>\n",
       "      <td>420</td>\n",
       "      <td>1</td>\n",
       "      <td>490777</td>\n",
       "      <td>женский</td>\n",
       "      <td>26</td>\n",
       "      <td>2021</td>\n",
       "      <td>2021-01</td>\n",
       "      <td>1</td>\n",
       "    </tr>\n",
       "    <tr>\n",
       "      <th>...</th>\n",
       "      <td>...</td>\n",
       "      <td>...</td>\n",
       "      <td>...</td>\n",
       "      <td>...</td>\n",
       "      <td>...</td>\n",
       "      <td>...</td>\n",
       "      <td>...</td>\n",
       "      <td>...</td>\n",
       "      <td>...</td>\n",
       "      <td>...</td>\n",
       "      <td>...</td>\n",
       "    </tr>\n",
       "    <tr>\n",
       "      <th>85364</th>\n",
       "      <td>33178146803</td>\n",
       "      <td>2022-08-20</td>\n",
       "      <td>Общий анализ мочи</td>\n",
       "      <td>495</td>\n",
       "      <td>1</td>\n",
       "      <td>935341</td>\n",
       "      <td>женский</td>\n",
       "      <td>30</td>\n",
       "      <td>2022</td>\n",
       "      <td>2022-08</td>\n",
       "      <td>8</td>\n",
       "    </tr>\n",
       "    <tr>\n",
       "      <th>85365</th>\n",
       "      <td>33178146903</td>\n",
       "      <td>2022-08-20</td>\n",
       "      <td>Общий анализ крови (лейкоцитарная форм,, СОЭ)</td>\n",
       "      <td>800</td>\n",
       "      <td>1</td>\n",
       "      <td>935341</td>\n",
       "      <td>женский</td>\n",
       "      <td>30</td>\n",
       "      <td>2022</td>\n",
       "      <td>2022-08</td>\n",
       "      <td>8</td>\n",
       "    </tr>\n",
       "    <tr>\n",
       "      <th>85366</th>\n",
       "      <td>33178147003</td>\n",
       "      <td>2022-08-20</td>\n",
       "      <td>АЧТВ (активированное частичное тромбопластинов...</td>\n",
       "      <td>300</td>\n",
       "      <td>1</td>\n",
       "      <td>935341</td>\n",
       "      <td>женский</td>\n",
       "      <td>30</td>\n",
       "      <td>2022</td>\n",
       "      <td>2022-08</td>\n",
       "      <td>8</td>\n",
       "    </tr>\n",
       "    <tr>\n",
       "      <th>85367</th>\n",
       "      <td>33178147103</td>\n",
       "      <td>2022-08-20</td>\n",
       "      <td>Протромбин (МНО)</td>\n",
       "      <td>410</td>\n",
       "      <td>1</td>\n",
       "      <td>935341</td>\n",
       "      <td>женский</td>\n",
       "      <td>30</td>\n",
       "      <td>2022</td>\n",
       "      <td>2022-08</td>\n",
       "      <td>8</td>\n",
       "    </tr>\n",
       "    <tr>\n",
       "      <th>85368</th>\n",
       "      <td>33178147203</td>\n",
       "      <td>2022-08-20</td>\n",
       "      <td>Гепатит В HbsAg</td>\n",
       "      <td>570</td>\n",
       "      <td>1</td>\n",
       "      <td>935341</td>\n",
       "      <td>женский</td>\n",
       "      <td>30</td>\n",
       "      <td>2022</td>\n",
       "      <td>2022-08</td>\n",
       "      <td>8</td>\n",
       "    </tr>\n",
       "  </tbody>\n",
       "</table>\n",
       "<p>85369 rows × 11 columns</p>\n",
       "</div>"
      ],
      "text/plain": [
       "         record_id service_date  \\\n",
       "0      30268157003   2021-01-24   \n",
       "1      30268157103   2021-01-24   \n",
       "2      30268157203   2021-01-24   \n",
       "3      30268157303   2021-01-24   \n",
       "4      30268157403   2021-01-24   \n",
       "...            ...          ...   \n",
       "85364  33178146803   2022-08-20   \n",
       "85365  33178146903   2022-08-20   \n",
       "85366  33178147003   2022-08-20   \n",
       "85367  33178147103   2022-08-20   \n",
       "85368  33178147203   2022-08-20   \n",
       "\n",
       "                                            service_name  service_amount  \\\n",
       "0                                        Прием первичный            1470   \n",
       "1      Взятие материала на посев, цитологическое иссл...             284   \n",
       "2      Посев отдел, дыхательных путей - слизистая зев...            1134   \n",
       "3          Общий анализ крови (лейкоцитарная форм,, СОЭ)             693   \n",
       "4                                    Ревматоидный фактор             420   \n",
       "...                                                  ...             ...   \n",
       "85364                                  Общий анализ мочи             495   \n",
       "85365      Общий анализ крови (лейкоцитарная форм,, СОЭ)             800   \n",
       "85366  АЧТВ (активированное частичное тромбопластинов...             300   \n",
       "85367                                   Протромбин (МНО)             410   \n",
       "85368                                    Гепатит В HbsAg             570   \n",
       "\n",
       "       service_number  insured   sex_id  age_for_service_date  year  \\\n",
       "0                   1   490777  женский                    26  2021   \n",
       "1                   1   490777  женский                    26  2021   \n",
       "2                   1   490777  женский                    26  2021   \n",
       "3                   1   490777  женский                    26  2021   \n",
       "4                   1   490777  женский                    26  2021   \n",
       "...               ...      ...      ...                   ...   ...   \n",
       "85364               1   935341  женский                    30  2022   \n",
       "85365               1   935341  женский                    30  2022   \n",
       "85366               1   935341  женский                    30  2022   \n",
       "85367               1   935341  женский                    30  2022   \n",
       "85368               1   935341  женский                    30  2022   \n",
       "\n",
       "      year_month  month  \n",
       "0        2021-01      1  \n",
       "1        2021-01      1  \n",
       "2        2021-01      1  \n",
       "3        2021-01      1  \n",
       "4        2021-01      1  \n",
       "...          ...    ...  \n",
       "85364    2022-08      8  \n",
       "85365    2022-08      8  \n",
       "85366    2022-08      8  \n",
       "85367    2022-08      8  \n",
       "85368    2022-08      8  \n",
       "\n",
       "[85369 rows x 11 columns]"
      ]
     },
     "execution_count": 11,
     "metadata": {},
     "output_type": "execute_result"
    }
   ],
   "source": [
    "# Добавляем столбцы с год, год-месяц, номер месяца:\n",
    "data['year'] = data['service_date'].dt.year\n",
    "data[\"year_month\"] = data[\"service_date\"].dt.to_period(\"M\")\n",
    "data[\"month\"] = pd.to_datetime(data[\"service_date\"]).dt.month\n",
    "data"
   ]
  },
  {
   "cell_type": "markdown",
   "id": "80c551f4",
   "metadata": {},
   "source": [
    "**Добавим стоимость услуг за единицу:**"
   ]
  },
  {
   "cell_type": "code",
   "execution_count": 12,
   "id": "eb7e9ef6",
   "metadata": {},
   "outputs": [
    {
     "data": {
      "text/html": [
       "<div>\n",
       "<style scoped>\n",
       "    .dataframe tbody tr th:only-of-type {\n",
       "        vertical-align: middle;\n",
       "    }\n",
       "\n",
       "    .dataframe tbody tr th {\n",
       "        vertical-align: top;\n",
       "    }\n",
       "\n",
       "    .dataframe thead th {\n",
       "        text-align: right;\n",
       "    }\n",
       "</style>\n",
       "<table border=\"1\" class=\"dataframe\">\n",
       "  <thead>\n",
       "    <tr style=\"text-align: right;\">\n",
       "      <th></th>\n",
       "      <th>record_id</th>\n",
       "      <th>service_date</th>\n",
       "      <th>service_name</th>\n",
       "      <th>service_amount</th>\n",
       "      <th>service_number</th>\n",
       "      <th>insured</th>\n",
       "      <th>sex_id</th>\n",
       "      <th>age_for_service_date</th>\n",
       "      <th>year</th>\n",
       "      <th>year_month</th>\n",
       "      <th>month</th>\n",
       "      <th>per_unit</th>\n",
       "    </tr>\n",
       "  </thead>\n",
       "  <tbody>\n",
       "    <tr>\n",
       "      <th>0</th>\n",
       "      <td>30268157003</td>\n",
       "      <td>2021-01-24</td>\n",
       "      <td>Прием первичный</td>\n",
       "      <td>1470</td>\n",
       "      <td>1</td>\n",
       "      <td>490777</td>\n",
       "      <td>женский</td>\n",
       "      <td>26</td>\n",
       "      <td>2021</td>\n",
       "      <td>2021-01</td>\n",
       "      <td>1</td>\n",
       "      <td>1,470.00</td>\n",
       "    </tr>\n",
       "    <tr>\n",
       "      <th>1</th>\n",
       "      <td>30268157103</td>\n",
       "      <td>2021-01-24</td>\n",
       "      <td>Взятие материала на посев, цитологическое иссл...</td>\n",
       "      <td>284</td>\n",
       "      <td>1</td>\n",
       "      <td>490777</td>\n",
       "      <td>женский</td>\n",
       "      <td>26</td>\n",
       "      <td>2021</td>\n",
       "      <td>2021-01</td>\n",
       "      <td>1</td>\n",
       "      <td>284.00</td>\n",
       "    </tr>\n",
       "    <tr>\n",
       "      <th>2</th>\n",
       "      <td>30268157203</td>\n",
       "      <td>2021-01-24</td>\n",
       "      <td>Посев отдел, дыхательных путей - слизистая зев...</td>\n",
       "      <td>1134</td>\n",
       "      <td>1</td>\n",
       "      <td>490777</td>\n",
       "      <td>женский</td>\n",
       "      <td>26</td>\n",
       "      <td>2021</td>\n",
       "      <td>2021-01</td>\n",
       "      <td>1</td>\n",
       "      <td>1,134.00</td>\n",
       "    </tr>\n",
       "    <tr>\n",
       "      <th>3</th>\n",
       "      <td>30268157303</td>\n",
       "      <td>2021-01-24</td>\n",
       "      <td>Общий анализ крови (лейкоцитарная форм,, СОЭ)</td>\n",
       "      <td>693</td>\n",
       "      <td>1</td>\n",
       "      <td>490777</td>\n",
       "      <td>женский</td>\n",
       "      <td>26</td>\n",
       "      <td>2021</td>\n",
       "      <td>2021-01</td>\n",
       "      <td>1</td>\n",
       "      <td>693.00</td>\n",
       "    </tr>\n",
       "    <tr>\n",
       "      <th>4</th>\n",
       "      <td>30268157403</td>\n",
       "      <td>2021-01-24</td>\n",
       "      <td>Ревматоидный фактор</td>\n",
       "      <td>420</td>\n",
       "      <td>1</td>\n",
       "      <td>490777</td>\n",
       "      <td>женский</td>\n",
       "      <td>26</td>\n",
       "      <td>2021</td>\n",
       "      <td>2021-01</td>\n",
       "      <td>1</td>\n",
       "      <td>420.00</td>\n",
       "    </tr>\n",
       "    <tr>\n",
       "      <th>...</th>\n",
       "      <td>...</td>\n",
       "      <td>...</td>\n",
       "      <td>...</td>\n",
       "      <td>...</td>\n",
       "      <td>...</td>\n",
       "      <td>...</td>\n",
       "      <td>...</td>\n",
       "      <td>...</td>\n",
       "      <td>...</td>\n",
       "      <td>...</td>\n",
       "      <td>...</td>\n",
       "      <td>...</td>\n",
       "    </tr>\n",
       "    <tr>\n",
       "      <th>85364</th>\n",
       "      <td>33178146803</td>\n",
       "      <td>2022-08-20</td>\n",
       "      <td>Общий анализ мочи</td>\n",
       "      <td>495</td>\n",
       "      <td>1</td>\n",
       "      <td>935341</td>\n",
       "      <td>женский</td>\n",
       "      <td>30</td>\n",
       "      <td>2022</td>\n",
       "      <td>2022-08</td>\n",
       "      <td>8</td>\n",
       "      <td>495.00</td>\n",
       "    </tr>\n",
       "    <tr>\n",
       "      <th>85365</th>\n",
       "      <td>33178146903</td>\n",
       "      <td>2022-08-20</td>\n",
       "      <td>Общий анализ крови (лейкоцитарная форм,, СОЭ)</td>\n",
       "      <td>800</td>\n",
       "      <td>1</td>\n",
       "      <td>935341</td>\n",
       "      <td>женский</td>\n",
       "      <td>30</td>\n",
       "      <td>2022</td>\n",
       "      <td>2022-08</td>\n",
       "      <td>8</td>\n",
       "      <td>800.00</td>\n",
       "    </tr>\n",
       "    <tr>\n",
       "      <th>85366</th>\n",
       "      <td>33178147003</td>\n",
       "      <td>2022-08-20</td>\n",
       "      <td>АЧТВ (активированное частичное тромбопластинов...</td>\n",
       "      <td>300</td>\n",
       "      <td>1</td>\n",
       "      <td>935341</td>\n",
       "      <td>женский</td>\n",
       "      <td>30</td>\n",
       "      <td>2022</td>\n",
       "      <td>2022-08</td>\n",
       "      <td>8</td>\n",
       "      <td>300.00</td>\n",
       "    </tr>\n",
       "    <tr>\n",
       "      <th>85367</th>\n",
       "      <td>33178147103</td>\n",
       "      <td>2022-08-20</td>\n",
       "      <td>Протромбин (МНО)</td>\n",
       "      <td>410</td>\n",
       "      <td>1</td>\n",
       "      <td>935341</td>\n",
       "      <td>женский</td>\n",
       "      <td>30</td>\n",
       "      <td>2022</td>\n",
       "      <td>2022-08</td>\n",
       "      <td>8</td>\n",
       "      <td>410.00</td>\n",
       "    </tr>\n",
       "    <tr>\n",
       "      <th>85368</th>\n",
       "      <td>33178147203</td>\n",
       "      <td>2022-08-20</td>\n",
       "      <td>Гепатит В HbsAg</td>\n",
       "      <td>570</td>\n",
       "      <td>1</td>\n",
       "      <td>935341</td>\n",
       "      <td>женский</td>\n",
       "      <td>30</td>\n",
       "      <td>2022</td>\n",
       "      <td>2022-08</td>\n",
       "      <td>8</td>\n",
       "      <td>570.00</td>\n",
       "    </tr>\n",
       "  </tbody>\n",
       "</table>\n",
       "<p>85369 rows × 12 columns</p>\n",
       "</div>"
      ],
      "text/plain": [
       "         record_id service_date  \\\n",
       "0      30268157003   2021-01-24   \n",
       "1      30268157103   2021-01-24   \n",
       "2      30268157203   2021-01-24   \n",
       "3      30268157303   2021-01-24   \n",
       "4      30268157403   2021-01-24   \n",
       "...            ...          ...   \n",
       "85364  33178146803   2022-08-20   \n",
       "85365  33178146903   2022-08-20   \n",
       "85366  33178147003   2022-08-20   \n",
       "85367  33178147103   2022-08-20   \n",
       "85368  33178147203   2022-08-20   \n",
       "\n",
       "                                            service_name  service_amount  \\\n",
       "0                                        Прием первичный            1470   \n",
       "1      Взятие материала на посев, цитологическое иссл...             284   \n",
       "2      Посев отдел, дыхательных путей - слизистая зев...            1134   \n",
       "3          Общий анализ крови (лейкоцитарная форм,, СОЭ)             693   \n",
       "4                                    Ревматоидный фактор             420   \n",
       "...                                                  ...             ...   \n",
       "85364                                  Общий анализ мочи             495   \n",
       "85365      Общий анализ крови (лейкоцитарная форм,, СОЭ)             800   \n",
       "85366  АЧТВ (активированное частичное тромбопластинов...             300   \n",
       "85367                                   Протромбин (МНО)             410   \n",
       "85368                                    Гепатит В HbsAg             570   \n",
       "\n",
       "       service_number  insured   sex_id  age_for_service_date  year  \\\n",
       "0                   1   490777  женский                    26  2021   \n",
       "1                   1   490777  женский                    26  2021   \n",
       "2                   1   490777  женский                    26  2021   \n",
       "3                   1   490777  женский                    26  2021   \n",
       "4                   1   490777  женский                    26  2021   \n",
       "...               ...      ...      ...                   ...   ...   \n",
       "85364               1   935341  женский                    30  2022   \n",
       "85365               1   935341  женский                    30  2022   \n",
       "85366               1   935341  женский                    30  2022   \n",
       "85367               1   935341  женский                    30  2022   \n",
       "85368               1   935341  женский                    30  2022   \n",
       "\n",
       "      year_month  month  per_unit  \n",
       "0        2021-01      1  1,470.00  \n",
       "1        2021-01      1    284.00  \n",
       "2        2021-01      1  1,134.00  \n",
       "3        2021-01      1    693.00  \n",
       "4        2021-01      1    420.00  \n",
       "...          ...    ...       ...  \n",
       "85364    2022-08      8    495.00  \n",
       "85365    2022-08      8    800.00  \n",
       "85366    2022-08      8    300.00  \n",
       "85367    2022-08      8    410.00  \n",
       "85368    2022-08      8    570.00  \n",
       "\n",
       "[85369 rows x 12 columns]"
      ]
     },
     "execution_count": 12,
     "metadata": {},
     "output_type": "execute_result"
    }
   ],
   "source": [
    "data['per_unit'] = data['service_amount']/data['service_number']\n",
    "data"
   ]
  },
  {
   "cell_type": "markdown",
   "id": "2a6be975",
   "metadata": {},
   "source": [
    "**Посмотрим на дубликаты:**"
   ]
  },
  {
   "cell_type": "code",
   "execution_count": 13,
   "id": "223f5a1d",
   "metadata": {},
   "outputs": [
    {
     "data": {
      "text/plain": [
       "0"
      ]
     },
     "execution_count": 13,
     "metadata": {},
     "output_type": "execute_result"
    }
   ],
   "source": [
    "data.duplicated().sum()"
   ]
  },
  {
   "cell_type": "markdown",
   "id": "6f0ac4a8",
   "metadata": {},
   "source": [
    "**Посмотрим на статистику доходов по месяцам**"
   ]
  },
  {
   "cell_type": "code",
   "execution_count": 14,
   "id": "cd49ef19",
   "metadata": {},
   "outputs": [
    {
     "data": {
      "text/html": [
       "<style type=\"text/css\">\n",
       "</style>\n",
       "<table id=\"T_fbdf3\">\n",
       "  <thead>\n",
       "    <tr>\n",
       "      <th class=\"blank level0\" >&nbsp;</th>\n",
       "      <th id=\"T_fbdf3_level0_col0\" class=\"col_heading level0 col0\" >year</th>\n",
       "      <th id=\"T_fbdf3_level0_col1\" class=\"col_heading level0 col1\" >month</th>\n",
       "      <th id=\"T_fbdf3_level0_col2\" class=\"col_heading level0 col2\" >service_amount</th>\n",
       "    </tr>\n",
       "  </thead>\n",
       "  <tbody>\n",
       "    <tr>\n",
       "      <th id=\"T_fbdf3_level0_row0\" class=\"row_heading level0 row0\" >0</th>\n",
       "      <td id=\"T_fbdf3_row0_col0\" class=\"data row0 col0\" >2,021.00</td>\n",
       "      <td id=\"T_fbdf3_row0_col1\" class=\"data row0 col1\" >1.00</td>\n",
       "      <td id=\"T_fbdf3_row0_col2\" class=\"data row0 col2\" >2,265,931.00</td>\n",
       "    </tr>\n",
       "    <tr>\n",
       "      <th id=\"T_fbdf3_level0_row1\" class=\"row_heading level0 row1\" >1</th>\n",
       "      <td id=\"T_fbdf3_row1_col0\" class=\"data row1 col0\" >2,021.00</td>\n",
       "      <td id=\"T_fbdf3_row1_col1\" class=\"data row1 col1\" >2.00</td>\n",
       "      <td id=\"T_fbdf3_row1_col2\" class=\"data row1 col2\" >2,379,125.00</td>\n",
       "    </tr>\n",
       "    <tr>\n",
       "      <th id=\"T_fbdf3_level0_row2\" class=\"row_heading level0 row2\" >2</th>\n",
       "      <td id=\"T_fbdf3_row2_col0\" class=\"data row2 col0\" >2,021.00</td>\n",
       "      <td id=\"T_fbdf3_row2_col1\" class=\"data row2 col1\" >3.00</td>\n",
       "      <td id=\"T_fbdf3_row2_col2\" class=\"data row2 col2\" >3,927,248.00</td>\n",
       "    </tr>\n",
       "    <tr>\n",
       "      <th id=\"T_fbdf3_level0_row3\" class=\"row_heading level0 row3\" >3</th>\n",
       "      <td id=\"T_fbdf3_row3_col0\" class=\"data row3 col0\" >2,021.00</td>\n",
       "      <td id=\"T_fbdf3_row3_col1\" class=\"data row3 col1\" >4.00</td>\n",
       "      <td id=\"T_fbdf3_row3_col2\" class=\"data row3 col2\" >4,380,487.00</td>\n",
       "    </tr>\n",
       "    <tr>\n",
       "      <th id=\"T_fbdf3_level0_row4\" class=\"row_heading level0 row4\" >4</th>\n",
       "      <td id=\"T_fbdf3_row4_col0\" class=\"data row4 col0\" >2,021.00</td>\n",
       "      <td id=\"T_fbdf3_row4_col1\" class=\"data row4 col1\" >5.00</td>\n",
       "      <td id=\"T_fbdf3_row4_col2\" class=\"data row4 col2\" >4,298,978.00</td>\n",
       "    </tr>\n",
       "    <tr>\n",
       "      <th id=\"T_fbdf3_level0_row5\" class=\"row_heading level0 row5\" >5</th>\n",
       "      <td id=\"T_fbdf3_row5_col0\" class=\"data row5 col0\" >2,021.00</td>\n",
       "      <td id=\"T_fbdf3_row5_col1\" class=\"data row5 col1\" >6.00</td>\n",
       "      <td id=\"T_fbdf3_row5_col2\" class=\"data row5 col2\" >4,522,585.00</td>\n",
       "    </tr>\n",
       "    <tr>\n",
       "      <th id=\"T_fbdf3_level0_row6\" class=\"row_heading level0 row6\" >6</th>\n",
       "      <td id=\"T_fbdf3_row6_col0\" class=\"data row6 col0\" >2,021.00</td>\n",
       "      <td id=\"T_fbdf3_row6_col1\" class=\"data row6 col1\" >7.00</td>\n",
       "      <td id=\"T_fbdf3_row6_col2\" class=\"data row6 col2\" >3,872,209.00</td>\n",
       "    </tr>\n",
       "    <tr>\n",
       "      <th id=\"T_fbdf3_level0_row7\" class=\"row_heading level0 row7\" >7</th>\n",
       "      <td id=\"T_fbdf3_row7_col0\" class=\"data row7 col0\" >2,021.00</td>\n",
       "      <td id=\"T_fbdf3_row7_col1\" class=\"data row7 col1\" >8.00</td>\n",
       "      <td id=\"T_fbdf3_row7_col2\" class=\"data row7 col2\" >4,310,989.00</td>\n",
       "    </tr>\n",
       "    <tr>\n",
       "      <th id=\"T_fbdf3_level0_row8\" class=\"row_heading level0 row8\" >8</th>\n",
       "      <td id=\"T_fbdf3_row8_col0\" class=\"data row8 col0\" >2,021.00</td>\n",
       "      <td id=\"T_fbdf3_row8_col1\" class=\"data row8 col1\" >9.00</td>\n",
       "      <td id=\"T_fbdf3_row8_col2\" class=\"data row8 col2\" >4,782,859.00</td>\n",
       "    </tr>\n",
       "    <tr>\n",
       "      <th id=\"T_fbdf3_level0_row9\" class=\"row_heading level0 row9\" >9</th>\n",
       "      <td id=\"T_fbdf3_row9_col0\" class=\"data row9 col0\" >2,021.00</td>\n",
       "      <td id=\"T_fbdf3_row9_col1\" class=\"data row9 col1\" >10.00</td>\n",
       "      <td id=\"T_fbdf3_row9_col2\" class=\"data row9 col2\" >6,063,580.00</td>\n",
       "    </tr>\n",
       "    <tr>\n",
       "      <th id=\"T_fbdf3_level0_row10\" class=\"row_heading level0 row10\" >10</th>\n",
       "      <td id=\"T_fbdf3_row10_col0\" class=\"data row10 col0\" >2,021.00</td>\n",
       "      <td id=\"T_fbdf3_row10_col1\" class=\"data row10 col1\" >11.00</td>\n",
       "      <td id=\"T_fbdf3_row10_col2\" class=\"data row10 col2\" >4,747,330.00</td>\n",
       "    </tr>\n",
       "    <tr>\n",
       "      <th id=\"T_fbdf3_level0_row11\" class=\"row_heading level0 row11\" >11</th>\n",
       "      <td id=\"T_fbdf3_row11_col0\" class=\"data row11 col0\" >2,021.00</td>\n",
       "      <td id=\"T_fbdf3_row11_col1\" class=\"data row11 col1\" >12.00</td>\n",
       "      <td id=\"T_fbdf3_row11_col2\" class=\"data row11 col2\" >5,010,350.00</td>\n",
       "    </tr>\n",
       "    <tr>\n",
       "      <th id=\"T_fbdf3_level0_row12\" class=\"row_heading level0 row12\" >12</th>\n",
       "      <td id=\"T_fbdf3_row12_col0\" class=\"data row12 col0\" >2,022.00</td>\n",
       "      <td id=\"T_fbdf3_row12_col1\" class=\"data row12 col1\" >1.00</td>\n",
       "      <td id=\"T_fbdf3_row12_col2\" class=\"data row12 col2\" >4,800,320.00</td>\n",
       "    </tr>\n",
       "    <tr>\n",
       "      <th id=\"T_fbdf3_level0_row13\" class=\"row_heading level0 row13\" >13</th>\n",
       "      <td id=\"T_fbdf3_row13_col0\" class=\"data row13 col0\" >2,022.00</td>\n",
       "      <td id=\"T_fbdf3_row13_col1\" class=\"data row13 col1\" >2.00</td>\n",
       "      <td id=\"T_fbdf3_row13_col2\" class=\"data row13 col2\" >5,298,235.00</td>\n",
       "    </tr>\n",
       "    <tr>\n",
       "      <th id=\"T_fbdf3_level0_row14\" class=\"row_heading level0 row14\" >14</th>\n",
       "      <td id=\"T_fbdf3_row14_col0\" class=\"data row14 col0\" >2,022.00</td>\n",
       "      <td id=\"T_fbdf3_row14_col1\" class=\"data row14 col1\" >3.00</td>\n",
       "      <td id=\"T_fbdf3_row14_col2\" class=\"data row14 col2\" >6,451,060.00</td>\n",
       "    </tr>\n",
       "    <tr>\n",
       "      <th id=\"T_fbdf3_level0_row15\" class=\"row_heading level0 row15\" >15</th>\n",
       "      <td id=\"T_fbdf3_row15_col0\" class=\"data row15 col0\" >2,022.00</td>\n",
       "      <td id=\"T_fbdf3_row15_col1\" class=\"data row15 col1\" >4.00</td>\n",
       "      <td id=\"T_fbdf3_row15_col2\" class=\"data row15 col2\" >8,035,080.00</td>\n",
       "    </tr>\n",
       "    <tr>\n",
       "      <th id=\"T_fbdf3_level0_row16\" class=\"row_heading level0 row16\" >16</th>\n",
       "      <td id=\"T_fbdf3_row16_col0\" class=\"data row16 col0\" >2,022.00</td>\n",
       "      <td id=\"T_fbdf3_row16_col1\" class=\"data row16 col1\" >5.00</td>\n",
       "      <td id=\"T_fbdf3_row16_col2\" class=\"data row16 col2\" >7,588,110.00</td>\n",
       "    </tr>\n",
       "    <tr>\n",
       "      <th id=\"T_fbdf3_level0_row17\" class=\"row_heading level0 row17\" >17</th>\n",
       "      <td id=\"T_fbdf3_row17_col0\" class=\"data row17 col0\" >2,022.00</td>\n",
       "      <td id=\"T_fbdf3_row17_col1\" class=\"data row17 col1\" >6.00</td>\n",
       "      <td id=\"T_fbdf3_row17_col2\" class=\"data row17 col2\" >6,879,580.00</td>\n",
       "    </tr>\n",
       "    <tr>\n",
       "      <th id=\"T_fbdf3_level0_row18\" class=\"row_heading level0 row18\" >18</th>\n",
       "      <td id=\"T_fbdf3_row18_col0\" class=\"data row18 col0\" >2,022.00</td>\n",
       "      <td id=\"T_fbdf3_row18_col1\" class=\"data row18 col1\" >7.00</td>\n",
       "      <td id=\"T_fbdf3_row18_col2\" class=\"data row18 col2\" >6,216,498.00</td>\n",
       "    </tr>\n",
       "    <tr>\n",
       "      <th id=\"T_fbdf3_level0_row19\" class=\"row_heading level0 row19\" >19</th>\n",
       "      <td id=\"T_fbdf3_row19_col0\" class=\"data row19 col0\" >2,022.00</td>\n",
       "      <td id=\"T_fbdf3_row19_col1\" class=\"data row19 col1\" >8.00</td>\n",
       "      <td id=\"T_fbdf3_row19_col2\" class=\"data row19 col2\" >3,717,779.00</td>\n",
       "    </tr>\n",
       "  </tbody>\n",
       "</table>\n"
      ],
      "text/plain": [
       "<pandas.io.formats.style.Styler at 0x1d8fe272e60>"
      ]
     },
     "execution_count": 14,
     "metadata": {},
     "output_type": "execute_result"
    }
   ],
   "source": [
    "data_rev = data.pivot_table(index = ['year','month'], values='service_amount', aggfunc='sum').reset_index()\n",
    "data_rev.style.format(\"{:,.2f}\") "
   ]
  },
  {
   "cell_type": "markdown",
   "id": "31fe98ff",
   "metadata": {},
   "source": [
    "**Цифры - это хорошо, но лучше визуализировать. Этиим и займёмся**"
   ]
  },
  {
   "cell_type": "code",
   "execution_count": 15,
   "id": "9331511d",
   "metadata": {},
   "outputs": [
    {
     "data": {
      "image/png": "[encoded data removed]",
      "text/plain": [
       "<Figure size 1000x500 with 1 Axes>"
      ]
     },
     "metadata": {},
     "output_type": "display_data"
    }
   ],
   "source": [
    "data_rev.pivot_table(index=['year','month'], values='service_amount', aggfunc='sum') \\\n",
    ".plot(y='service_amount',grid=True,figsize=(10, 5),title='Выручка по месяцам ', kind='barh',color = 'green');"
   ]
  },
  {
   "cell_type": "markdown",
   "id": "89e2f063",
   "metadata": {},
   "source": [
    "Получается самый доходный был Апрель 2022 года"
   ]
  },
  {
   "cell_type": "markdown",
   "id": "2a5cbf57",
   "metadata": {},
   "source": [
    "**Посмотрим на сравнение выручки от года к году**"
   ]
  },
  {
   "cell_type": "code",
   "execution_count": 16,
   "id": "38e0ce7e",
   "metadata": {
    "scrolled": true
   },
   "outputs": [
    {
     "data": {
      "image/png": "[encoded data removed]",
      "text/plain": [
       "<Figure size 2000x700 with 1 Axes>"
      ]
     },
     "metadata": {},
     "output_type": "display_data"
    }
   ],
   "source": [
    "data.pivot_table(\n",
    "    index='month',\n",
    "    columns='year',\n",
    "    values='service_amount',  \n",
    "    aggfunc='sum'  \n",
    ").plot(figsize=(20, 7), grid=True, title='Выручка по годам')\n",
    "\n",
    "plt.show()"
   ]
  },
  {
   "cell_type": "markdown",
   "id": "e19e2a5f",
   "metadata": {},
   "source": [
    "Позитивная динамика видна на лицо, с **ноября 2021 года** цена повышалась, потом чуть-чуть уменьшималь ближе к **августу 2022 года**, к сожалению данных после августа нам не предоставили, стало быть будем работать с тем что есть."
   ]
  },
  {
   "cell_type": "markdown",
   "id": "37316ef1",
   "metadata": {},
   "source": [
    "**Создадим табличку для равного сравнения 2021 и 2022 года**"
   ]
  },
  {
   "cell_type": "markdown",
   "id": "ab19d9c3",
   "metadata": {},
   "source": [
    "Поскольку у нас есть данные только до августа 2022 года, целесообразно сравнивать 2021 до 8 месяца включительно и 2022 до 8 месяца включительно"
   ]
  },
  {
   "cell_type": "code",
   "execution_count": 17,
   "id": "7280f259",
   "metadata": {},
   "outputs": [
    {
     "data": {
      "text/html": [
       "<div>\n",
       "<style scoped>\n",
       "    .dataframe tbody tr th:only-of-type {\n",
       "        vertical-align: middle;\n",
       "    }\n",
       "\n",
       "    .dataframe tbody tr th {\n",
       "        vertical-align: top;\n",
       "    }\n",
       "\n",
       "    .dataframe thead th {\n",
       "        text-align: right;\n",
       "    }\n",
       "</style>\n",
       "<table border=\"1\" class=\"dataframe\">\n",
       "  <thead>\n",
       "    <tr style=\"text-align: right;\">\n",
       "      <th></th>\n",
       "      <th>record_id</th>\n",
       "      <th>service_date</th>\n",
       "      <th>service_name</th>\n",
       "      <th>service_amount</th>\n",
       "      <th>service_number</th>\n",
       "      <th>insured</th>\n",
       "      <th>sex_id</th>\n",
       "      <th>age_for_service_date</th>\n",
       "      <th>year</th>\n",
       "      <th>year_month</th>\n",
       "      <th>month</th>\n",
       "      <th>per_unit</th>\n",
       "    </tr>\n",
       "  </thead>\n",
       "  <tbody>\n",
       "    <tr>\n",
       "      <th>0</th>\n",
       "      <td>30268157003</td>\n",
       "      <td>2021-01-24</td>\n",
       "      <td>Прием первичный</td>\n",
       "      <td>1470</td>\n",
       "      <td>1</td>\n",
       "      <td>490777</td>\n",
       "      <td>женский</td>\n",
       "      <td>26</td>\n",
       "      <td>2021</td>\n",
       "      <td>2021-01</td>\n",
       "      <td>1</td>\n",
       "      <td>1,470.00</td>\n",
       "    </tr>\n",
       "    <tr>\n",
       "      <th>1</th>\n",
       "      <td>30268157103</td>\n",
       "      <td>2021-01-24</td>\n",
       "      <td>Взятие материала на посев, цитологическое иссл...</td>\n",
       "      <td>284</td>\n",
       "      <td>1</td>\n",
       "      <td>490777</td>\n",
       "      <td>женский</td>\n",
       "      <td>26</td>\n",
       "      <td>2021</td>\n",
       "      <td>2021-01</td>\n",
       "      <td>1</td>\n",
       "      <td>284.00</td>\n",
       "    </tr>\n",
       "    <tr>\n",
       "      <th>2</th>\n",
       "      <td>30268157203</td>\n",
       "      <td>2021-01-24</td>\n",
       "      <td>Посев отдел, дыхательных путей - слизистая зев...</td>\n",
       "      <td>1134</td>\n",
       "      <td>1</td>\n",
       "      <td>490777</td>\n",
       "      <td>женский</td>\n",
       "      <td>26</td>\n",
       "      <td>2021</td>\n",
       "      <td>2021-01</td>\n",
       "      <td>1</td>\n",
       "      <td>1,134.00</td>\n",
       "    </tr>\n",
       "    <tr>\n",
       "      <th>3</th>\n",
       "      <td>30268157303</td>\n",
       "      <td>2021-01-24</td>\n",
       "      <td>Общий анализ крови (лейкоцитарная форм,, СОЭ)</td>\n",
       "      <td>693</td>\n",
       "      <td>1</td>\n",
       "      <td>490777</td>\n",
       "      <td>женский</td>\n",
       "      <td>26</td>\n",
       "      <td>2021</td>\n",
       "      <td>2021-01</td>\n",
       "      <td>1</td>\n",
       "      <td>693.00</td>\n",
       "    </tr>\n",
       "    <tr>\n",
       "      <th>4</th>\n",
       "      <td>30268157403</td>\n",
       "      <td>2021-01-24</td>\n",
       "      <td>Ревматоидный фактор</td>\n",
       "      <td>420</td>\n",
       "      <td>1</td>\n",
       "      <td>490777</td>\n",
       "      <td>женский</td>\n",
       "      <td>26</td>\n",
       "      <td>2021</td>\n",
       "      <td>2021-01</td>\n",
       "      <td>1</td>\n",
       "      <td>420.00</td>\n",
       "    </tr>\n",
       "    <tr>\n",
       "      <th>...</th>\n",
       "      <td>...</td>\n",
       "      <td>...</td>\n",
       "      <td>...</td>\n",
       "      <td>...</td>\n",
       "      <td>...</td>\n",
       "      <td>...</td>\n",
       "      <td>...</td>\n",
       "      <td>...</td>\n",
       "      <td>...</td>\n",
       "      <td>...</td>\n",
       "      <td>...</td>\n",
       "      <td>...</td>\n",
       "    </tr>\n",
       "    <tr>\n",
       "      <th>85364</th>\n",
       "      <td>33178146803</td>\n",
       "      <td>2022-08-20</td>\n",
       "      <td>Общий анализ мочи</td>\n",
       "      <td>495</td>\n",
       "      <td>1</td>\n",
       "      <td>935341</td>\n",
       "      <td>женский</td>\n",
       "      <td>30</td>\n",
       "      <td>2022</td>\n",
       "      <td>2022-08</td>\n",
       "      <td>8</td>\n",
       "      <td>495.00</td>\n",
       "    </tr>\n",
       "    <tr>\n",
       "      <th>85365</th>\n",
       "      <td>33178146903</td>\n",
       "      <td>2022-08-20</td>\n",
       "      <td>Общий анализ крови (лейкоцитарная форм,, СОЭ)</td>\n",
       "      <td>800</td>\n",
       "      <td>1</td>\n",
       "      <td>935341</td>\n",
       "      <td>женский</td>\n",
       "      <td>30</td>\n",
       "      <td>2022</td>\n",
       "      <td>2022-08</td>\n",
       "      <td>8</td>\n",
       "      <td>800.00</td>\n",
       "    </tr>\n",
       "    <tr>\n",
       "      <th>85366</th>\n",
       "      <td>33178147003</td>\n",
       "      <td>2022-08-20</td>\n",
       "      <td>АЧТВ (активированное частичное тромбопластинов...</td>\n",
       "      <td>300</td>\n",
       "      <td>1</td>\n",
       "      <td>935341</td>\n",
       "      <td>женский</td>\n",
       "      <td>30</td>\n",
       "      <td>2022</td>\n",
       "      <td>2022-08</td>\n",
       "      <td>8</td>\n",
       "      <td>300.00</td>\n",
       "    </tr>\n",
       "    <tr>\n",
       "      <th>85367</th>\n",
       "      <td>33178147103</td>\n",
       "      <td>2022-08-20</td>\n",
       "      <td>Протромбин (МНО)</td>\n",
       "      <td>410</td>\n",
       "      <td>1</td>\n",
       "      <td>935341</td>\n",
       "      <td>женский</td>\n",
       "      <td>30</td>\n",
       "      <td>2022</td>\n",
       "      <td>2022-08</td>\n",
       "      <td>8</td>\n",
       "      <td>410.00</td>\n",
       "    </tr>\n",
       "    <tr>\n",
       "      <th>85368</th>\n",
       "      <td>33178147203</td>\n",
       "      <td>2022-08-20</td>\n",
       "      <td>Гепатит В HbsAg</td>\n",
       "      <td>570</td>\n",
       "      <td>1</td>\n",
       "      <td>935341</td>\n",
       "      <td>женский</td>\n",
       "      <td>30</td>\n",
       "      <td>2022</td>\n",
       "      <td>2022-08</td>\n",
       "      <td>8</td>\n",
       "      <td>570.00</td>\n",
       "    </tr>\n",
       "  </tbody>\n",
       "</table>\n",
       "<p>67713 rows × 12 columns</p>\n",
       "</div>"
      ],
      "text/plain": [
       "         record_id service_date  \\\n",
       "0      30268157003   2021-01-24   \n",
       "1      30268157103   2021-01-24   \n",
       "2      30268157203   2021-01-24   \n",
       "3      30268157303   2021-01-24   \n",
       "4      30268157403   2021-01-24   \n",
       "...            ...          ...   \n",
       "85364  33178146803   2022-08-20   \n",
       "85365  33178146903   2022-08-20   \n",
       "85366  33178147003   2022-08-20   \n",
       "85367  33178147103   2022-08-20   \n",
       "85368  33178147203   2022-08-20   \n",
       "\n",
       "                                            service_name  service_amount  \\\n",
       "0                                        Прием первичный            1470   \n",
       "1      Взятие материала на посев, цитологическое иссл...             284   \n",
       "2      Посев отдел, дыхательных путей - слизистая зев...            1134   \n",
       "3          Общий анализ крови (лейкоцитарная форм,, СОЭ)             693   \n",
       "4                                    Ревматоидный фактор             420   \n",
       "...                                                  ...             ...   \n",
       "85364                                  Общий анализ мочи             495   \n",
       "85365      Общий анализ крови (лейкоцитарная форм,, СОЭ)             800   \n",
       "85366  АЧТВ (активированное частичное тромбопластинов...             300   \n",
       "85367                                   Протромбин (МНО)             410   \n",
       "85368                                    Гепатит В HbsAg             570   \n",
       "\n",
       "       service_number  insured   sex_id  age_for_service_date  year  \\\n",
       "0                   1   490777  женский                    26  2021   \n",
       "1                   1   490777  женский                    26  2021   \n",
       "2                   1   490777  женский                    26  2021   \n",
       "3                   1   490777  женский                    26  2021   \n",
       "4                   1   490777  женский                    26  2021   \n",
       "...               ...      ...      ...                   ...   ...   \n",
       "85364               1   935341  женский                    30  2022   \n",
       "85365               1   935341  женский                    30  2022   \n",
       "85366               1   935341  женский                    30  2022   \n",
       "85367               1   935341  женский                    30  2022   \n",
       "85368               1   935341  женский                    30  2022   \n",
       "\n",
       "      year_month  month  per_unit  \n",
       "0        2021-01      1  1,470.00  \n",
       "1        2021-01      1    284.00  \n",
       "2        2021-01      1  1,134.00  \n",
       "3        2021-01      1    693.00  \n",
       "4        2021-01      1    420.00  \n",
       "...          ...    ...       ...  \n",
       "85364    2022-08      8    495.00  \n",
       "85365    2022-08      8    800.00  \n",
       "85366    2022-08      8    300.00  \n",
       "85367    2022-08      8    410.00  \n",
       "85368    2022-08      8    570.00  \n",
       "\n",
       "[67713 rows x 12 columns]"
      ]
     },
     "execution_count": 17,
     "metadata": {},
     "output_type": "execute_result"
    }
   ],
   "source": [
    "data_comparable = data.query('month < 9')\n",
    "data_comparable"
   ]
  },
  {
   "cell_type": "markdown",
   "id": "489dfb85",
   "metadata": {},
   "source": [
    "**Сравним доходы исходя из новой таблички**"
   ]
  },
  {
   "cell_type": "code",
   "execution_count": 18,
   "id": "8c2bb51e",
   "metadata": {},
   "outputs": [
    {
     "data": {
      "text/html": [
       "<style type=\"text/css\">\n",
       "</style>\n",
       "<table id=\"T_845ec\">\n",
       "  <thead>\n",
       "    <tr>\n",
       "      <th class=\"blank level0\" >&nbsp;</th>\n",
       "      <th id=\"T_845ec_level0_col0\" class=\"col_heading level0 col0\" >year</th>\n",
       "      <th id=\"T_845ec_level0_col1\" class=\"col_heading level0 col1\" >insured</th>\n",
       "      <th id=\"T_845ec_level0_col2\" class=\"col_heading level0 col2\" >service_amount</th>\n",
       "    </tr>\n",
       "  </thead>\n",
       "  <tbody>\n",
       "    <tr>\n",
       "      <th id=\"T_845ec_level0_row0\" class=\"row_heading level0 row0\" >0</th>\n",
       "      <td id=\"T_845ec_row0_col0\" class=\"data row0 col0\" >2,022</td>\n",
       "      <td id=\"T_845ec_row0_col1\" class=\"data row0 col1\" >40,977</td>\n",
       "      <td id=\"T_845ec_row0_col2\" class=\"data row0 col2\" >48,986,662</td>\n",
       "    </tr>\n",
       "    <tr>\n",
       "      <th id=\"T_845ec_level0_row1\" class=\"row_heading level0 row1\" >1</th>\n",
       "      <td id=\"T_845ec_row1_col0\" class=\"data row1 col0\" >2,021</td>\n",
       "      <td id=\"T_845ec_row1_col1\" class=\"data row1 col1\" >26,736</td>\n",
       "      <td id=\"T_845ec_row1_col2\" class=\"data row1 col2\" >29,957,552</td>\n",
       "    </tr>\n",
       "  </tbody>\n",
       "</table>\n"
      ],
      "text/plain": [
       "<pandas.io.formats.style.Styler at 0x1d8ff3090c0>"
      ]
     },
     "execution_count": 18,
     "metadata": {},
     "output_type": "execute_result"
    }
   ],
   "source": [
    "t = data_comparable.groupby('year').agg(\\\n",
    "            {'insured': 'count',\n",
    "                'service_amount': 'sum',}              \n",
    "            )\\\n",
    "        .sort_values(by=['insured', 'service_amount'], ascending = False).reset_index()\n",
    "t.style.format(\"{:,.0f}\")"
   ]
  },
  {
   "cell_type": "markdown",
   "id": "4e02dfff",
   "metadata": {},
   "source": [
    "Доходы выросли 1.6 раза, пропорционально выросло и количество пользователей"
   ]
  },
  {
   "cell_type": "markdown",
   "id": "dfa0ab8e",
   "metadata": {},
   "source": [
    "### Теперь посмотрим на услуги"
   ]
  },
  {
   "cell_type": "code",
   "execution_count": 73,
   "id": "c04717bf",
   "metadata": {},
   "outputs": [
    {
     "data": {
      "text/plain": [
       "array(['Прием первичный',\n",
       "       'Взятие материала на посев, цитологическое исследование ( риноцитограмма)',\n",
       "       'Посев отдел, дыхательных путей - слизистая зева с определением чувствительности к антибиотикам',\n",
       "       'Общий анализ крови (лейкоцитарная форм,, СОЭ)',\n",
       "       'Ревматоидный фактор', 'С-реактивный белок',\n",
       "       'Взятие крови из периферической вены', 'Магнитотерапия (1 сеанс)',\n",
       "       'УВЧ-терапия (1 сеанс) (1 поле)', 'Прием повторный',\n",
       "       'Смазывание глотки лекарственными формами', 'Взятие мазка',\n",
       "       'Обработка вульвы', 'Обработка шейки матки',\n",
       "       'Гинекологический мазок', 'Общий анализ мочи', 'Креатинин',\n",
       "       'Мочевая кислота', 'Мочевина', 'Общий белок',\n",
       "       'Ультразвуковое исследование почек и надпочечников',\n",
       "       'Ультразвуковое исследование мочевого пузыря',\n",
       "       'ЛПНП (липопротеиды низкой плотности, бета-липопротеиды)',\n",
       "       'Триглицериды', 'Холестерин', 'АЛТ (аланинаминотрансфераза)',\n",
       "       'Альдостерон', 'Кортизол (кровь)', 'Ренин + Ангиотензин 1',\n",
       "       'Т4 св', 'ТТГ (тиреотропин)', 'АСТ (аспартатаминотрансфераза)',\n",
       "       'Билирубин общий', 'Билирубин прямой',\n",
       "       'Ультразвуковое исследование щитовидной железы с ДС сосудов',\n",
       "       'Дуплексное сканирование почечных сосудов',\n",
       "       'Интерференционные токи (1 сеанс) (4 поля)',\n",
       "       'Классический лечебный массаж шейно-воротниковой зоны',\n",
       "       'Контрольный осмотр', 'Фонофорез (1 сеанс) (1 поле)',\n",
       "       'Сеанс рефлексотерапии', 'Прием рефлексотерапевта повторный',\n",
       "       'Классический лечебный массаж спины', 'Эзофагогастродуоденоскопия',\n",
       "       'Инстиляция мочевого пузыря',\n",
       "       'Посев мочи с определением чувствительности  к антибиотикам и бактериофагам',\n",
       "       'Рентгенография грудного отдела (2 снимка)',\n",
       "       'Рентгенография шейного отдела позвоночника (2 снимка)',\n",
       "       'Анемизация слизистой носа', 'Промывание носа методом перемещения',\n",
       "       'Прием ведущего специалиста', 'Удаление серных пробок (за ухо)',\n",
       "       'Т3 св', 'Определение концентрации Витамина D в крови',\n",
       "       'Ультразвуковое исследование гинекология трансвагинально с ДС сосудов',\n",
       "       'Ультразвуковое исследование брюшной полости',\n",
       "       'Исследование соскобов  с поверхн, цервикального канала',\n",
       "       'Исследование соскобов  с поверхн, шейки матки', 'Снятие швов',\n",
       "       'Epstein Barr virus IgM',\n",
       "       'Epstein Barr virus  капсидный антиген IgM', 'Глюкоза крови',\n",
       "       'Cytomegalovirus IgM', 'Herpes simplex virus 1 IgM',\n",
       "       'Herpes human virus 6 IgG',\n",
       "       'Проведение стрептотеста (экспресс-диагностика стрептококковой ангины)',\n",
       "       'Посев отделяемого уретры  с определением чувствительности  к антибиотикам',\n",
       "       'Урологический мазок', 'Прием рефлексотерапевта первичный',\n",
       "       'Прием главного специалиста, врача - эксперта',\n",
       "       'Дуплексное сканирование артерий нижних конечностей',\n",
       "       'Ультразвуковое исследование органов мошонки с ДС сосудов',\n",
       "       'Ультразвуковое исследование предстательной железы с определением остаточной мочи',\n",
       "       'Взятие секрета предстательной железы',\n",
       "       'Исследование сока простаты',\n",
       "       'Общий анализ крови (без лейкоцитарной формулы)',\n",
       "       'Снятие ЭКГ (без интерпретации и описания)',\n",
       "       'Интерпретация ЭКГ с описанием',\n",
       "       'Рентгенография пояснично-крестцового отдела позвоночника (2 снимка)',\n",
       "       'Рентгенография копчика (2 снимка)', 'Железо сывороточное',\n",
       "       'Ферритин', 'Рефрактометрия', 'Подбор цилиндрических очков',\n",
       "       'Исследование глазного дна щелевой лампой (офтальмоскопия)',\n",
       "       'РНК коронавирусов SARS-CoV-2 (COVID-19',\n",
       "       'Посев сока простаты с определением чувствительности  к антибиотикам',\n",
       "       'Осмотр глазного дна в условиях циклоплегии',\n",
       "       'Измерение внутриглазного давления', 'Подбор сферических очков',\n",
       "       'Исследование бинокулярного зрения',\n",
       "       'Дуплексное сканирование брахиоцефальных артерий',\n",
       "       'Ультразвуковое исследование гинекология (сочетанное)',\n",
       "       'Тест Ширмера', 'Расширеная кольпоскопия',\n",
       "       'Перевязка чистая (менее 4 см,кв.)',\n",
       "       'Посев сока простаты с определением чувствительности  к антибиотикам и бактериофагам',\n",
       "       'Рентгенография одного отдела позвоночника: функциональные пробы (сгибание, разгибание (2 снимка)',\n",
       "       'Инсулин', 'АТ к ТПО (тиреопероксидазе)',\n",
       "       'Лазеротерапия (1 сеанс)',\n",
       "       'ПСА общий(простатстатический специфич, антиген)',\n",
       "       'Прием психиатра', 'Инфильтрационная анестезия (малых объемов)',\n",
       "       'Перевязка гнойных ран (менее 4см,кв.)',\n",
       "       'ФСГ (фолликуло-стимулирующий гормон)',\n",
       "       'ЛГ (лютеинезирующий гормон)', 'Пролактин',\n",
       "       'Наложение противоотечного противовоспалительного компресса на крупный сустав',\n",
       "       'Рентгенография органов грудной клетки ( 2 проекции )',\n",
       "       'альфа-амилаза', 'ГГТ (гамма - глютамилтрансфераза)',\n",
       "       'Фосфотаза щелочная', 'Общий анализ кала',\n",
       "       'Исследование кала на скрытую кровь',\n",
       "       'Посев кала на микрофлору с определением чувствительности к антибиотикам',\n",
       "       'Ультразвуковое исследование почек и мочевого пузыря',\n",
       "       'Прием психотерапевта', 'ВИТАМИН В1', 'ВИТАМИН В6',\n",
       "       'Взятие материала для цитологического исследования',\n",
       "       'Исследование отделяемого молочной железы',\n",
       "       'Ультразвуковое исследование молочных желез',\n",
       "       'Гликозилированный гемоглобин', 'Катетеризация мочевого пузыря',\n",
       "       'Установка и снятие носителя аппарата Холтеровского мониторирования ЭКГ',\n",
       "       'Эхокардиография с допплеровским анализом',\n",
       "       'Расшифровка Холтеровского мониторирования ЭКГ', 'Пульсоксиметрия',\n",
       "       'Функция внешнего дыхания',\n",
       "       'Спирография с бронхолитиком (беротек, вентолин)',\n",
       "       'Прием на дому (до МКАД)',\n",
       "       'Рентгенография мелких суставов (стопа, кисть, пяточная кость в 2-проекциях)',\n",
       "       'Трансферрин', 'Скиаскопия',\n",
       "       'Инстилляция лекарственных веществ в конъюнктивную полость',\n",
       "       'Исследование цветоощущения по полихроматическим таблицам',\n",
       "       'Консультация врача перед вакцинацией',\n",
       "       'Вакцинация вакциной \"Пентаксим\"', 'Helicobacter pylori (кал)',\n",
       "       'Рентгенография, рентгеноскопия стандарт (пищевод, желудок, двенадцатиперстная кишка)',\n",
       "       'Фолиевая кислота', 'Мануальная терапия (1 отдел)',\n",
       "       'ЛПВП (липопротеиды высокой плотности, альфа-липопротеиды)',\n",
       "       'Ультразвуковое исследование лимфоузлов (один регион с двух сторон)',\n",
       "       'Вскрытие абсцесса различной локализации',\n",
       "       'Инфильтрационная анестезия (больших объемов)',\n",
       "       'Прием на дому (в пределах до 15 км за МКАД)',\n",
       "       'Ультразвуковое исследование предстательной железы (трансректально)',\n",
       "       'Калий/Натрий/Хлор', 'ЭКГ с нагрузкой',\n",
       "       'Перевязка гнойных ран (более 4см,кв.)',\n",
       "       'Установка и снятие носителя аппарата Холтеровского мониторирования АД',\n",
       "       'Анализ мочи на содержание промежуточных метаболитов катехоламинов (метанефрин, норметанефрин)',\n",
       "       'Расшифровка Холтеровского мониторирования АД',\n",
       "       'Дуплексное сканирование вен нижних конечностей',\n",
       "       'Ультразвуковое исследование мягких тканей (одной области)',\n",
       "       'Кальций ионизированный', 'Кальций общий',\n",
       "       'Глюкозотолерантный тест', 'Постановка компресса эндоурально',\n",
       "       'Туалет слухового прохода',\n",
       "       'Прием мануального терапевта первичный',\n",
       "       'Комплексная мануальная терапия', 'СМТ-форез (1 сеанс) (2 поля)',\n",
       "       'Исследование пунктатов других органов/тканей',\n",
       "       'Гастроскопия с забором биопсии или лечебной манипуляцией',\n",
       "       'Интерференционные токи (1 сеанс) (2 поля)',\n",
       "       'Лейкоцитарная формула', 'СОЭ',\n",
       "       'Гемостазиограмма (Коагулограмма: Антитромбин III, АЧТВ, МНО, Плазминоген, Протромбиновое время, РФМК, Тромбиновое время, Фибриноген, Активность факторов протромбинового комплекса % по Квику)',\n",
       "       'Группа крови', 'Rh-фактор', 'Rubella IgG', 'Rubella IgM',\n",
       "       'Toxoplasma gondii IgG', 'Toxoplasma gondii IgМ',\n",
       "       'Гепатит В HbsAg', 'Гепатит С anti-HCV общие',\n",
       "       'Экспресс - метод определения кампилобактера в биоптате слизистой',\n",
       "       'Диадинамические токи (1 сеанс) (2 поля)', 'Аноскопия',\n",
       "       'Посев отдел, женск. полов. органов - влагалища с определением чувствительности  к антибиотикам',\n",
       "       'Глюкоза крови натощак',\n",
       "       'Глюкоза крови через 120 мин, после нагрузки',\n",
       "       'Общий IgE (иммуноглобулин E)',\n",
       "       'Дуплексное сканирование транскраниальное артерий и вен',\n",
       "       'Антитела к Treponema pallidum (IgG и IgM)',\n",
       "       'АТ к ВИЧ 1/2 типа и АГ р24 - ИФА',\n",
       "       'Посев отдел, женск. полов. органов - цервикального канала с определением чувствительности  к антибиотикам',\n",
       "       'Тимпанометрия', 'Углеводы в кале',\n",
       "       'Ультразвуковое исследование брюшной полости и почек',\n",
       "       'Анализ мочи по Нечипоренко', 'Массаж век (оба глаза)',\n",
       "       'Накожное применение лекарственных препаратов',\n",
       "       'Эндоскопическая визуализация', 'Проведение пробы Манту',\n",
       "       'Интерпретация ЭЭГ с описанием',\n",
       "       'Снятие ЭЭГ (без интерпретации и описания)',\n",
       "       'Анализ кала на яйца гельминтов',\n",
       "       'Посев наружных половых органов с определением чувствительности  к антибиотикам',\n",
       "       'Наложение противоотечного противовоспалительного компресса на мелкий сустав',\n",
       "       'Рентгенография кистей или стоп',\n",
       "       'Рентгенография придаточных пазух носа',\n",
       "       'Проведение комплекса специфических вестибулярных тестов у пациентов с головокружением',\n",
       "       'Взятие соскоба с ногтевых пластинок и гладкой кожи на патогенные грибы',\n",
       "       'Соскоб на грибы',\n",
       "       'В,мышечная инъекция (за 1 процедуру без стоимости лекарств)',\n",
       "       'Chlamydia trachomatis (Соскоб)', 'Mycoplasma spp, (Соскоб)',\n",
       "       'Trichomonas vaginalis (Соскоб)',\n",
       "       'Обзорная рентгенография молочных желез в прямой и косых проекциях',\n",
       "       'Медикаментозная паравертебральная блокада (без стоимости препарата)',\n",
       "       'Посев на анаэробные бактерии с чувствительностью к антибиотикам (Отделяемое из влагалища)',\n",
       "       'Пункция щитовидной или паращитовидной железы (без стоимости гистологического исследования полученного материала)',\n",
       "       'Исследование пунктатов щитовидной железы',\n",
       "       'Прием мануального терапевта повторный',\n",
       "       'Электрофорез (1 сеанс) (2 поля)', 'Chlamydia pneumoniae IgA',\n",
       "       'Chlamydia pneumoniae IgG', 'Chlamydia pneumoniae IgM',\n",
       "       'Mycoplasma pneumoniae IgG', 'Mycoplasma pneumoniae IgM',\n",
       "       'Антитела к возбудителю псевдотуберкулеза',\n",
       "       'Посев отделяемого дыхательных путей - мокрота с определением чувствительности к антибиотикам',\n",
       "       'Наложение фиксирующей повязки', 'Ureaplasma urealiticum (Соскоб)',\n",
       "       'МРТ пояснично-крестцового отдела позвоночника',\n",
       "       'Электронейромиография - исследование нервов одной конечности (руки или ноги) методами стимуляционной миографии',\n",
       "       'Ультразвуковое исследование сустава',\n",
       "       'Рентгенография крупного сустава (2 снимка)',\n",
       "       'Осмотр кожи под увеличением (дерматоскопия)',\n",
       "       'Рентгенография атланто-окципитального сочленения',\n",
       "       'Электронейромиография - исследование нервов второй конечности (руки или ноги) методами стимуляционной миографии',\n",
       "       'Посев отделяемого из ушей с определением чувствительности к антибиотикам (Правое ухо)',\n",
       "       'Исследование кала на дисбактериоз кишечника с определением чувствительности к фагам',\n",
       "       'Урофлуометрия',\n",
       "       'Посев мочи с определением чувствительности  к антибиотикам',\n",
       "       'Посев на грибы (Посев отделяемого уретры)', 'Магний',\n",
       "       'Санация влагалища', 'Альфа-амилаза панкреатическая',\n",
       "       'Фосфор неорганический', 'Паратиреоидный гормон',\n",
       "       'Водно-сифонная проба',\n",
       "       'Прижигание (туширование) при ЛОР патологии',\n",
       "       'АЧТВ (активированное частичное тромбопластиновое время)',\n",
       "       'Протромбин (МНО)', 'Продувание слуховых труб по Политцеру',\n",
       "       'Пневмомассаж барабанной перепонки', 'Промывание лакун миндалин',\n",
       "       'Снятие полимерной повязки', 'Рентгенография костей таза',\n",
       "       'Удаление вросшего ногтя', 'Калий', 'Натрий',\n",
       "       'Cytomegalovirus IgG', 'Echinococcus IgG',\n",
       "       'Epstein Barr virus IgG', 'Herpes simplex virus 1 IgG',\n",
       "       'Herpes simplex virus 2 IgG', 'Herpes simplex virus 2 IgM',\n",
       "       'Глюкоза крови через 60 мин, после нагрузки', 'Периметрия',\n",
       "       'Тредмил-тест',\n",
       "       'Посев отделяемого из ушей с определением чувствительности к антибиотикам (Левое ухо)',\n",
       "       'Дыхательный уреазный тест на Нр ( хеликобактер пилори)',\n",
       "       'Введение лекарственных препаратов в наружный слуховой проход',\n",
       "       'В/в капельная инфузия (за 1 процедуру без стоимости лекарств), длительность  до 60 минут',\n",
       "       'Туалет полости носа', 'МРТ шейного отдела позвоночника',\n",
       "       'Блокада (без стоимости препарата)',\n",
       "       'Mycoplasma genitalium (Соскоб)', 'МРТ головного мозга',\n",
       "       'Соскоб на энтеробиоз',\n",
       "       'Посев урогенитальный с определением чувствительности  к антибиотикам',\n",
       "       'СА-125 (раковый антиген)',\n",
       "       'НЕ4 (секреторный белок 4 эпидидимиса)',\n",
       "       'Вакцинация вакциной MMR II (от кори, краснухи, паротита)',\n",
       "       'Пункция с введением лекарственного средства (без стоимости препарата)',\n",
       "       'Сеанс SIS терапии, длинный цикл, 1 зона',\n",
       "       'Ультразвуковое исследование предстательной железы и органов мошонки (абдоминально)',\n",
       "       'ГСПГ (Глобулин связывающий половые гормоны)', 'Тестостерон',\n",
       "       'Тромбиновое время', 'Фибриноген', 'Билирубин непрямой',\n",
       "       'УЗИ - контроль при пункции', 'Микроальбумин в моче',\n",
       "       'Удаление липомы до 5 см',\n",
       "       'Гистологическое исследование новообразований кожи,подкожной жировой клетчатки,слизистых',\n",
       "       'Аппликационная анестезия',\n",
       "       'Ультразвуковое исследование гинекология абдоминально',\n",
       "       'Консультация психолога (30 минут)', 'МСКТ органов грудной клетки',\n",
       "       'Массаж пояснично-крестцового отдела', 'Кальцитонин',\n",
       "       'АТ к ТГ (тиреоглобулину)', 'АСЛО (антистрептолизин -О)',\n",
       "       'Альбумин', 'Сифилис IgM', 'МРТ коленного сустава',\n",
       "       'Удаление инородного тела мягких тканей',\n",
       "       'Исследование кала на дисбактериоз кишечника с определением чувствительности к фагам и антибиотикам',\n",
       "       'МСКТ исследование околоносовых пазух',\n",
       "       'Прием врача по лечебной физкультуре',\n",
       "       'ЛФК разовое групповое занятие',\n",
       "       'Рентгенография крестцово-подвздошного сочленения',\n",
       "       'Bordetella pertussis (Слюна)', 'Витамин В12', 'Антитромбин III',\n",
       "       'Электронейромиография - Исследование лицевого нерва (методом стимуляционной миографии)',\n",
       "       'Забор ресниц для анализа',\n",
       "       'Исследование соскобов кожи, ресниц на демодекс',\n",
       "       'Гистологическое исследование операционного материала(1-3 препарата одного органа)',\n",
       "       'Биопсия шейки матки радиохирургическим методом, без стоимости гистологического исследования материала',\n",
       "       'Эхоэнцефалография',\n",
       "       'Исследование соскобов и отпечатков опухолей и опухолевидных образований',\n",
       "       'Гистологическое исследование биоптата органов и тканей',\n",
       "       'Эстрадиол',\n",
       "       'Вакцинация вакциной Гепатита В рекомбинантной Комбиотех (детская)',\n",
       "       'HSV 1/2 (вирус простого герпеса 1/2) (Кровь)',\n",
       "       'CMV (цитомегаловирус) (Кровь)',\n",
       "       'Классический лечебный массаж шейно-грудного отдела',\n",
       "       'Лечебная пункция сустава с внутрисуставным введением лекарственного препарата (без стоимости препарата)',\n",
       "       'Катионный протеин эозинофиллов', 'ТВОРОГ IgE', 'СМЕТАНА IgE',\n",
       "       'ЙОГУРТ IgE', 'КЕФИР IgE', 'БЕЛОК КУРИНОГО ЯЙЦА IgE',\n",
       "       'ЖЕЛТОК КУРИНОГО ЯЙЦА IgE', 'КАЗЕИН IgE', 'ГЛЮТЕН IgE',\n",
       "       'Эпителий кошки', 'Эпителий собаки', 'Плесень Aspergillus f',\n",
       "       'Плесень Alternaria alternata', 'Плесень Cladosporium her',\n",
       "       'Клещ домашней пыли D,pteronyssinus',\n",
       "       'Клещ домашней пыли D,farinae',\n",
       "       'Нейросонография с дуплексным сканированием',\n",
       "       'АТ к трансглутаминазе IgA', 'Глиадин IgG', 'Глиадин IgA',\n",
       "       'АТ к трансглутаминазе IgG', 'HPV общий (Соксоб)',\n",
       "       'HSV 1/2 (вирус простого герпеса 1/2) (Соскоб)',\n",
       "       'CMV (цитомегаловирус) (Соскоб)', 'Блокада эндоназальная',\n",
       "       'Липаза', 'HSV 1 (вирус простого герпеса 1) (Слюна)',\n",
       "       'HHV 6 (вирус герпеса 6) (Слюна)', 'CMV (цитомегаловирус) (Слюна)',\n",
       "       'EBV (вирус Эпштейна-Барр) (Слюна)',\n",
       "       'ОЖСС (общая железосвязывающая способность)',\n",
       "       'Наложение фиксирующей повязки сложной',\n",
       "       'Перевязка чистая (более 4 см,кв.)', 'Хлор',\n",
       "       'ПСА свободный(простатстатический специфич, антиген)',\n",
       "       'Определение концентрации Витамина А в крови',\n",
       "       'Определение концентрации Витамина E в крови',\n",
       "       'Кал на расширенный спектр яиц гельминтов и простейшие',\n",
       "       'Тиреоглобулин', 'Мануальная терапия двух сегментов',\n",
       "       'Вакцинация вакциной \"ПОЛИМИЛЕКС\"', 'Пыльца березы', 'Пыльца ежи',\n",
       "       'Пыльца амброзии', 'Пыльца ольхи', 'Пыльца орешника',\n",
       "       'Пыльца полыни', 'Электромиостимуляция', 'Эпителий мыши',\n",
       "       'Эпителий лошади',\n",
       "       'В,в инъекция (за 1 процедуру без стоимости лекарств)',\n",
       "       'Ретикулоциты', 'Ударно-волновая терапия (1 сеанс)',\n",
       "       'Сеанс УФО (ультрафиолетового облучения)',\n",
       "       'Посев кала на возбудителей кишечной инфекции (сальмонеллы, шигеллы)  с определением чувствительности к антибиотикам',\n",
       "       'Рентгенография черепа стандартная (2 снимка)',\n",
       "       'Mycoplasma hominis (Соскоб)', 'Ureaplasma spp, (Соскоб)',\n",
       "       'Gardnerella vaginalis (Соскоб)', 'Neisseria gonorrhoeae (Соскоб)',\n",
       "       'HSV 1 (вирус простого герпеса 1) (Соскоб)',\n",
       "       'HSV 2 (вирус простого герпеса 2) (Соскоб)', 'HPV 16 (Соскоб)',\n",
       "       'HPV 18 (Соскоб)',\n",
       "       'Госпитальный комплекс: (Гепатит В HbsAg, Гепатит С anti-HCV общие, ВИЧ - 1/2 ( СПИД), Антитела к Treponema pallidum',\n",
       "       'Келл', 'Аппликация лекарственных веществ в нос',\n",
       "       'Антиядерные (антинуклеарные) антитела',\n",
       "       'АТ к гладкой мускулатуре',\n",
       "       'Посев с кожи/раневого отделяемого с определением чувствительности к антибиотикам',\n",
       "       'Посев на грибы (Посев с кожи/раневого отделяемого)',\n",
       "       'Посев отдел, дыхательных путей - слизистая носа с определением чувствительности к антибиотикам и бактериофагам (Посев из носа)',\n",
       "       'Риноцитограмма', 'Вестибулярные маневры',\n",
       "       'МСКТ исследование височных костей',\n",
       "       'Ультразвуковое исследование Гайморовых пазух',\n",
       "       'Антитела к коронавирусу SARS-CoV-2 (COVID-19) IgG (Anti- SARS-CoV-2 ELISA (IgG)) (Mindray, Иммунохемилюминесцентный анализ, ИХЛА',\n",
       "       'Антитела к коронавирусу SARS-CoV-2 (COVID-19) IgM (Anti- SARS-CoV-2 ELISA (IgM)) (Mindray, Иммунохемилюминесцентный анализ, ИХЛА',\n",
       "       'Пункция молочной железы, опухолей кожи, лимфоузлов (без стоимости гистологического исследования полученного материала)',\n",
       "       'Исследование пунктатов молочной железы и кожи',\n",
       "       'РЭА (раковый эмбриональный антиген)',\n",
       "       'Удаление инородного тела роговицы', 'Анестезия эпибульбарная',\n",
       "       'Ректороманоскопия',\n",
       "       'Исследование соскобов и отпечатков эрозий, ран, свищей',\n",
       "       'Рентгенография легких в прямой проекции',\n",
       "       'ЛДГ (лактатдегидрогеназа общая)',\n",
       "       'Удаление инородного тела из влагалища',\n",
       "       'СА-15-3 (раковый антиген)', 'Панкреатическая эластаза в кале',\n",
       "       'Ультразвуковое исследование желчного пузыря (функциональная проба)',\n",
       "       'Дуплексное сканирование вен верхних конечностей',\n",
       "       'Удаление радиохирургическим ножом пигментного невуса до 0,5 см',\n",
       "       'Chlamydia trachomatis IgG', 'Chlamydia trachomatis IgM',\n",
       "       'Herpes simplex virus 8 IgG',\n",
       "       'Комбинированная ударно - волновая терапия  (рассеивающий и фокусирующий датчики) - 1 зона, 1 сеанс',\n",
       "       'МРТ гипофиза с контрастированием',\n",
       "       'бета-ХГЧ (бета-хорионический гонадотропин)',\n",
       "       'Исследование ресниц на демодекс',\n",
       "       'Удаление радиохирургическим ножом пигментного невуса свыше 0,5 см',\n",
       "       'Исследование органов слуха с помощью камертона', 'Аудиометрия',\n",
       "       'Хирургическое удаление доброкачественной опухоли кожи',\n",
       "       'Посев отдел, дыхательных путей - слизистая зева с определением чувствительности к антибиотикам и бактериофагам',\n",
       "       'Посев на грибы (Посев отделяемого дыхательных путей слизистая зева)',\n",
       "       'УЗИ плевральной полости', 'Кортизол (суточная моча)',\n",
       "       'Ультразвуковое исследование тазобедренных суставов ( у детей)',\n",
       "       'МРТ головного мозга с контрастированием', 'Д-димер',\n",
       "       'Вскрытие паранихия',\n",
       "       'МСКТ почек и надпочечников с внутривенным болюсным контрастированием',\n",
       "       'Ночное респираторное мониторирование', 'Подбор СРАР терапии',\n",
       "       'Электронейромиография - игольчатая миография одной мышцы',\n",
       "       'Электронейромиография - игольчатая миография второй (каждой последующей) мышцы',\n",
       "       'Белковые фракции', 'Креатинкиназа - МВ',\n",
       "       'Хирургическая обработка раны без наложения швов',\n",
       "       'Ультразвуковое исследование гинекология трансвагинально с ДС сосудов (доктор медицинских наук, профессор, врач-эксперт)',\n",
       "       'Прицельная рентгенография органов грудной клетки', 'Колоноскопия',\n",
       "       'Постановка кожных аллергопроб (за 1 единицу)',\n",
       "       'Посев отдел, дыхательных путей - слизистая носа с определением чувствительности к антибиотикам (из носа)',\n",
       "       'Посев на стафилококк (из носа)', 'Массаж для детей до 3-х лет',\n",
       "       'Прогестерон',\n",
       "       'Ультразвуковое исследование большие сроки беременности (II, III триместр)',\n",
       "       'Пренатальный скрининг 2 триместра (14-21 неделя)',\n",
       "       'Вскрытие панариция',\n",
       "       'Иммобилизация верхней конечности с помощью гипсовой повязки',\n",
       "       'Обнаружение энтеровируса', 'HHV 6 (вирус герпеса 6) (Соскоб)',\n",
       "       'EBV (вирус Эпштейна-Барр) (Соскоб)',\n",
       "       '25-OH витамин D (25-гидроксихолекальциферол)',\n",
       "       'Helicobacter Pylori IgA', 'Helicobacter Pylori IgG',\n",
       "       'Колоноскопия с забором биопсии',\n",
       "       'Посев на иерсинии с чувствительностью к антибиотикам',\n",
       "       'Определение антигена Лямблий в фекалиях ELISA ИФА (USA) lamb',\n",
       "       'Кальпротектин', 'Удаление инородного тела носа',\n",
       "       'Снятие гипсовой повязки (лонгеты)',\n",
       "       'Рентгенография трубчатых костей',\n",
       "       'Ультразвуковое исследование гинекология трансректально',\n",
       "       'Хирургическая обработка локального ожога (менее 1%) 1-2ст',\n",
       "       'Кортизол свободный (суточная моча)',\n",
       "       'Постановка Ямик катетера при синуситах',\n",
       "       'Удаление инородного тела из слухового отверстия',\n",
       "       'Пребывание в палате стационара (дневное до 21:00)',\n",
       "       'Плановое гистологическое исследование материала(3-6 препарата одного органа)',\n",
       "       'Лечение эрозии шейки матки радиохирургическим ножом (свыше 2 см )',\n",
       "       'МСКТ одного сустава', 'МРТ плечевого сустава',\n",
       "       'СА-19-9 (карбогидратный антиген)',\n",
       "       'Соматомедин-С (инсулиноподобный фактор роста)',\n",
       "       'Удаление гемангиомы радиохирургическим методом',\n",
       "       'Взятие материала для гистологического исследования',\n",
       "       'Вскрытие абсцедирующего фурункула',\n",
       "       'Введение турунды с лекарственными формами в нос',\n",
       "       'Массаж предстательной железы', 'Инстиляция и промывание уретры',\n",
       "       'Лечение на аппарате \"Ярило-синхро\" (1 процедура)',\n",
       "       'Аспирационная биопсия без стоимости гистологического исследования материала',\n",
       "       'Гистологическое исследование соскобов и аспиратов из цервикального канала и полости матки',\n",
       "       'Скрининг TORCH-инфекций (Cytomegalovirus IgG, Cytomegalovirus IgM, Herpes simplex virus 1 IgG, Herpes simplex virus 1 IgM, Herpes simplex virus 2 IgG, Herpes simplex virus 2 IgM, Rubella IgG, Rubella IgM, Toxoplasma gondii IgG, Toxoplasma gondii IgМ)',\n",
       "       'Рентгенография ребер, грудины (2 снимка)',\n",
       "       'Вливание лекарственных форм в гортань',\n",
       "       'Комплекс на операцию: (Общий анализ крови (без лейкоцитарной формулы), СОЭ, Лейкоцитарная формула, Группа крови, Rh-фактор, Келл, АЛТ (аланинаминотрансфераза), АСТ (аспартатаминотрансфераза), Билирубин общий, Глюкоза крови, Калий, Натрий, Креатинин, Моче',\n",
       "       'Вакцинация вакциной \"Превенар\"', 'Плесень Penicillium n',\n",
       "       'Эпителий морской свинки', 'Посев на дифтерию (из зева)',\n",
       "       'Криодеструкция папиллом, кондилом, бородавок (1 штука)',\n",
       "       'Передняя тампонада носа', 'Промывание слезных путей (один глаз)',\n",
       "       'Вакцинация вакциной \"ОПВ\"',\n",
       "       'Классический лечебный массаж верхней конечности (1 сеанс)',\n",
       "       'Инъекция в полость халязиона (без стоимости препарата)',\n",
       "       'Проведение Диаскинтеста', 'Вскрытие фурункула (ЛОР орг,)',\n",
       "       'Анализ крови на Витамины B9 (фолиевая кислота) и B12',\n",
       "       'Эндоскопическая эксцизионная биопсия полипа размером до 4 мм (включительно)',\n",
       "       'МРТ брюшной полости и забрюшинного пространства с внутривенным контрастированием',\n",
       "       'МРТ голеностопного сустава', 'Ларингоскопия',\n",
       "       'Агрегация тромбоцитов (с универсальным индуктором агрегации)',\n",
       "       'МСКТ мочевыделительной системы с внутривенным болюсным контрастированием',\n",
       "       'АТ к лямблии IgМ', 'АТ к лямблии суммарный (IgG/IgM)',\n",
       "       'Антитела к шигеллам Зонне',\n",
       "       'Рентгенография одной молочной железы (маммография) (2 проекции - 2 снимка)',\n",
       "       'Антитела к шигеллам Флекснера', 'Toxocara IgG', 'Trichinella IgG',\n",
       "       'Yersinia enterocolitica IgG',\n",
       "       'Авидность IgG антител к Toxoplasma gondii', 'Макропролактин',\n",
       "       'Креатинкиназа общая',\n",
       "       'Классический лечебный массаж сустава (1 сеанс)',\n",
       "       'МСКТ органов малого таза',\n",
       "       'Хирургическая обработка ожога (более 1%) 1-2ст',\n",
       "       'Консультация ведущего специалиста перед вакцинацией',\n",
       "       'Проведение экспресс-теста на определение рН влагалища',\n",
       "       'ГлДГ (глутаматдегидрогеназа)',\n",
       "       'HSV 1 (вирус простого герпеса 1) (Кровь)',\n",
       "       'HSV 2 (вирус простого герпеса 2) (Кровь)',\n",
       "       'Пренатальный скрининг 1 триместра (9-13 недель)',\n",
       "       'С-реактивный белок (ультрачувствительный)',\n",
       "       'Посев отдел, женск. полов. органов - влагалища с определением чувствительности  к антибиотикам и бактериофагам',\n",
       "       'МРТ грудного отдела позвоночника',\n",
       "       'Посев отделяемого из ушей с определением чувствительности к антибиотикам и бактериофагам (Левое ухо)',\n",
       "       'Тотальная внутривенная анестезия от 20 минут до 60 минут',\n",
       "       'гистерорезектоскопия при полипах , РДВ',\n",
       "       'Вакцинация вакциной \"Пероральная полио вакцина (ППВ)\"',\n",
       "       'Ультразвуковое исследование гинекология-ранние сроки беременности',\n",
       "       'Исследование соскобов  с поверхн, Вульвы',\n",
       "       'Посев на анаэробные бактерии с чувствительностью к антибиотикам (Посев эякулята)',\n",
       "       'Интерпретация результатов Диаскинтеста', 'Аполипопротеин А1',\n",
       "       'Удаление инородного тела конъюнктивы',\n",
       "       'Посев эякулята с определением чувствительности  к антибиотикам и бактериофагам',\n",
       "       'Посев мат-ла из стерильн, полостей - пунктаты с определением чувствительности  к антибиотикам',\n",
       "       'Вскрытие гидраденита (за один очаг)',\n",
       "       'Доплерометрия в акушерстве', 'КТГ (кардиотокография) плода',\n",
       "       'Диагностическая аспирация сустава', 'Цинк',\n",
       "       'Вакцинация вакциной \"Эувакс\"', 'МРТ локтевого сустава',\n",
       "       'Коагуляция при носовом кровотечении р/х ножом',\n",
       "       'Удаление атеромы', 'Таракан', 'Эпителий кролика', 'Перо попугая',\n",
       "       'Ureaplasma parvum (Соскоб)',\n",
       "       'Классический лечебный массаж нижней конечности (1 сеанс)',\n",
       "       'Тестостерон свободный',\n",
       "       'Ударно- волновая терапия (урология, гинекология), 1 сеанс',\n",
       "       'Гр ( 8 ) Аллергопанель IgE (Alternaria tenuis, Mucor pusillus, Aspergillus niger, Cladosporium Herb,, Penicillium tardum, Penicillium expansum, Candida albicans, Fusarium oxyspora)',\n",
       "       'П1 (10) Аллергопанель IgE(береза, орешник, ольха, тимофеевка, ежа сборная, овсянница, полынь, лебеда)',\n",
       "       'П2 ( 9 ) Аллергопанель IgE(дуб, мятлик, лисохвост, амброзия, одуванчик, пырей, цветы сирени, подсолнечник)',\n",
       "       '(Б1 (11))Аллергопанель IgE шерсть кошки, шерсть собаки, шерсть овцы, клещ D,pteroniss, клещ D.farina, пыль домашняя, перо подушки, библиотечная пыль)',\n",
       "       'МСКТ головного мозга',\n",
       "       'Иммобилизация нижней конечности с помощью гипсовой повязки',\n",
       "       'Цитологическое исследование стандартное жидкостное 1 препарат',\n",
       "       'Рентгенография носоглотки', 'Удаление инородных тел из глотки',\n",
       "       'Исследование мокроты',\n",
       "       'Промывание лакун миндалин аппаратом \"Тонзиллор\"',\n",
       "       'МРТ головного мозга и гипофиза с контрастированием',\n",
       "       'АКТГ (адренокортикотропный гормон)',\n",
       "       'Рентгенография височно-нижнечелюстного сустава',\n",
       "       'Streptococcus agal, (Соскоб)',\n",
       "       'МРТ крестцово-подвздошных сочленений',\n",
       "       'Взятие посева с коньюктивы глаз', 'Проба с флюоресцином',\n",
       "       'Candida albicans (Соскоб)',\n",
       "       'Посев отделяемого из глаз с определением чувствительности к антибиотикам (Левый глаз)',\n",
       "       'Функциональная проба', 'Пункция гайморовой пазухи',\n",
       "       'ЛДГ 1+2 фракции (HBDH)',\n",
       "       'Расшифровка Холтеровского мониторирования на 12 каналах',\n",
       "       'Кортизол слюна', 'Небулайзеротерапия (1 сеанс)',\n",
       "       'Вскрытие кисты небной миндалины', 'Посев на грибы (Правое ухо)',\n",
       "       'КУФ - терапия (1 сеанс)',\n",
       "       'Рентгенография, рентгеноскопия пищевода',\n",
       "       'Репозиция отломков костей при переломах 3 категория сложности',\n",
       "       'Иммобилизация верхней конечности с помощью полимерной повязки',\n",
       "       'Сигмоидоскопия', 'Взятие соскоба на морфологическое исследование',\n",
       "       'С-пептид', 'Микроальбумин в моче (разовая моча)',\n",
       "       'Исследование кала на Rotavirus A,C',\n",
       "       'Мультипараметрическая МРТ предстательной железы с динамическим контрастированием',\n",
       "       'Гепатит А anti-HAV IgM',\n",
       "       'Удаление перианальных кондилом (без гистологического исследования)',\n",
       "       'Удаление папиллом, бородавок и др, радиохирургическим ножом на теле (1 шт. размером до 5 мм.)',\n",
       "       'МРТ головного мозга с бесконтрастной ангиографией артерий головного мозга',\n",
       "       'Ультразвуковое иследование большие сроки при многоплодной беременности (II, III триместр)',\n",
       "       'Herpes varicella-zoster IgM (вирус ветряной оспы)',\n",
       "       'Посев эякулята с определением чувствительности  к антибиотикам',\n",
       "       'Mycoplasma pneumoniae IgG (титр)',\n",
       "       'Respiratory syncyt, virus IgG', 'Respiratory syncyt, virus IgM',\n",
       "       'Посев отдел, женск. полов. органов - цервикального канала с определением чувствительности  к антибиотикам и бактериофагам',\n",
       "       'Доплерометрия при нейросонографии',\n",
       "       'Электронейромиография - исследование нервно-мышечной передачи (ритмическая стимуляция 5 тестовых мышц)',\n",
       "       'РФМК (растворимые фибрин-мономерные комплексы)',\n",
       "       'Катетеризация слуховой трубы', 'Проинсулин',\n",
       "       '17-OH - гидроксипрогестерон',\n",
       "       'ДЭА-С (дегидроэпиандростерон -сульфат)',\n",
       "       'Исследование отделяемого из влагалища',\n",
       "       'Б2 (12) Аллергопанель IgE (таракан, шерсть морской свинки, шерсть кролика, перхоть лошади, перо попугая, дафния, вата, латекс)',\n",
       "       'Ингаляция (1 сеанс)', 'Bordetella (pertusis) IgG',\n",
       "       'Bordetella (pertusis) IgM', 'Антитела к возбудителю паракоклюша',\n",
       "       'Гепатит В HbeAg', 'Ультразвуковое исследование слюнных желез',\n",
       "       'Серотонин', 'Herpes varicella-zoster IgG (вирус ветряной оспы)',\n",
       "       'Физиотерапия (BTL) (1 сеанс)', 'Гомоцистеин',\n",
       "       'Прием хирурга, первичный', 'Прием гинеколога, первичный',\n",
       "       'Прием мануального терапевта, повторный',\n",
       "       'Прием травматолога-ортопеда, повторный',\n",
       "       'Прием отоларинголога, первичный', 'Прием трапевта, первичный',\n",
       "       'Прием уролога, первичный', 'Прием уролога, повторный',\n",
       "       'Прием терапевта , повторный', 'Прием гинеколога, повторный',\n",
       "       'Прием гастроэнтеролога, первичный', 'Прием невролога, первичный',\n",
       "       'В,в капельная инфузия (за 1 процедуру без стоимости лекарств)',\n",
       "       'Прием эндокринолога, повторный',\n",
       "       'Прием отоларинголога, главного специалиста, врача - эксперта',\n",
       "       'Прием педиатра, повторный', 'Прием хирурга, повторный',\n",
       "       'Обработка вульвы лекарственными препаратами',\n",
       "       'Прием гастроэнтеролога, повторный', 'Прием педиатра,  первичный',\n",
       "       'Прием офтальмолога,  первичный', 'Прием онколога, первичный',\n",
       "       'Прием онколога, повторный', 'Прием невролога, повторный',\n",
       "       'Прием отоларинголога, повторный',\n",
       "       'Прием физиотерапевта, первичный',\n",
       "       'Прием мануального терапевта, первичный',\n",
       "       'Перевязка чистая (менее 4 кв.см.)',\n",
       "       'Прием травматолога-ортопеда, первичный',\n",
       "       'Прием аллерголога, первичный',\n",
       "       'Исследование глазного дна щелевой лампой',\n",
       "       'Инстиляция лекарственных препаратов',\n",
       "       'Прием эндокринолога, первичный', 'Прием ревматолога, первичный',\n",
       "       'МСКТ органов брюшной полости и забрюшинного пространства с внутривенным болюсным контрастированием',\n",
       "       'Гепатит A anti-HAV общие', 'Прием дерматолога, первичный',\n",
       "       'Прием физиотерапевта, повторный', 'Прием кардиолога, первичный',\n",
       "       'Прием дерматолога, повторный',\n",
       "       'Вливание лекарственных форм в ухо',\n",
       "       'Удаление серной пробки  (за одно ухо)',\n",
       "       'Посев на грибы (Левое ухо)',\n",
       "       'Лечебно-диагностическая пункция коленного сустава (без стоимости препарата)',\n",
       "       'Удаление ногтевой пластины',\n",
       "       'Лекарственный электрофорез (1 сеанс) (2 поля)',\n",
       "       'Прием кардиолога, повторный',\n",
       "       'Экспресс - метод определения кампилобактера/хеликобактера в биоптате слизистой',\n",
       "       'Вскрытие карбункула', 'Перевязка гнойных ран (менее 4 кв.см.)',\n",
       "       'Обработка шейки матки лекарственными препаратами',\n",
       "       'Гемостазиограмма (Коагулограмма: Антитромбин III, АЧТВ, МНО, Плазминоген, Протромбиновое время, РФМК, Тромбиновое время, Фибриноген, Активность',\n",
       "       'Прием пульмонолога, повторный', 'Прием проктолога, первичный',\n",
       "       'Прием пульмонолога, первичный',\n",
       "       'МРТ органов малого таза с внутривенным контрастированием',\n",
       "       'Прием офтальмолога, повторный', 'Прием аллерголога, повторный',\n",
       "       'Прием рефлексотерапевта, повторный',\n",
       "       'Снятие швов, одна локализация',\n",
       "       'Проведение комплекса специфических вестибулярных тестов',\n",
       "       'Прием главного специалиста, врача-дерматолога, врача-эксперта',\n",
       "       'Т3 общ, (трийодтиронин)', 'Т4 общ, (тироксин)',\n",
       "       'Прием рефлексотерапевта, первичный', 'Прием нефролога, первичный',\n",
       "       'Прием отоневролога', 'Прием ревматолога, повторный',\n",
       "       'Промывание конъюнктивной полости',\n",
       "       'Цифровая дерматоскопия, 1 элемент',\n",
       "       'Прием невролога, главного специалиста, врача - эксперта',\n",
       "       'HPV 16,31,33,35,35н,58,52,67(в,р.) (Соскоб)',\n",
       "       'Перевязка чистая (более 4 кв.см.)', 'АТ к рецепторам ТТГ',\n",
       "       'Лактат (молочная кислота)',\n",
       "       'Хирургическая обработка раны с наложением швов, одна локализация',\n",
       "       'Core-биопсия молочной железы (без стоимости гистологического исследования)',\n",
       "       'Удаление радиохирургическим ножом беспигментного невуса свыше 0,5 см',\n",
       "       'Bordetella (pertusis) IgA',\n",
       "       'Прием гинеколога, главного специалиста, врача - эксперта',\n",
       "       'Прием гинеколога, профессора',\n",
       "       'Комплекс на операцию: (Общий анализ крови (без лейкоцитарной формулы), СОЭ, Лейкоцитарная формула, Группа крови, Rh-фактор, Келл, АЛТ',\n",
       "       'Chlamydia trachomatis IgA', 'Mycoplasma hominis IgA',\n",
       "       'Mycoplasma hominis IgG', 'Trichomonas vaginalis IgG',\n",
       "       'Ureaplasma urealiticum IgA', 'Ureaplasma urealiticum IgG',\n",
       "       'ДНК ВПЧ выского риска (6,11,44,16,18,26,31,33,35,39,45,51,52,53,56,58, 59,66, 68,73,82 типы) количественный',\n",
       "       'Флороценоз', 'ДРОЖЖИ ПИВНЫЕ IgE', 'Латекс',\n",
       "       'Прием проктолога, повторный',\n",
       "       'Продувание слуховых труб по Политцеру с двух сторон',\n",
       "       'Пневмомассаж барабанных  перепонок с  двух сторон',\n",
       "       'АТ к модифицированному цитруллинированному виментину',\n",
       "       'Антиядерные (антинуклеарные) антитела (титр)',\n",
       "       'АТ к циклическому цитрулиновому пептиду (АТ к ССР)',\n",
       "       'ПЦР-гепатит С (HCV) качественный',\n",
       "       'Прием проктолога, главного специалиста, врача - эксперта',\n",
       "       'Посев отделяемого дыхательных путей - слизистая языка с определением чувствительности  к антибиотикам',\n",
       "       'Туширование лимфоидной ткани на задней стенке глотки и боковых валиков глотки',\n",
       "       'Удаление кожных образований хирургическим путем 1ед, на теле (диаметром до 0.5 см.)',\n",
       "       'Прием нефролога, повторный', 'Гепатит В anti-Hbs',\n",
       "       'Обработка ресничного края век лекарственными препаратами',\n",
       "       'Экспресс-тест Грипп А и В',\n",
       "       'Перевязка гнойных ран (более 4 кв.см.)',\n",
       "       'Прием педиатра, главного специалиста, врача - эксперта',\n",
       "       'Репозиция отломков костей при переломах 1 категория сложности',\n",
       "       'Прием мануального терапевта, ведущего специалиста',\n",
       "       'Проведение хирургической манипуляции 2 степени сложности',\n",
       "       'УЗ-терапия (1 сеанс) (1 поле)',\n",
       "       '(1 E)Аллергопанель IgE (Молоко коровье, Молоко козье, Молоко овечье,Сыр, Творог,Сметана, Йогурт, Кефир )',\n",
       "       '(2 E)Аллергопанель IgE (Пшеничная мука, Ржаная мука, Рис, Гречка, Овес, Перловка, Пшено, Ячменнная крупа )',\n",
       "       '(4 E)Аллергопанель IgE (Говядина, Телятина, Свинина, Баранина, Курица, Индейка, Утка, Гусь)',\n",
       "       'Андростендион', 'Снятие циркулярной гипсовой повязки',\n",
       "       'Гониоскопия',\n",
       "       'Катехоламины (адреналин, норадреналин, дофамин)(сут, моча)',\n",
       "       'Эндоскопическая полипэктомия 1-й кат, ( до 0,5см )',\n",
       "       'Прием анестезиолога, первичный',\n",
       "       'Репозиция отломков костей при переломах 2 категория сложности',\n",
       "       'Антинуклеарные антитела к антигенам (иммуноблот)',\n",
       "       'Прием хирурга, профессора',\n",
       "       'Гр ( 8 ) Аллергопанель IgE (Alternaria tenuis, Mucor pusillus, Aspergillus niger, Cladosporium Herb,, Penicillium tardum, Penicillium expansum, Candida albicans',\n",
       "       'КОРОВЬЕ МОЛОКО IgE', 'ПШЕНИЦА IgE', 'КУРИЦА IgE',\n",
       "       'ДРОЖЖИ ПЕКАРСКИЕ IgE',\n",
       "       'Лечение шейки матки радиохирургическим ножом (диаметром до 2см,)',\n",
       "       'HPV типирование (16,18,31,33,35,39,45,52,56,58,59,66,6,11,44)(Соскоб)',\n",
       "       'Прием логопеда, первичный', 'МОРКОВЬ IgE',\n",
       "       'Обзорная рентгенография почек', 'РЫБА (ТРЕСКА) IgE',\n",
       "       'КЛУБНИКА IgE',\n",
       "       'Иммобилизация нижней конечности с помощью полимерной повязки',\n",
       "       'Коррекция полимерной/гипсовой повязки',\n",
       "       'Прием хирурга, главного специалиста, врача - эксперта',\n",
       "       'АТ к митохондриям', 'Гепатит В Anti-Hbcore IgM',\n",
       "       'Гепатит С: anti-HCV cor IgM', 'Холинэстераза',\n",
       "       'Снятие гипсовой повязки (лонгеты), сложное',\n",
       "       'ВТЭС, внутритканевая электростимуляция (1 сеанс на любую область)',\n",
       "       'Посев на грибы (Посев наружных половых органов)',\n",
       "       'Вскрытие ячменя или мейбомиевой железы, ретенционной кисты',\n",
       "       'Обработка глаза после хирургических манипуляций',\n",
       "       'Прием гастроэнтеролога, ведущего специалиста',\n",
       "       'Лечебно-диагностическая пункция коленного сустава сложная (без стоимости препарата)',\n",
       "       'Антитела к возбудителю иерсиниоза (03; 09)',\n",
       "       'Альфа-амилаза в моче', 'Ascaris IgG',\n",
       "       'Посев отделяемого молочной железы с определением чувствительности к антибиотикам (Левая железа)',\n",
       "       'Посев наружных половых органов с определением чувствительности  к антибиотикам и бактериофагам',\n",
       "       'Opistorchis IgG', 'Снятие полимерной повязки, сложное',\n",
       "       'Посев грудного молока из одной железы с определением чувствительности к антибиотикам (левая железа)',\n",
       "       'Проводниковая анестезия',\n",
       "       'Зондирование слезно-носового канала (с одной стороны)',\n",
       "       'Внутримышечное введение лекарственных средств в триггерные точки (без стоимости препарата), 3 точки',\n",
       "       'АТ к цитоплазме нейтрофилов',\n",
       "       'Блокада срединного нерва при синдроме запястного канала',\n",
       "       'Цистоскопия',\n",
       "       'Прием травматолога-ортопеда, главного специалиста, врача - эксперта',\n",
       "       'Helicobacter pylori (Кровь)', 'Уретроскопия',\n",
       "       'АТ к лямблии суммарный (IgG/IgM) (титр)',\n",
       "       'Сифилис RPR (кардиолипиновый а/ген)', 'Strongiloides IgG',\n",
       "       'Иммунный статус (стандартный) с заключением',\n",
       "       'Светотерапия (1 сеанс)',\n",
       "       'Внутримышечное введение лекарственных средств в триггерные точки (без стоимости препарата), 1 точка',\n",
       "       'Блокада кубитального канала',\n",
       "       'Обработка зоны трофических расстройств, некрэктомия',\n",
       "       'Мочевая кислота, моча',\n",
       "       'Ультразвуковое исследование полового члена с цветным дуплексным (триплексным) сканированием пенильного кровотока (без стоимости препарата)',\n",
       "       'Лечебно-диагностическая пункция плечевого сустава (без стоимости препарата)',\n",
       "       'Шинирование при переломе костей',\n",
       "       'Прием отоларинголога, профессора', 'СА-72-4',\n",
       "       'Гистологическое исследование эндоскопического материала ЖКТ при воспалительных заболеваниях: желудок - многофокусная биопсия',\n",
       "       'Ультразвуковое исследование глазного яблока',\n",
       "       'Ureaplasma T-960 (Соскоб)', 'Альдостерон-рениновое соотношение',\n",
       "       'Экспресс - скрининг гена стрептококка А в мазке',\n",
       "       'Эндоскопическая полипэктомия 2-й категории ( от 0,6 до 1,0см )',\n",
       "       'Прием гастроэнтеролога, главного специалиста, врача - эксперта',\n",
       "       'Удаление подошвенной бородавки (1 кв,см)',\n",
       "       '(3 E)Аллергопанель IgE (Фасоль (бобы), Горох, Чечевица (смесь), Кукуруза, Дрожжи пекарские, Белок куриного яйца, Желток куриного яйца, Яйцо перепелиное)',\n",
       "       'Удаление кожных образований (хирургическим путем)',\n",
       "       'Осложненное удаление радиохирургическим путем (1 ед,)',\n",
       "       'Прием уролога, ведущего специалиста',\n",
       "       'Экспресс-определение лактазной недостаточности при ЭГДС',\n",
       "       'Bordetella pertussis (Соскоб)',\n",
       "       'Прием врача эндокринолога, руководителя направления Блох С.П',\n",
       "       'Боррелия (Burgdorferi) IgM', 'Прием терапевта, первичный',\n",
       "       'Ультразвуковое исследование гинекология трансвагинально',\n",
       "       'Удаление СО2 лазером (бородавка)',\n",
       "       'Рентгенография (цифровая) грудного отдела ( 2 снимка, запись на диск)',\n",
       "       'Рентгенография (цифровая) шейного отдела позвоночника (2 снимка, запись на диск)',\n",
       "       'Рентгенография (цифровая) пояснично-крестцового отдела позвоночника ( 2 снимка, запись на диск)',\n",
       "       'Рентгенография (цифровая) крупного сустава (2 снимка, запись на диск)',\n",
       "       'Мануальная терапия (2 сегмента)',\n",
       "       'Перевязка чистая (менее 4 кв,см.)',\n",
       "       'Ультразвуковое исследование щитовидной железы',\n",
       "       'Рентгенография (цифровая) одного отдела позвоночника: функциональные пробы (сгибание, разгибание, 2 снимка, запись на диск)',\n",
       "       'Прием терапевта на дому (до МКАД)', 'Эндоскопия ЛОР-органов',\n",
       "       'Обзорная рентгенография (цифровая) молочных желез в прямой и косых проекциях ( запись на диск)',\n",
       "       'EBV (вирус Эпштейна-Барр) (Кровь)',\n",
       "       'Рентгенография (цифровая) органов грудной клетки ( 2 проекции, запись на диск )',\n",
       "       'Рентгенография (цифровая) ребер, грудины (2 снимка, запись на диск)',\n",
       "       'Рентгенография (цифровая) придаточных пазух носа ( запись на диск)',\n",
       "       'Промывание околоносовых пазух  и носа методом перемещения',\n",
       "       'Ультразвуковое исследование органов мошонки',\n",
       "       'Рентгенография (цифровая) мелких суставов (стопа, кисть, пяточная кость в 2-проекциях, запись на диск)',\n",
       "       'Перевязка гнойных ран (менее 4 кв,см.)',\n",
       "       'Удаление ушной серы с одной стороны',\n",
       "       'Рентгенография (цифровая) крестцово-подвздошного сочленения ( запись на диск)',\n",
       "       'Вакцинация вакциной \"Ультрикс квадри\"',\n",
       "       'Консультация педиатра перед вакцинацией',\n",
       "       'Рентгенография (цифровая) легких в прямой проекции ( запись на диск)',\n",
       "       'Типирование HLA-В27 (основной иммуногенетический маркер высокой предрасположенности к развитию анкилозирующего спондилита (болезнь Бехтерева) и других связанных серонегативных спондилоартропатий)',\n",
       "       'Рентгенография (цифровая) кистей или стоп ( запись на диск)',\n",
       "       'Боррелия (Burgdorferi) IgG',\n",
       "       'Классический лечебный массаж пояснично-крестцового отдела',\n",
       "       'Эластотонометрия', 'МСКТ исследование одного отдела позвоночника',\n",
       "       'Рентгенография (цифровая) носоглотки ( запись на диск)',\n",
       "       'МРТ тазобедренных суставов',\n",
       "       'Посев отделяемого из ушей с определением чувствительности к антибиотикам и бактериофагам (Правое ухо)',\n",
       "       'Рентгенография (цифровая) копчика (2 снимка, запись на диск)',\n",
       "       'Прием врача эндокринолога, руководителя направления Блох С,П',\n",
       "       'МСКТ мягких тканей шеи с фонацией',\n",
       "       'Epstein Barr virus капсидный антиген IgG',\n",
       "       'Вакцинация вакциной \"Менактра\"',\n",
       "       'Вакцинация вакциной \"Варилрикс\"', 'Ренин'], dtype=object)"
      ]
     },
     "execution_count": 73,
     "metadata": {},
     "output_type": "execute_result"
    }
   ],
   "source": [
    "data['service_name'].unique()"
   ]
  },
  {
   "cell_type": "code",
   "execution_count": 26,
   "id": "6095af4f",
   "metadata": {},
   "outputs": [
    {
     "data": {
      "text/plain": [
       "4488"
      ]
     },
     "execution_count": 26,
     "metadata": {},
     "output_type": "execute_result"
    }
   ],
   "source": [
    "data['insured'].nunique()"
   ]
  },
  {
   "cell_type": "markdown",
   "id": "92e99910",
   "metadata": {},
   "source": [
    "**Очевидно их слишком много для адекватного анализа, попробуем их категоризировать**\n",
    "\n",
    "Создадим словарь и применин его"
   ]
  },
  {
   "cell_type": "code",
   "execution_count": 28,
   "id": "9fdf971d",
   "metadata": {},
   "outputs": [],
   "source": [
    "classification_dict = {'Первичная консультация':['первичный'], \n",
    "                  'Повторная консультация':['повторный'],\n",
    "                  'Анализы': ['анализ', 'белок','мазок','соскоб','исследование'],\n",
    "                  'Узи':['узи','ультразвуковое'], \n",
    "                  'Имунные реакции':['аллерго'], \n",
    "                  'Маммология': ['молочной'], \n",
    "                  'Гинекология': ['цитологи','шейки','гинеколог','матки','эрозия', 'эндометрия'],\n",
    "                  'Хирургия':['папилом','укдаление', 'пункция'],\n",
    "                  'Рентген':['рентгенография', 'мрт'],\n",
    "                  'Перевязка':['перевязка'],\n",
    "                  'Массаж': ['мануальная', 'массаж']\n",
    "}"
   ]
  },
  {
   "cell_type": "code",
   "execution_count": 29,
   "id": "a5164265",
   "metadata": {},
   "outputs": [],
   "source": [
    "def categorize_purpose(purpose):\n",
    "    for category, items_list in classification_dict.items():\n",
    "        for item in items_list:\n",
    "            if item in purpose:\n",
    "                return category\n",
    "    return 'Другое'"
   ]
  },
  {
   "cell_type": "code",
   "execution_count": 38,
   "id": "6246b5c9",
   "metadata": {},
   "outputs": [],
   "source": [
    "data_comparable['category_name']  = data['service_name'].apply(categorize_purpose)"
   ]
  },
  {
   "cell_type": "markdown",
   "id": "60e542d0",
   "metadata": {},
   "source": [
    "**В итоге получились следующие категории, теперь с данными проще работать.**"
   ]
  },
  {
   "cell_type": "code",
   "execution_count": 40,
   "id": "5f2782cf",
   "metadata": {},
   "outputs": [
    {
     "data": {
      "text/plain": [
       "array(['Первичная консультация', 'Анализы', 'Другое',\n",
       "       'Повторная консультация', 'Гинекология', 'Массаж', 'Маммология',\n",
       "       'Рентген', 'Узи', 'Хирургия', 'Имунные реакции'], dtype=object)"
      ]
     },
     "execution_count": 40,
     "metadata": {},
     "output_type": "execute_result"
    }
   ],
   "source": [
    "data_comparable['category_name'].unique()"
   ]
  },
  {
   "cell_type": "code",
   "execution_count": 75,
   "id": "33f0b669",
   "metadata": {
    "scrolled": true
   },
   "outputs": [
    {
     "data": {
      "text/html": [
       "<div>\n",
       "<style scoped>\n",
       "    .dataframe tbody tr th:only-of-type {\n",
       "        vertical-align: middle;\n",
       "    }\n",
       "\n",
       "    .dataframe tbody tr th {\n",
       "        vertical-align: top;\n",
       "    }\n",
       "\n",
       "    .dataframe thead th {\n",
       "        text-align: right;\n",
       "    }\n",
       "</style>\n",
       "<table border=\"1\" class=\"dataframe\">\n",
       "  <thead>\n",
       "    <tr style=\"text-align: right;\">\n",
       "      <th></th>\n",
       "      <th>record_id</th>\n",
       "      <th>service_date</th>\n",
       "      <th>service_name</th>\n",
       "      <th>service_amount</th>\n",
       "      <th>service_number</th>\n",
       "      <th>insured</th>\n",
       "      <th>sex_id</th>\n",
       "      <th>age_for_service_date</th>\n",
       "      <th>year</th>\n",
       "      <th>year_month</th>\n",
       "      <th>month</th>\n",
       "      <th>per_unit</th>\n",
       "      <th>category_name</th>\n",
       "    </tr>\n",
       "  </thead>\n",
       "  <tbody>\n",
       "    <tr>\n",
       "      <th>0</th>\n",
       "      <td>30268157003</td>\n",
       "      <td>2021-01-24</td>\n",
       "      <td>Прием первичный</td>\n",
       "      <td>1470</td>\n",
       "      <td>1</td>\n",
       "      <td>490777</td>\n",
       "      <td>женский</td>\n",
       "      <td>26</td>\n",
       "      <td>2021</td>\n",
       "      <td>2021-01</td>\n",
       "      <td>1</td>\n",
       "      <td>1,470.00</td>\n",
       "      <td>Первичная консультация</td>\n",
       "    </tr>\n",
       "    <tr>\n",
       "      <th>1</th>\n",
       "      <td>30268157103</td>\n",
       "      <td>2021-01-24</td>\n",
       "      <td>Взятие материала на посев, цитологическое иссл...</td>\n",
       "      <td>284</td>\n",
       "      <td>1</td>\n",
       "      <td>490777</td>\n",
       "      <td>женский</td>\n",
       "      <td>26</td>\n",
       "      <td>2021</td>\n",
       "      <td>2021-01</td>\n",
       "      <td>1</td>\n",
       "      <td>284.00</td>\n",
       "      <td>Анализы</td>\n",
       "    </tr>\n",
       "    <tr>\n",
       "      <th>2</th>\n",
       "      <td>30268157203</td>\n",
       "      <td>2021-01-24</td>\n",
       "      <td>Посев отдел, дыхательных путей - слизистая зев...</td>\n",
       "      <td>1134</td>\n",
       "      <td>1</td>\n",
       "      <td>490777</td>\n",
       "      <td>женский</td>\n",
       "      <td>26</td>\n",
       "      <td>2021</td>\n",
       "      <td>2021-01</td>\n",
       "      <td>1</td>\n",
       "      <td>1,134.00</td>\n",
       "      <td>Другое</td>\n",
       "    </tr>\n",
       "    <tr>\n",
       "      <th>3</th>\n",
       "      <td>30268157303</td>\n",
       "      <td>2021-01-24</td>\n",
       "      <td>Общий анализ крови (лейкоцитарная форм,, СОЭ)</td>\n",
       "      <td>693</td>\n",
       "      <td>1</td>\n",
       "      <td>490777</td>\n",
       "      <td>женский</td>\n",
       "      <td>26</td>\n",
       "      <td>2021</td>\n",
       "      <td>2021-01</td>\n",
       "      <td>1</td>\n",
       "      <td>693.00</td>\n",
       "      <td>Анализы</td>\n",
       "    </tr>\n",
       "    <tr>\n",
       "      <th>4</th>\n",
       "      <td>30268157403</td>\n",
       "      <td>2021-01-24</td>\n",
       "      <td>Ревматоидный фактор</td>\n",
       "      <td>420</td>\n",
       "      <td>1</td>\n",
       "      <td>490777</td>\n",
       "      <td>женский</td>\n",
       "      <td>26</td>\n",
       "      <td>2021</td>\n",
       "      <td>2021-01</td>\n",
       "      <td>1</td>\n",
       "      <td>420.00</td>\n",
       "      <td>Другое</td>\n",
       "    </tr>\n",
       "    <tr>\n",
       "      <th>5</th>\n",
       "      <td>30268157503</td>\n",
       "      <td>2021-01-24</td>\n",
       "      <td>С-реактивный белок</td>\n",
       "      <td>420</td>\n",
       "      <td>1</td>\n",
       "      <td>490777</td>\n",
       "      <td>женский</td>\n",
       "      <td>26</td>\n",
       "      <td>2021</td>\n",
       "      <td>2021-01</td>\n",
       "      <td>1</td>\n",
       "      <td>420.00</td>\n",
       "      <td>Анализы</td>\n",
       "    </tr>\n",
       "    <tr>\n",
       "      <th>6</th>\n",
       "      <td>30268157603</td>\n",
       "      <td>2021-01-24</td>\n",
       "      <td>Взятие крови из периферической вены</td>\n",
       "      <td>158</td>\n",
       "      <td>1</td>\n",
       "      <td>490777</td>\n",
       "      <td>женский</td>\n",
       "      <td>26</td>\n",
       "      <td>2021</td>\n",
       "      <td>2021-01</td>\n",
       "      <td>1</td>\n",
       "      <td>158.00</td>\n",
       "      <td>Другое</td>\n",
       "    </tr>\n",
       "    <tr>\n",
       "      <th>7</th>\n",
       "      <td>30268157703</td>\n",
       "      <td>2021-01-26</td>\n",
       "      <td>Прием первичный</td>\n",
       "      <td>1470</td>\n",
       "      <td>1</td>\n",
       "      <td>490777</td>\n",
       "      <td>женский</td>\n",
       "      <td>26</td>\n",
       "      <td>2021</td>\n",
       "      <td>2021-01</td>\n",
       "      <td>1</td>\n",
       "      <td>1,470.00</td>\n",
       "      <td>Первичная консультация</td>\n",
       "    </tr>\n",
       "    <tr>\n",
       "      <th>8</th>\n",
       "      <td>30268157803</td>\n",
       "      <td>2021-01-26</td>\n",
       "      <td>Магнитотерапия (1 сеанс)</td>\n",
       "      <td>1040</td>\n",
       "      <td>1</td>\n",
       "      <td>490777</td>\n",
       "      <td>женский</td>\n",
       "      <td>26</td>\n",
       "      <td>2021</td>\n",
       "      <td>2021-01</td>\n",
       "      <td>1</td>\n",
       "      <td>1,040.00</td>\n",
       "      <td>Другое</td>\n",
       "    </tr>\n",
       "    <tr>\n",
       "      <th>9</th>\n",
       "      <td>30268157903</td>\n",
       "      <td>2021-01-26</td>\n",
       "      <td>УВЧ-терапия (1 сеанс) (1 поле)</td>\n",
       "      <td>1040</td>\n",
       "      <td>1</td>\n",
       "      <td>490777</td>\n",
       "      <td>женский</td>\n",
       "      <td>26</td>\n",
       "      <td>2021</td>\n",
       "      <td>2021-01</td>\n",
       "      <td>1</td>\n",
       "      <td>1,040.00</td>\n",
       "      <td>Другое</td>\n",
       "    </tr>\n",
       "    <tr>\n",
       "      <th>10</th>\n",
       "      <td>30268158003</td>\n",
       "      <td>2021-01-26</td>\n",
       "      <td>Прием повторный</td>\n",
       "      <td>1313</td>\n",
       "      <td>1</td>\n",
       "      <td>490777</td>\n",
       "      <td>женский</td>\n",
       "      <td>26</td>\n",
       "      <td>2021</td>\n",
       "      <td>2021-01</td>\n",
       "      <td>1</td>\n",
       "      <td>1,313.00</td>\n",
       "      <td>Повторная консультация</td>\n",
       "    </tr>\n",
       "    <tr>\n",
       "      <th>11</th>\n",
       "      <td>30268158103</td>\n",
       "      <td>2021-01-26</td>\n",
       "      <td>Смазывание глотки лекарственными формами</td>\n",
       "      <td>263</td>\n",
       "      <td>1</td>\n",
       "      <td>490777</td>\n",
       "      <td>женский</td>\n",
       "      <td>26</td>\n",
       "      <td>2021</td>\n",
       "      <td>2021-01</td>\n",
       "      <td>1</td>\n",
       "      <td>263.00</td>\n",
       "      <td>Другое</td>\n",
       "    </tr>\n",
       "    <tr>\n",
       "      <th>12</th>\n",
       "      <td>30268158203</td>\n",
       "      <td>2021-01-27</td>\n",
       "      <td>Прием повторный</td>\n",
       "      <td>1313</td>\n",
       "      <td>1</td>\n",
       "      <td>232418</td>\n",
       "      <td>женский</td>\n",
       "      <td>25</td>\n",
       "      <td>2021</td>\n",
       "      <td>2021-01</td>\n",
       "      <td>1</td>\n",
       "      <td>1,313.00</td>\n",
       "      <td>Повторная консультация</td>\n",
       "    </tr>\n",
       "    <tr>\n",
       "      <th>13</th>\n",
       "      <td>30268158303</td>\n",
       "      <td>2021-01-27</td>\n",
       "      <td>Взятие мазка</td>\n",
       "      <td>341</td>\n",
       "      <td>1</td>\n",
       "      <td>232418</td>\n",
       "      <td>женский</td>\n",
       "      <td>25</td>\n",
       "      <td>2021</td>\n",
       "      <td>2021-01</td>\n",
       "      <td>1</td>\n",
       "      <td>341.00</td>\n",
       "      <td>Другое</td>\n",
       "    </tr>\n",
       "    <tr>\n",
       "      <th>14</th>\n",
       "      <td>30268158403</td>\n",
       "      <td>2021-01-27</td>\n",
       "      <td>Обработка вульвы</td>\n",
       "      <td>788</td>\n",
       "      <td>1</td>\n",
       "      <td>232418</td>\n",
       "      <td>женский</td>\n",
       "      <td>25</td>\n",
       "      <td>2021</td>\n",
       "      <td>2021-01</td>\n",
       "      <td>1</td>\n",
       "      <td>788.00</td>\n",
       "      <td>Другое</td>\n",
       "    </tr>\n",
       "    <tr>\n",
       "      <th>15</th>\n",
       "      <td>30268158503</td>\n",
       "      <td>2021-01-27</td>\n",
       "      <td>Обработка шейки матки</td>\n",
       "      <td>1208</td>\n",
       "      <td>1</td>\n",
       "      <td>232418</td>\n",
       "      <td>женский</td>\n",
       "      <td>25</td>\n",
       "      <td>2021</td>\n",
       "      <td>2021-01</td>\n",
       "      <td>1</td>\n",
       "      <td>1,208.00</td>\n",
       "      <td>Гинекология</td>\n",
       "    </tr>\n",
       "    <tr>\n",
       "      <th>16</th>\n",
       "      <td>30268158603</td>\n",
       "      <td>2021-01-27</td>\n",
       "      <td>Гинекологический мазок</td>\n",
       "      <td>525</td>\n",
       "      <td>1</td>\n",
       "      <td>232418</td>\n",
       "      <td>женский</td>\n",
       "      <td>25</td>\n",
       "      <td>2021</td>\n",
       "      <td>2021-01</td>\n",
       "      <td>1</td>\n",
       "      <td>525.00</td>\n",
       "      <td>Анализы</td>\n",
       "    </tr>\n",
       "    <tr>\n",
       "      <th>17</th>\n",
       "      <td>30268158703</td>\n",
       "      <td>2021-01-15</td>\n",
       "      <td>Общий анализ крови (лейкоцитарная форм,, СОЭ)</td>\n",
       "      <td>693</td>\n",
       "      <td>1</td>\n",
       "      <td>177372</td>\n",
       "      <td>женский</td>\n",
       "      <td>25</td>\n",
       "      <td>2021</td>\n",
       "      <td>2021-01</td>\n",
       "      <td>1</td>\n",
       "      <td>693.00</td>\n",
       "      <td>Анализы</td>\n",
       "    </tr>\n",
       "    <tr>\n",
       "      <th>18</th>\n",
       "      <td>30268158803</td>\n",
       "      <td>2021-01-15</td>\n",
       "      <td>Общий анализ мочи</td>\n",
       "      <td>431</td>\n",
       "      <td>1</td>\n",
       "      <td>177372</td>\n",
       "      <td>женский</td>\n",
       "      <td>25</td>\n",
       "      <td>2021</td>\n",
       "      <td>2021-01</td>\n",
       "      <td>1</td>\n",
       "      <td>431.00</td>\n",
       "      <td>Анализы</td>\n",
       "    </tr>\n",
       "    <tr>\n",
       "      <th>19</th>\n",
       "      <td>30268158903</td>\n",
       "      <td>2021-01-15</td>\n",
       "      <td>Креатинин</td>\n",
       "      <td>242</td>\n",
       "      <td>1</td>\n",
       "      <td>177372</td>\n",
       "      <td>женский</td>\n",
       "      <td>25</td>\n",
       "      <td>2021</td>\n",
       "      <td>2021-01</td>\n",
       "      <td>1</td>\n",
       "      <td>242.00</td>\n",
       "      <td>Другое</td>\n",
       "    </tr>\n",
       "  </tbody>\n",
       "</table>\n",
       "</div>"
      ],
      "text/plain": [
       "      record_id service_date  \\\n",
       "0   30268157003   2021-01-24   \n",
       "1   30268157103   2021-01-24   \n",
       "2   30268157203   2021-01-24   \n",
       "3   30268157303   2021-01-24   \n",
       "4   30268157403   2021-01-24   \n",
       "5   30268157503   2021-01-24   \n",
       "6   30268157603   2021-01-24   \n",
       "7   30268157703   2021-01-26   \n",
       "8   30268157803   2021-01-26   \n",
       "9   30268157903   2021-01-26   \n",
       "10  30268158003   2021-01-26   \n",
       "11  30268158103   2021-01-26   \n",
       "12  30268158203   2021-01-27   \n",
       "13  30268158303   2021-01-27   \n",
       "14  30268158403   2021-01-27   \n",
       "15  30268158503   2021-01-27   \n",
       "16  30268158603   2021-01-27   \n",
       "17  30268158703   2021-01-15   \n",
       "18  30268158803   2021-01-15   \n",
       "19  30268158903   2021-01-15   \n",
       "\n",
       "                                         service_name  service_amount  \\\n",
       "0                                     Прием первичный            1470   \n",
       "1   Взятие материала на посев, цитологическое иссл...             284   \n",
       "2   Посев отдел, дыхательных путей - слизистая зев...            1134   \n",
       "3       Общий анализ крови (лейкоцитарная форм,, СОЭ)             693   \n",
       "4                                 Ревматоидный фактор             420   \n",
       "5                                  С-реактивный белок             420   \n",
       "6                 Взятие крови из периферической вены             158   \n",
       "7                                     Прием первичный            1470   \n",
       "8                            Магнитотерапия (1 сеанс)            1040   \n",
       "9                      УВЧ-терапия (1 сеанс) (1 поле)            1040   \n",
       "10                                    Прием повторный            1313   \n",
       "11           Смазывание глотки лекарственными формами             263   \n",
       "12                                    Прием повторный            1313   \n",
       "13                                       Взятие мазка             341   \n",
       "14                                   Обработка вульвы             788   \n",
       "15                              Обработка шейки матки            1208   \n",
       "16                             Гинекологический мазок             525   \n",
       "17      Общий анализ крови (лейкоцитарная форм,, СОЭ)             693   \n",
       "18                                  Общий анализ мочи             431   \n",
       "19                                          Креатинин             242   \n",
       "\n",
       "    service_number  insured   sex_id  age_for_service_date  year year_month  \\\n",
       "0                1   490777  женский                    26  2021    2021-01   \n",
       "1                1   490777  женский                    26  2021    2021-01   \n",
       "2                1   490777  женский                    26  2021    2021-01   \n",
       "3                1   490777  женский                    26  2021    2021-01   \n",
       "4                1   490777  женский                    26  2021    2021-01   \n",
       "5                1   490777  женский                    26  2021    2021-01   \n",
       "6                1   490777  женский                    26  2021    2021-01   \n",
       "7                1   490777  женский                    26  2021    2021-01   \n",
       "8                1   490777  женский                    26  2021    2021-01   \n",
       "9                1   490777  женский                    26  2021    2021-01   \n",
       "10               1   490777  женский                    26  2021    2021-01   \n",
       "11               1   490777  женский                    26  2021    2021-01   \n",
       "12               1   232418  женский                    25  2021    2021-01   \n",
       "13               1   232418  женский                    25  2021    2021-01   \n",
       "14               1   232418  женский                    25  2021    2021-01   \n",
       "15               1   232418  женский                    25  2021    2021-01   \n",
       "16               1   232418  женский                    25  2021    2021-01   \n",
       "17               1   177372  женский                    25  2021    2021-01   \n",
       "18               1   177372  женский                    25  2021    2021-01   \n",
       "19               1   177372  женский                    25  2021    2021-01   \n",
       "\n",
       "    month  per_unit           category_name  \n",
       "0       1  1,470.00  Первичная консультация  \n",
       "1       1    284.00                 Анализы  \n",
       "2       1  1,134.00                  Другое  \n",
       "3       1    693.00                 Анализы  \n",
       "4       1    420.00                  Другое  \n",
       "5       1    420.00                 Анализы  \n",
       "6       1    158.00                  Другое  \n",
       "7       1  1,470.00  Первичная консультация  \n",
       "8       1  1,040.00                  Другое  \n",
       "9       1  1,040.00                  Другое  \n",
       "10      1  1,313.00  Повторная консультация  \n",
       "11      1    263.00                  Другое  \n",
       "12      1  1,313.00  Повторная консультация  \n",
       "13      1    341.00                  Другое  \n",
       "14      1    788.00                  Другое  \n",
       "15      1  1,208.00             Гинекология  \n",
       "16      1    525.00                 Анализы  \n",
       "17      1    693.00                 Анализы  \n",
       "18      1    431.00                 Анализы  \n",
       "19      1    242.00                  Другое  "
      ]
     },
     "execution_count": 75,
     "metadata": {},
     "output_type": "execute_result"
    }
   ],
   "source": [
    "data_comparable.head(20)"
   ]
  },
  {
   "cell_type": "markdown",
   "id": "71962748",
   "metadata": {},
   "source": [
    "**Создадим сводную таблицу, чтобы посмотреть на доход от категорий от года к году**"
   ]
  },
  {
   "cell_type": "code",
   "execution_count": 78,
   "id": "f89a900c",
   "metadata": {},
   "outputs": [
    {
     "data": {
      "text/html": [
       "<div>\n",
       "<style scoped>\n",
       "    .dataframe tbody tr th:only-of-type {\n",
       "        vertical-align: middle;\n",
       "    }\n",
       "\n",
       "    .dataframe tbody tr th {\n",
       "        vertical-align: top;\n",
       "    }\n",
       "\n",
       "    .dataframe thead th {\n",
       "        text-align: right;\n",
       "    }\n",
       "</style>\n",
       "<table border=\"1\" class=\"dataframe\">\n",
       "  <thead>\n",
       "    <tr style=\"text-align: right;\">\n",
       "      <th></th>\n",
       "      <th>category_name</th>\n",
       "      <th>year</th>\n",
       "      <th>service_amount</th>\n",
       "    </tr>\n",
       "  </thead>\n",
       "  <tbody>\n",
       "    <tr>\n",
       "      <th>0</th>\n",
       "      <td>Другое</td>\n",
       "      <td>2022</td>\n",
       "      <td>18706554</td>\n",
       "    </tr>\n",
       "    <tr>\n",
       "      <th>1</th>\n",
       "      <td>Другое</td>\n",
       "      <td>2021</td>\n",
       "      <td>12284778</td>\n",
       "    </tr>\n",
       "    <tr>\n",
       "      <th>2</th>\n",
       "      <td>Первичная консультация</td>\n",
       "      <td>2022</td>\n",
       "      <td>11453365</td>\n",
       "    </tr>\n",
       "    <tr>\n",
       "      <th>3</th>\n",
       "      <td>Анализы</td>\n",
       "      <td>2022</td>\n",
       "      <td>8684568</td>\n",
       "    </tr>\n",
       "    <tr>\n",
       "      <th>4</th>\n",
       "      <td>Повторная консультация</td>\n",
       "      <td>2022</td>\n",
       "      <td>7305600</td>\n",
       "    </tr>\n",
       "    <tr>\n",
       "      <th>5</th>\n",
       "      <td>Первичная консультация</td>\n",
       "      <td>2021</td>\n",
       "      <td>6762285</td>\n",
       "    </tr>\n",
       "    <tr>\n",
       "      <th>6</th>\n",
       "      <td>Анализы</td>\n",
       "      <td>2021</td>\n",
       "      <td>4958176</td>\n",
       "    </tr>\n",
       "    <tr>\n",
       "      <th>7</th>\n",
       "      <td>Повторная консультация</td>\n",
       "      <td>2021</td>\n",
       "      <td>4434001</td>\n",
       "    </tr>\n",
       "    <tr>\n",
       "      <th>8</th>\n",
       "      <td>Массаж</td>\n",
       "      <td>2022</td>\n",
       "      <td>2120040</td>\n",
       "    </tr>\n",
       "    <tr>\n",
       "      <th>9</th>\n",
       "      <td>Массаж</td>\n",
       "      <td>2021</td>\n",
       "      <td>1193763</td>\n",
       "    </tr>\n",
       "    <tr>\n",
       "      <th>10</th>\n",
       "      <td>Гинекология</td>\n",
       "      <td>2022</td>\n",
       "      <td>255230</td>\n",
       "    </tr>\n",
       "    <tr>\n",
       "      <th>11</th>\n",
       "      <td>Рентген</td>\n",
       "      <td>2022</td>\n",
       "      <td>213930</td>\n",
       "    </tr>\n",
       "    <tr>\n",
       "      <th>12</th>\n",
       "      <td>Маммология</td>\n",
       "      <td>2022</td>\n",
       "      <td>123085</td>\n",
       "    </tr>\n",
       "    <tr>\n",
       "      <th>13</th>\n",
       "      <td>Рентген</td>\n",
       "      <td>2021</td>\n",
       "      <td>115177</td>\n",
       "    </tr>\n",
       "    <tr>\n",
       "      <th>14</th>\n",
       "      <td>Гинекология</td>\n",
       "      <td>2021</td>\n",
       "      <td>87844</td>\n",
       "    </tr>\n",
       "    <tr>\n",
       "      <th>15</th>\n",
       "      <td>Хирургия</td>\n",
       "      <td>2022</td>\n",
       "      <td>84800</td>\n",
       "    </tr>\n",
       "    <tr>\n",
       "      <th>16</th>\n",
       "      <td>Маммология</td>\n",
       "      <td>2021</td>\n",
       "      <td>82749</td>\n",
       "    </tr>\n",
       "    <tr>\n",
       "      <th>17</th>\n",
       "      <td>Имунные реакции</td>\n",
       "      <td>2022</td>\n",
       "      <td>26440</td>\n",
       "    </tr>\n",
       "    <tr>\n",
       "      <th>18</th>\n",
       "      <td>Узи</td>\n",
       "      <td>2021</td>\n",
       "      <td>21580</td>\n",
       "    </tr>\n",
       "    <tr>\n",
       "      <th>19</th>\n",
       "      <td>Узи</td>\n",
       "      <td>2022</td>\n",
       "      <td>13050</td>\n",
       "    </tr>\n",
       "    <tr>\n",
       "      <th>20</th>\n",
       "      <td>Имунные реакции</td>\n",
       "      <td>2021</td>\n",
       "      <td>11319</td>\n",
       "    </tr>\n",
       "    <tr>\n",
       "      <th>21</th>\n",
       "      <td>Хирургия</td>\n",
       "      <td>2021</td>\n",
       "      <td>5880</td>\n",
       "    </tr>\n",
       "  </tbody>\n",
       "</table>\n",
       "</div>"
      ],
      "text/plain": [
       "             category_name  year  service_amount\n",
       "0                   Другое  2022        18706554\n",
       "1                   Другое  2021        12284778\n",
       "2   Первичная консультация  2022        11453365\n",
       "3                  Анализы  2022         8684568\n",
       "4   Повторная консультация  2022         7305600\n",
       "5   Первичная консультация  2021         6762285\n",
       "6                  Анализы  2021         4958176\n",
       "7   Повторная консультация  2021         4434001\n",
       "8                   Массаж  2022         2120040\n",
       "9                   Массаж  2021         1193763\n",
       "10             Гинекология  2022          255230\n",
       "11                 Рентген  2022          213930\n",
       "12              Маммология  2022          123085\n",
       "13                 Рентген  2021          115177\n",
       "14             Гинекология  2021           87844\n",
       "15                Хирургия  2022           84800\n",
       "16              Маммология  2021           82749\n",
       "17         Имунные реакции  2022           26440\n",
       "18                     Узи  2021           21580\n",
       "19                     Узи  2022           13050\n",
       "20         Имунные реакции  2021           11319\n",
       "21                Хирургия  2021            5880"
      ]
     },
     "execution_count": 78,
     "metadata": {},
     "output_type": "execute_result"
    }
   ],
   "source": [
    "data_srav = data_comparable.pivot_table(index = ['category_name', 'year'], values = 'service_amount', aggfunc='sum')\\\n",
    ".sort_values(by = 'service_amount', ascending = False).reset_index()\n",
    "data_srav"
   ]
  },
  {
   "cell_type": "markdown",
   "id": "6072dc6e",
   "metadata": {},
   "source": [
    "**На цифрах не очень понятно, поэтому нарисуем граффик для визуализации**"
   ]
  },
  {
   "cell_type": "code",
   "execution_count": 77,
   "id": "8d856b6f",
   "metadata": {},
   "outputs": [
    {
     "data": {
      "application/vnd.plotly.v1+json": {
       "config": {
        "plotlyServerURL": "https://plot.ly"
       },
       "data": [
        {
         "alignmentgroup": "True",
         "hovertemplate": "category_name=Хирургия<br>year=%{x}<br>service_amount=%{y}<extra></extra>",
         "legendgroup": "Хирургия",
         "marker": {
          "color": "#636efa",
          "pattern": {
           "shape": ""
          }
         },
         "name": "Хирургия",
         "offsetgroup": "Хирургия",
         "orientation": "v",
         "showlegend": true,
         "textposition": "auto",
         "type": "bar",
         "x": [
          2021,
          2022
         ],
         "xaxis": "x",
         "y": [
          5880,
          84800
         ],
         "yaxis": "y"
        },
        {
         "alignmentgroup": "True",
         "hovertemplate": "category_name=Узи<br>year=%{x}<br>service_amount=%{y}<extra></extra>",
         "legendgroup": "Узи",
         "marker": {
          "color": "#EF553B",
          "pattern": {
           "shape": ""
          }
         },
         "name": "Узи",
         "offsetgroup": "Узи",
         "orientation": "v",
         "showlegend": true,
         "textposition": "auto",
         "type": "bar",
         "x": [
          2022,
          2021
         ],
         "xaxis": "x",
         "y": [
          13050,
          21580
         ],
         "yaxis": "y"
        },
        {
         "alignmentgroup": "True",
         "hovertemplate": "category_name=Рентген<br>year=%{x}<br>service_amount=%{y}<extra></extra>",
         "legendgroup": "Рентген",
         "marker": {
          "color": "#00cc96",
          "pattern": {
           "shape": ""
          }
         },
         "name": "Рентген",
         "offsetgroup": "Рентген",
         "orientation": "v",
         "showlegend": true,
         "textposition": "auto",
         "type": "bar",
         "x": [
          2021,
          2022
         ],
         "xaxis": "x",
         "y": [
          115177,
          213930
         ],
         "yaxis": "y"
        },
        {
         "alignmentgroup": "True",
         "hovertemplate": "category_name=Повторная консультация<br>year=%{x}<br>service_amount=%{y}<extra></extra>",
         "legendgroup": "Повторная консультация",
         "marker": {
          "color": "#ab63fa",
          "pattern": {
           "shape": ""
          }
         },
         "name": "Повторная консультация",
         "offsetgroup": "Повторная консультация",
         "orientation": "v",
         "showlegend": true,
         "textposition": "auto",
         "type": "bar",
         "x": [
          2021,
          2022
         ],
         "xaxis": "x",
         "y": [
          4434001,
          7305600
         ],
         "yaxis": "y"
        },
        {
         "alignmentgroup": "True",
         "hovertemplate": "category_name=Первичная консультация<br>year=%{x}<br>service_amount=%{y}<extra></extra>",
         "legendgroup": "Первичная консультация",
         "marker": {
          "color": "#FFA15A",
          "pattern": {
           "shape": ""
          }
         },
         "name": "Первичная консультация",
         "offsetgroup": "Первичная консультация",
         "orientation": "v",
         "showlegend": true,
         "textposition": "auto",
         "type": "bar",
         "x": [
          2021,
          2022
         ],
         "xaxis": "x",
         "y": [
          6762285,
          11453365
         ],
         "yaxis": "y"
        },
        {
         "alignmentgroup": "True",
         "hovertemplate": "category_name=Массаж<br>year=%{x}<br>service_amount=%{y}<extra></extra>",
         "legendgroup": "Массаж",
         "marker": {
          "color": "#19d3f3",
          "pattern": {
           "shape": ""
          }
         },
         "name": "Массаж",
         "offsetgroup": "Массаж",
         "orientation": "v",
         "showlegend": true,
         "textposition": "auto",
         "type": "bar",
         "x": [
          2022,
          2021
         ],
         "xaxis": "x",
         "y": [
          2120040,
          1193763
         ],
         "yaxis": "y"
        },
        {
         "alignmentgroup": "True",
         "hovertemplate": "category_name=Маммология<br>year=%{x}<br>service_amount=%{y}<extra></extra>",
         "legendgroup": "Маммология",
         "marker": {
          "color": "#FF6692",
          "pattern": {
           "shape": ""
          }
         },
         "name": "Маммология",
         "offsetgroup": "Маммология",
         "orientation": "v",
         "showlegend": true,
         "textposition": "auto",
         "type": "bar",
         "x": [
          2022,
          2021
         ],
         "xaxis": "x",
         "y": [
          123085,
          82749
         ],
         "yaxis": "y"
        },
        {
         "alignmentgroup": "True",
         "hovertemplate": "category_name=Имунные реакции<br>year=%{x}<br>service_amount=%{y}<extra></extra>",
         "legendgroup": "Имунные реакции",
         "marker": {
          "color": "#B6E880",
          "pattern": {
           "shape": ""
          }
         },
         "name": "Имунные реакции",
         "offsetgroup": "Имунные реакции",
         "orientation": "v",
         "showlegend": true,
         "textposition": "auto",
         "type": "bar",
         "x": [
          2022,
          2021
         ],
         "xaxis": "x",
         "y": [
          26440,
          11319
         ],
         "yaxis": "y"
        },
        {
         "alignmentgroup": "True",
         "hovertemplate": "category_name=Другое<br>year=%{x}<br>service_amount=%{y}<extra></extra>",
         "legendgroup": "Другое",
         "marker": {
          "color": "#FF97FF",
          "pattern": {
           "shape": ""
          }
         },
         "name": "Другое",
         "offsetgroup": "Другое",
         "orientation": "v",
         "showlegend": true,
         "textposition": "auto",
         "type": "bar",
         "x": [
          2021,
          2022
         ],
         "xaxis": "x",
         "y": [
          12284778,
          18706554
         ],
         "yaxis": "y"
        },
        {
         "alignmentgroup": "True",
         "hovertemplate": "category_name=Гинекология<br>year=%{x}<br>service_amount=%{y}<extra></extra>",
         "legendgroup": "Гинекология",
         "marker": {
          "color": "#FECB52",
          "pattern": {
           "shape": ""
          }
         },
         "name": "Гинекология",
         "offsetgroup": "Гинекология",
         "orientation": "v",
         "showlegend": true,
         "textposition": "auto",
         "type": "bar",
         "x": [
          2022,
          2021
         ],
         "xaxis": "x",
         "y": [
          255230,
          87844
         ],
         "yaxis": "y"
        },
        {
         "alignmentgroup": "True",
         "hovertemplate": "category_name=Анализы<br>year=%{x}<br>service_amount=%{y}<extra></extra>",
         "legendgroup": "Анализы",
         "marker": {
          "color": "#636efa",
          "pattern": {
           "shape": ""
          }
         },
         "name": "Анализы",
         "offsetgroup": "Анализы",
         "orientation": "v",
         "showlegend": true,
         "textposition": "auto",
         "type": "bar",
         "x": [
          2021,
          2022
         ],
         "xaxis": "x",
         "y": [
          4958176,
          8684568
         ],
         "yaxis": "y"
        }
       ],
       "layout": {
        "barmode": "relative",
        "height": 800,
        "legend": {
         "title": {
          "text": "category_name"
         },
         "tracegroupgap": 0
        },
        "margin": {
         "t": 60
        },
        "template": {
         "data": {
          "bar": [
           {
            "error_x": {
             "color": "#2a3f5f"
            },
            "error_y": {
             "color": "#2a3f5f"
            },
            "marker": {
             "line": {
              "color": "#E5ECF6",
              "width": 0.5
             },
             "pattern": {
              "fillmode": "overlay",
              "size": 10,
              "solidity": 0.2
             }
            },
            "type": "bar"
           }
          ],
          "barpolar": [
           {
            "marker": {
             "line": {
              "color": "#E5ECF6",
              "width": 0.5
             },
             "pattern": {
              "fillmode": "overlay",
              "size": 10,
              "solidity": 0.2
             }
            },
            "type": "barpolar"
           }
          ],
          "carpet": [
           {
            "aaxis": {
             "endlinecolor": "#2a3f5f",
             "gridcolor": "white",
             "linecolor": "white",
             "minorgridcolor": "white",
             "startlinecolor": "#2a3f5f"
            },
            "baxis": {
             "endlinecolor": "#2a3f5f",
             "gridcolor": "white",
             "linecolor": "white",
             "minorgridcolor": "white",
             "startlinecolor": "#2a3f5f"
            },
            "type": "carpet"
           }
          ],
          "choropleth": [
           {
            "colorbar": {
             "outlinewidth": 0,
             "ticks": ""
            },
            "type": "choropleth"
           }
          ],
          "contour": [
           {
            "colorbar": {
             "outlinewidth": 0,
             "ticks": ""
            },
            "colorscale": [
             [
              0,
              "#0d0887"
             ],
             [
              0.1111111111111111,
              "#46039f"
             ],
             [
              0.2222222222222222,
              "#7201a8"
             ],
             [
              0.3333333333333333,
              "#9c179e"
             ],
             [
              0.4444444444444444,
              "#bd3786"
             ],
             [
              0.5555555555555556,
              "#d8576b"
             ],
             [
              0.6666666666666666,
              "#ed7953"
             ],
             [
              0.7777777777777778,
              "#fb9f3a"
             ],
             [
              0.8888888888888888,
              "#fdca26"
             ],
             [
              1,
              "#f0f921"
             ]
            ],
            "type": "contour"
           }
          ],
          "contourcarpet": [
           {
            "colorbar": {
             "outlinewidth": 0,
             "ticks": ""
            },
            "type": "contourcarpet"
           }
          ],
          "heatmap": [
           {
            "colorbar": {
             "outlinewidth": 0,
             "ticks": ""
            },
            "colorscale": [
             [
              0,
              "#0d0887"
             ],
             [
              0.1111111111111111,
              "#46039f"
             ],
             [
              0.2222222222222222,
              "#7201a8"
             ],
             [
              0.3333333333333333,
              "#9c179e"
             ],
             [
              0.4444444444444444,
              "#bd3786"
             ],
             [
              0.5555555555555556,
              "#d8576b"
             ],
             [
              0.6666666666666666,
              "#ed7953"
             ],
             [
              0.7777777777777778,
              "#fb9f3a"
             ],
             [
              0.8888888888888888,
              "#fdca26"
             ],
             [
              1,
              "#f0f921"
             ]
            ],
            "type": "heatmap"
           }
          ],
          "heatmapgl": [
           {
            "colorbar": {
             "outlinewidth": 0,
             "ticks": ""
            },
            "colorscale": [
             [
              0,
              "#0d0887"
             ],
             [
              0.1111111111111111,
              "#46039f"
             ],
             [
              0.2222222222222222,
              "#7201a8"
             ],
             [
              0.3333333333333333,
              "#9c179e"
             ],
             [
              0.4444444444444444,
              "#bd3786"
             ],
             [
              0.5555555555555556,
              "#d8576b"
             ],
             [
              0.6666666666666666,
              "#ed7953"
             ],
             [
              0.7777777777777778,
              "#fb9f3a"
             ],
             [
              0.8888888888888888,
              "#fdca26"
             ],
             [
              1,
              "#f0f921"
             ]
            ],
            "type": "heatmapgl"
           }
          ],
          "histogram": [
           {
            "marker": {
             "pattern": {
              "fillmode": "overlay",
              "size": 10,
              "solidity": 0.2
             }
            },
            "type": "histogram"
           }
          ],
          "histogram2d": [
           {
            "colorbar": {
             "outlinewidth": 0,
             "ticks": ""
            },
            "colorscale": [
             [
              0,
              "#0d0887"
             ],
             [
              0.1111111111111111,
              "#46039f"
             ],
             [
              0.2222222222222222,
              "#7201a8"
             ],
             [
              0.3333333333333333,
              "#9c179e"
             ],
             [
              0.4444444444444444,
              "#bd3786"
             ],
             [
              0.5555555555555556,
              "#d8576b"
             ],
             [
              0.6666666666666666,
              "#ed7953"
             ],
             [
              0.7777777777777778,
              "#fb9f3a"
             ],
             [
              0.8888888888888888,
              "#fdca26"
             ],
             [
              1,
              "#f0f921"
             ]
            ],
            "type": "histogram2d"
           }
          ],
          "histogram2dcontour": [
           {
            "colorbar": {
             "outlinewidth": 0,
             "ticks": ""
            },
            "colorscale": [
             [
              0,
              "#0d0887"
             ],
             [
              0.1111111111111111,
              "#46039f"
             ],
             [
              0.2222222222222222,
              "#7201a8"
             ],
             [
              0.3333333333333333,
              "#9c179e"
             ],
             [
              0.4444444444444444,
              "#bd3786"
             ],
             [
              0.5555555555555556,
              "#d8576b"
             ],
             [
              0.6666666666666666,
              "#ed7953"
             ],
             [
              0.7777777777777778,
              "#fb9f3a"
             ],
             [
              0.8888888888888888,
              "#fdca26"
             ],
             [
              1,
              "#f0f921"
             ]
            ],
            "type": "histogram2dcontour"
           }
          ],
          "mesh3d": [
           {
            "colorbar": {
             "outlinewidth": 0,
             "ticks": ""
            },
            "type": "mesh3d"
           }
          ],
          "parcoords": [
           {
            "line": {
             "colorbar": {
              "outlinewidth": 0,
              "ticks": ""
             }
            },
            "type": "parcoords"
           }
          ],
          "pie": [
           {
            "automargin": true,
            "type": "pie"
           }
          ],
          "scatter": [
           {
            "fillpattern": {
             "fillmode": "overlay",
             "size": 10,
             "solidity": 0.2
            },
            "type": "scatter"
           }
          ],
          "scatter3d": [
           {
            "line": {
             "colorbar": {
              "outlinewidth": 0,
              "ticks": ""
             }
            },
            "marker": {
             "colorbar": {
              "outlinewidth": 0,
              "ticks": ""
             }
            },
            "type": "scatter3d"
           }
          ],
          "scattercarpet": [
           {
            "marker": {
             "colorbar": {
              "outlinewidth": 0,
              "ticks": ""
             }
            },
            "type": "scattercarpet"
           }
          ],
          "scattergeo": [
           {
            "marker": {
             "colorbar": {
              "outlinewidth": 0,
              "ticks": ""
             }
            },
            "type": "scattergeo"
           }
          ],
          "scattergl": [
           {
            "marker": {
             "colorbar": {
              "outlinewidth": 0,
              "ticks": ""
             }
            },
            "type": "scattergl"
           }
          ],
          "scattermapbox": [
           {
            "marker": {
             "colorbar": {
              "outlinewidth": 0,
              "ticks": ""
             }
            },
            "type": "scattermapbox"
           }
          ],
          "scatterpolar": [
           {
            "marker": {
             "colorbar": {
              "outlinewidth": 0,
              "ticks": ""
             }
            },
            "type": "scatterpolar"
           }
          ],
          "scatterpolargl": [
           {
            "marker": {
             "colorbar": {
              "outlinewidth": 0,
              "ticks": ""
             }
            },
            "type": "scatterpolargl"
           }
          ],
          "scatterternary": [
           {
            "marker": {
             "colorbar": {
              "outlinewidth": 0,
              "ticks": ""
             }
            },
            "type": "scatterternary"
           }
          ],
          "surface": [
           {
            "colorbar": {
             "outlinewidth": 0,
             "ticks": ""
            },
            "colorscale": [
             [
              0,
              "#0d0887"
             ],
             [
              0.1111111111111111,
              "#46039f"
             ],
             [
              0.2222222222222222,
              "#7201a8"
             ],
             [
              0.3333333333333333,
              "#9c179e"
             ],
             [
              0.4444444444444444,
              "#bd3786"
             ],
             [
              0.5555555555555556,
              "#d8576b"
             ],
             [
              0.6666666666666666,
              "#ed7953"
             ],
             [
              0.7777777777777778,
              "#fb9f3a"
             ],
             [
              0.8888888888888888,
              "#fdca26"
             ],
             [
              1,
              "#f0f921"
             ]
            ],
            "type": "surface"
           }
          ],
          "table": [
           {
            "cells": {
             "fill": {
              "color": "#EBF0F8"
             },
             "line": {
              "color": "white"
             }
            },
            "header": {
             "fill": {
              "color": "#C8D4E3"
             },
             "line": {
              "color": "white"
             }
            },
            "type": "table"
           }
          ]
         },
         "layout": {
          "annotationdefaults": {
           "arrowcolor": "#2a3f5f",
           "arrowhead": 0,
           "arrowwidth": 1
          },
          "autotypenumbers": "strict",
          "coloraxis": {
           "colorbar": {
            "outlinewidth": 0,
            "ticks": ""
           }
          },
          "colorscale": {
           "diverging": [
            [
             0,
             "#8e0152"
            ],
            [
             0.1,
             "#c51b7d"
            ],
            [
             0.2,
             "#de77ae"
            ],
            [
             0.3,
             "#f1b6da"
            ],
            [
             0.4,
             "#fde0ef"
            ],
            [
             0.5,
             "#f7f7f7"
            ],
            [
             0.6,
             "#e6f5d0"
            ],
            [
             0.7,
             "#b8e186"
            ],
            [
             0.8,
             "#7fbc41"
            ],
            [
             0.9,
             "#4d9221"
            ],
            [
             1,
             "#276419"
            ]
           ],
           "sequential": [
            [
             0,
             "#0d0887"
            ],
            [
             0.1111111111111111,
             "#46039f"
            ],
            [
             0.2222222222222222,
             "#7201a8"
            ],
            [
             0.3333333333333333,
             "#9c179e"
            ],
            [
             0.4444444444444444,
             "#bd3786"
            ],
            [
             0.5555555555555556,
             "#d8576b"
            ],
            [
             0.6666666666666666,
             "#ed7953"
            ],
            [
             0.7777777777777778,
             "#fb9f3a"
            ],
            [
             0.8888888888888888,
             "#fdca26"
            ],
            [
             1,
             "#f0f921"
            ]
           ],
           "sequentialminus": [
            [
             0,
             "#0d0887"
            ],
            [
             0.1111111111111111,
             "#46039f"
            ],
            [
             0.2222222222222222,
             "#7201a8"
            ],
            [
             0.3333333333333333,
             "#9c179e"
            ],
            [
             0.4444444444444444,
             "#bd3786"
            ],
            [
             0.5555555555555556,
             "#d8576b"
            ],
            [
             0.6666666666666666,
             "#ed7953"
            ],
            [
             0.7777777777777778,
             "#fb9f3a"
            ],
            [
             0.8888888888888888,
             "#fdca26"
            ],
            [
             1,
             "#f0f921"
            ]
           ]
          },
          "colorway": [
           "#636efa",
           "#EF553B",
           "#00cc96",
           "#ab63fa",
           "#FFA15A",
           "#19d3f3",
           "#FF6692",
           "#B6E880",
           "#FF97FF",
           "#FECB52"
          ],
          "font": {
           "color": "#2a3f5f"
          },
          "geo": {
           "bgcolor": "white",
           "lakecolor": "white",
           "landcolor": "#E5ECF6",
           "showlakes": true,
           "showland": true,
           "subunitcolor": "white"
          },
          "hoverlabel": {
           "align": "left"
          },
          "hovermode": "closest",
          "mapbox": {
           "style": "light"
          },
          "paper_bgcolor": "white",
          "plot_bgcolor": "#E5ECF6",
          "polar": {
           "angularaxis": {
            "gridcolor": "white",
            "linecolor": "white",
            "ticks": ""
           },
           "bgcolor": "#E5ECF6",
           "radialaxis": {
            "gridcolor": "white",
            "linecolor": "white",
            "ticks": ""
           }
          },
          "scene": {
           "xaxis": {
            "backgroundcolor": "#E5ECF6",
            "gridcolor": "white",
            "gridwidth": 2,
            "linecolor": "white",
            "showbackground": true,
            "ticks": "",
            "zerolinecolor": "white"
           },
           "yaxis": {
            "backgroundcolor": "#E5ECF6",
            "gridcolor": "white",
            "gridwidth": 2,
            "linecolor": "white",
            "showbackground": true,
            "ticks": "",
            "zerolinecolor": "white"
           },
           "zaxis": {
            "backgroundcolor": "#E5ECF6",
            "gridcolor": "white",
            "gridwidth": 2,
            "linecolor": "white",
            "showbackground": true,
            "ticks": "",
            "zerolinecolor": "white"
           }
          },
          "shapedefaults": {
           "line": {
            "color": "#2a3f5f"
           }
          },
          "ternary": {
           "aaxis": {
            "gridcolor": "white",
            "linecolor": "white",
            "ticks": ""
           },
           "baxis": {
            "gridcolor": "white",
            "linecolor": "white",
            "ticks": ""
           },
           "bgcolor": "#E5ECF6",
           "caxis": {
            "gridcolor": "white",
            "linecolor": "white",
            "ticks": ""
           }
          },
          "title": {
           "x": 0.05
          },
          "xaxis": {
           "automargin": true,
           "gridcolor": "white",
           "linecolor": "white",
           "ticks": "",
           "title": {
            "standoff": 15
           },
           "zerolinecolor": "white",
           "zerolinewidth": 2
          },
          "yaxis": {
           "automargin": true,
           "gridcolor": "white",
           "linecolor": "white",
           "ticks": "",
           "title": {
            "standoff": 15
           },
           "zerolinecolor": "white",
           "zerolinewidth": 2
          }
         }
        },
        "title": {
         "text": "Сравнение дохода по годам"
        },
        "width": 800,
        "xaxis": {
         "anchor": "y",
         "categoryorder": "total descending",
         "domain": [
          0,
          1
         ],
         "title": {
          "text": "Категория"
         }
        },
        "yaxis": {
         "anchor": "x",
         "domain": [
          0,
          1
         ],
         "title": {
          "text": "Доход"
         }
        }
       }
      },
      "text/html": [
       "<div>                            <div id=\"a393c437-1d97-4edb-bae8-b4ec8157a49b\" class=\"plotly-graph-div\" style=\"height:800px; width:800px;\"></div>            <script type=\"text/javascript\">                require([\"plotly\"], function(Plotly) {                    window.PLOTLYENV=window.PLOTLYENV || {};                                    if (document.getElementById(\"a393c437-1d97-4edb-bae8-b4ec8157a49b\")) {                    Plotly.newPlot(                        \"a393c437-1d97-4edb-bae8-b4ec8157a49b\",                        [{\"alignmentgroup\":\"True\",\"hovertemplate\":\"category_name=\\u0425\\u0438\\u0440\\u0443\\u0440\\u0433\\u0438\\u044f<br>year=%{x}<br>service_amount=%{y}<extra></extra>\",\"legendgroup\":\"\\u0425\\u0438\\u0440\\u0443\\u0440\\u0433\\u0438\\u044f\",\"marker\":{\"color\":\"#636efa\",\"pattern\":{\"shape\":\"\"}},\"name\":\"\\u0425\\u0438\\u0440\\u0443\\u0440\\u0433\\u0438\\u044f\",\"offsetgroup\":\"\\u0425\\u0438\\u0440\\u0443\\u0440\\u0433\\u0438\\u044f\",\"orientation\":\"v\",\"showlegend\":true,\"textposition\":\"auto\",\"x\":[2021,2022],\"xaxis\":\"x\",\"y\":[5880,84800],\"yaxis\":\"y\",\"type\":\"bar\"},{\"alignmentgroup\":\"True\",\"hovertemplate\":\"category_name=\\u0423\\u0437\\u0438<br>year=%{x}<br>service_amount=%{y}<extra></extra>\",\"legendgroup\":\"\\u0423\\u0437\\u0438\",\"marker\":{\"color\":\"#EF553B\",\"pattern\":{\"shape\":\"\"}},\"name\":\"\\u0423\\u0437\\u0438\",\"offsetgroup\":\"\\u0423\\u0437\\u0438\",\"orientation\":\"v\",\"showlegend\":true,\"textposition\":\"auto\",\"x\":[2022,2021],\"xaxis\":\"x\",\"y\":[13050,21580],\"yaxis\":\"y\",\"type\":\"bar\"},{\"alignmentgroup\":\"True\",\"hovertemplate\":\"category_name=\\u0420\\u0435\\u043d\\u0442\\u0433\\u0435\\u043d<br>year=%{x}<br>service_amount=%{y}<extra></extra>\",\"legendgroup\":\"\\u0420\\u0435\\u043d\\u0442\\u0433\\u0435\\u043d\",\"marker\":{\"color\":\"#00cc96\",\"pattern\":{\"shape\":\"\"}},\"name\":\"\\u0420\\u0435\\u043d\\u0442\\u0433\\u0435\\u043d\",\"offsetgroup\":\"\\u0420\\u0435\\u043d\\u0442\\u0433\\u0435\\u043d\",\"orientation\":\"v\",\"showlegend\":true,\"textposition\":\"auto\",\"x\":[2021,2022],\"xaxis\":\"x\",\"y\":[115177,213930],\"yaxis\":\"y\",\"type\":\"bar\"},{\"alignmentgroup\":\"True\",\"hovertemplate\":\"category_name=\\u041f\\u043e\\u0432\\u0442\\u043e\\u0440\\u043d\\u0430\\u044f \\u043a\\u043e\\u043d\\u0441\\u0443\\u043b\\u044c\\u0442\\u0430\\u0446\\u0438\\u044f<br>year=%{x}<br>service_amount=%{y}<extra></extra>\",\"legendgroup\":\"\\u041f\\u043e\\u0432\\u0442\\u043e\\u0440\\u043d\\u0430\\u044f \\u043a\\u043e\\u043d\\u0441\\u0443\\u043b\\u044c\\u0442\\u0430\\u0446\\u0438\\u044f\",\"marker\":{\"color\":\"#ab63fa\",\"pattern\":{\"shape\":\"\"}},\"name\":\"\\u041f\\u043e\\u0432\\u0442\\u043e\\u0440\\u043d\\u0430\\u044f \\u043a\\u043e\\u043d\\u0441\\u0443\\u043b\\u044c\\u0442\\u0430\\u0446\\u0438\\u044f\",\"offsetgroup\":\"\\u041f\\u043e\\u0432\\u0442\\u043e\\u0440\\u043d\\u0430\\u044f \\u043a\\u043e\\u043d\\u0441\\u0443\\u043b\\u044c\\u0442\\u0430\\u0446\\u0438\\u044f\",\"orientation\":\"v\",\"showlegend\":true,\"textposition\":\"auto\",\"x\":[2021,2022],\"xaxis\":\"x\",\"y\":[4434001,7305600],\"yaxis\":\"y\",\"type\":\"bar\"},{\"alignmentgroup\":\"True\",\"hovertemplate\":\"category_name=\\u041f\\u0435\\u0440\\u0432\\u0438\\u0447\\u043d\\u0430\\u044f \\u043a\\u043e\\u043d\\u0441\\u0443\\u043b\\u044c\\u0442\\u0430\\u0446\\u0438\\u044f<br>year=%{x}<br>service_amount=%{y}<extra></extra>\",\"legendgroup\":\"\\u041f\\u0435\\u0440\\u0432\\u0438\\u0447\\u043d\\u0430\\u044f \\u043a\\u043e\\u043d\\u0441\\u0443\\u043b\\u044c\\u0442\\u0430\\u0446\\u0438\\u044f\",\"marker\":{\"color\":\"#FFA15A\",\"pattern\":{\"shape\":\"\"}},\"name\":\"\\u041f\\u0435\\u0440\\u0432\\u0438\\u0447\\u043d\\u0430\\u044f \\u043a\\u043e\\u043d\\u0441\\u0443\\u043b\\u044c\\u0442\\u0430\\u0446\\u0438\\u044f\",\"offsetgroup\":\"\\u041f\\u0435\\u0440\\u0432\\u0438\\u0447\\u043d\\u0430\\u044f \\u043a\\u043e\\u043d\\u0441\\u0443\\u043b\\u044c\\u0442\\u0430\\u0446\\u0438\\u044f\",\"orientation\":\"v\",\"showlegend\":true,\"textposition\":\"auto\",\"x\":[2021,2022],\"xaxis\":\"x\",\"y\":[6762285,11453365],\"yaxis\":\"y\",\"type\":\"bar\"},{\"alignmentgroup\":\"True\",\"hovertemplate\":\"category_name=\\u041c\\u0430\\u0441\\u0441\\u0430\\u0436<br>year=%{x}<br>service_amount=%{y}<extra></extra>\",\"legendgroup\":\"\\u041c\\u0430\\u0441\\u0441\\u0430\\u0436\",\"marker\":{\"color\":\"#19d3f3\",\"pattern\":{\"shape\":\"\"}},\"name\":\"\\u041c\\u0430\\u0441\\u0441\\u0430\\u0436\",\"offsetgroup\":\"\\u041c\\u0430\\u0441\\u0441\\u0430\\u0436\",\"orientation\":\"v\",\"showlegend\":true,\"textposition\":\"auto\",\"x\":[2022,2021],\"xaxis\":\"x\",\"y\":[2120040,1193763],\"yaxis\":\"y\",\"type\":\"bar\"},{\"alignmentgroup\":\"True\",\"hovertemplate\":\"category_name=\\u041c\\u0430\\u043c\\u043c\\u043e\\u043b\\u043e\\u0433\\u0438\\u044f<br>year=%{x}<br>service_amount=%{y}<extra></extra>\",\"legendgroup\":\"\\u041c\\u0430\\u043c\\u043c\\u043e\\u043b\\u043e\\u0433\\u0438\\u044f\",\"marker\":{\"color\":\"#FF6692\",\"pattern\":{\"shape\":\"\"}},\"name\":\"\\u041c\\u0430\\u043c\\u043c\\u043e\\u043b\\u043e\\u0433\\u0438\\u044f\",\"offsetgroup\":\"\\u041c\\u0430\\u043c\\u043c\\u043e\\u043b\\u043e\\u0433\\u0438\\u044f\",\"orientation\":\"v\",\"showlegend\":true,\"textposition\":\"auto\",\"x\":[2022,2021],\"xaxis\":\"x\",\"y\":[123085,82749],\"yaxis\":\"y\",\"type\":\"bar\"},{\"alignmentgroup\":\"True\",\"hovertemplate\":\"category_name=\\u0418\\u043c\\u0443\\u043d\\u043d\\u044b\\u0435 \\u0440\\u0435\\u0430\\u043a\\u0446\\u0438\\u0438<br>year=%{x}<br>service_amount=%{y}<extra></extra>\",\"legendgroup\":\"\\u0418\\u043c\\u0443\\u043d\\u043d\\u044b\\u0435 \\u0440\\u0435\\u0430\\u043a\\u0446\\u0438\\u0438\",\"marker\":{\"color\":\"#B6E880\",\"pattern\":{\"shape\":\"\"}},\"name\":\"\\u0418\\u043c\\u0443\\u043d\\u043d\\u044b\\u0435 \\u0440\\u0435\\u0430\\u043a\\u0446\\u0438\\u0438\",\"offsetgroup\":\"\\u0418\\u043c\\u0443\\u043d\\u043d\\u044b\\u0435 \\u0440\\u0435\\u0430\\u043a\\u0446\\u0438\\u0438\",\"orientation\":\"v\",\"showlegend\":true,\"textposition\":\"auto\",\"x\":[2022,2021],\"xaxis\":\"x\",\"y\":[26440,11319],\"yaxis\":\"y\",\"type\":\"bar\"},{\"alignmentgroup\":\"True\",\"hovertemplate\":\"category_name=\\u0414\\u0440\\u0443\\u0433\\u043e\\u0435<br>year=%{x}<br>service_amount=%{y}<extra></extra>\",\"legendgroup\":\"\\u0414\\u0440\\u0443\\u0433\\u043e\\u0435\",\"marker\":{\"color\":\"#FF97FF\",\"pattern\":{\"shape\":\"\"}},\"name\":\"\\u0414\\u0440\\u0443\\u0433\\u043e\\u0435\",\"offsetgroup\":\"\\u0414\\u0440\\u0443\\u0433\\u043e\\u0435\",\"orientation\":\"v\",\"showlegend\":true,\"textposition\":\"auto\",\"x\":[2021,2022],\"xaxis\":\"x\",\"y\":[12284778,18706554],\"yaxis\":\"y\",\"type\":\"bar\"},{\"alignmentgroup\":\"True\",\"hovertemplate\":\"category_name=\\u0413\\u0438\\u043d\\u0435\\u043a\\u043e\\u043b\\u043e\\u0433\\u0438\\u044f<br>year=%{x}<br>service_amount=%{y}<extra></extra>\",\"legendgroup\":\"\\u0413\\u0438\\u043d\\u0435\\u043a\\u043e\\u043b\\u043e\\u0433\\u0438\\u044f\",\"marker\":{\"color\":\"#FECB52\",\"pattern\":{\"shape\":\"\"}},\"name\":\"\\u0413\\u0438\\u043d\\u0435\\u043a\\u043e\\u043b\\u043e\\u0433\\u0438\\u044f\",\"offsetgroup\":\"\\u0413\\u0438\\u043d\\u0435\\u043a\\u043e\\u043b\\u043e\\u0433\\u0438\\u044f\",\"orientation\":\"v\",\"showlegend\":true,\"textposition\":\"auto\",\"x\":[2022,2021],\"xaxis\":\"x\",\"y\":[255230,87844],\"yaxis\":\"y\",\"type\":\"bar\"},{\"alignmentgroup\":\"True\",\"hovertemplate\":\"category_name=\\u0410\\u043d\\u0430\\u043b\\u0438\\u0437\\u044b<br>year=%{x}<br>service_amount=%{y}<extra></extra>\",\"legendgroup\":\"\\u0410\\u043d\\u0430\\u043b\\u0438\\u0437\\u044b\",\"marker\":{\"color\":\"#636efa\",\"pattern\":{\"shape\":\"\"}},\"name\":\"\\u0410\\u043d\\u0430\\u043b\\u0438\\u0437\\u044b\",\"offsetgroup\":\"\\u0410\\u043d\\u0430\\u043b\\u0438\\u0437\\u044b\",\"orientation\":\"v\",\"showlegend\":true,\"textposition\":\"auto\",\"x\":[2021,2022],\"xaxis\":\"x\",\"y\":[4958176,8684568],\"yaxis\":\"y\",\"type\":\"bar\"}],                        {\"template\":{\"data\":{\"histogram2dcontour\":[{\"type\":\"histogram2dcontour\",\"colorbar\":{\"outlinewidth\":0,\"ticks\":\"\"},\"colorscale\":[[0.0,\"#0d0887\"],[0.1111111111111111,\"#46039f\"],[0.2222222222222222,\"#7201a8\"],[0.3333333333333333,\"#9c179e\"],[0.4444444444444444,\"#bd3786\"],[0.5555555555555556,\"#d8576b\"],[0.6666666666666666,\"#ed7953\"],[0.7777777777777778,\"#fb9f3a\"],[0.8888888888888888,\"#fdca26\"],[1.0,\"#f0f921\"]]}],\"choropleth\":[{\"type\":\"choropleth\",\"colorbar\":{\"outlinewidth\":0,\"ticks\":\"\"}}],\"histogram2d\":[{\"type\":\"histogram2d\",\"colorbar\":{\"outlinewidth\":0,\"ticks\":\"\"},\"colorscale\":[[0.0,\"#0d0887\"],[0.1111111111111111,\"#46039f\"],[0.2222222222222222,\"#7201a8\"],[0.3333333333333333,\"#9c179e\"],[0.4444444444444444,\"#bd3786\"],[0.5555555555555556,\"#d8576b\"],[0.6666666666666666,\"#ed7953\"],[0.7777777777777778,\"#fb9f3a\"],[0.8888888888888888,\"#fdca26\"],[1.0,\"#f0f921\"]]}],\"heatmap\":[{\"type\":\"heatmap\",\"colorbar\":{\"outlinewidth\":0,\"ticks\":\"\"},\"colorscale\":[[0.0,\"#0d0887\"],[0.1111111111111111,\"#46039f\"],[0.2222222222222222,\"#7201a8\"],[0.3333333333333333,\"#9c179e\"],[0.4444444444444444,\"#bd3786\"],[0.5555555555555556,\"#d8576b\"],[0.6666666666666666,\"#ed7953\"],[0.7777777777777778,\"#fb9f3a\"],[0.8888888888888888,\"#fdca26\"],[1.0,\"#f0f921\"]]}],\"heatmapgl\":[{\"type\":\"heatmapgl\",\"colorbar\":{\"outlinewidth\":0,\"ticks\":\"\"},\"colorscale\":[[0.0,\"#0d0887\"],[0.1111111111111111,\"#46039f\"],[0.2222222222222222,\"#7201a8\"],[0.3333333333333333,\"#9c179e\"],[0.4444444444444444,\"#bd3786\"],[0.5555555555555556,\"#d8576b\"],[0.6666666666666666,\"#ed7953\"],[0.7777777777777778,\"#fb9f3a\"],[0.8888888888888888,\"#fdca26\"],[1.0,\"#f0f921\"]]}],\"contourcarpet\":[{\"type\":\"contourcarpet\",\"colorbar\":{\"outlinewidth\":0,\"ticks\":\"\"}}],\"contour\":[{\"type\":\"contour\",\"colorbar\":{\"outlinewidth\":0,\"ticks\":\"\"},\"colorscale\":[[0.0,\"#0d0887\"],[0.1111111111111111,\"#46039f\"],[0.2222222222222222,\"#7201a8\"],[0.3333333333333333,\"#9c179e\"],[0.4444444444444444,\"#bd3786\"],[0.5555555555555556,\"#d8576b\"],[0.6666666666666666,\"#ed7953\"],[0.7777777777777778,\"#fb9f3a\"],[0.8888888888888888,\"#fdca26\"],[1.0,\"#f0f921\"]]}],\"surface\":[{\"type\":\"surface\",\"colorbar\":{\"outlinewidth\":0,\"ticks\":\"\"},\"colorscale\":[[0.0,\"#0d0887\"],[0.1111111111111111,\"#46039f\"],[0.2222222222222222,\"#7201a8\"],[0.3333333333333333,\"#9c179e\"],[0.4444444444444444,\"#bd3786\"],[0.5555555555555556,\"#d8576b\"],[0.6666666666666666,\"#ed7953\"],[0.7777777777777778,\"#fb9f3a\"],[0.8888888888888888,\"#fdca26\"],[1.0,\"#f0f921\"]]}],\"mesh3d\":[{\"type\":\"mesh3d\",\"colorbar\":{\"outlinewidth\":0,\"ticks\":\"\"}}],\"scatter\":[{\"fillpattern\":{\"fillmode\":\"overlay\",\"size\":10,\"solidity\":0.2},\"type\":\"scatter\"}],\"parcoords\":[{\"type\":\"parcoords\",\"line\":{\"colorbar\":{\"outlinewidth\":0,\"ticks\":\"\"}}}],\"scatterpolargl\":[{\"type\":\"scatterpolargl\",\"marker\":{\"colorbar\":{\"outlinewidth\":0,\"ticks\":\"\"}}}],\"bar\":[{\"error_x\":{\"color\":\"#2a3f5f\"},\"error_y\":{\"color\":\"#2a3f5f\"},\"marker\":{\"line\":{\"color\":\"#E5ECF6\",\"width\":0.5},\"pattern\":{\"fillmode\":\"overlay\",\"size\":10,\"solidity\":0.2}},\"type\":\"bar\"}],\"scattergeo\":[{\"type\":\"scattergeo\",\"marker\":{\"colorbar\":{\"outlinewidth\":0,\"ticks\":\"\"}}}],\"scatterpolar\":[{\"type\":\"scatterpolar\",\"marker\":{\"colorbar\":{\"outlinewidth\":0,\"ticks\":\"\"}}}],\"histogram\":[{\"marker\":{\"pattern\":{\"fillmode\":\"overlay\",\"size\":10,\"solidity\":0.2}},\"type\":\"histogram\"}],\"scattergl\":[{\"type\":\"scattergl\",\"marker\":{\"colorbar\":{\"outlinewidth\":0,\"ticks\":\"\"}}}],\"scatter3d\":[{\"type\":\"scatter3d\",\"line\":{\"colorbar\":{\"outlinewidth\":0,\"ticks\":\"\"}},\"marker\":{\"colorbar\":{\"outlinewidth\":0,\"ticks\":\"\"}}}],\"scattermapbox\":[{\"type\":\"scattermapbox\",\"marker\":{\"colorbar\":{\"outlinewidth\":0,\"ticks\":\"\"}}}],\"scatterternary\":[{\"type\":\"scatterternary\",\"marker\":{\"colorbar\":{\"outlinewidth\":0,\"ticks\":\"\"}}}],\"scattercarpet\":[{\"type\":\"scattercarpet\",\"marker\":{\"colorbar\":{\"outlinewidth\":0,\"ticks\":\"\"}}}],\"carpet\":[{\"aaxis\":{\"endlinecolor\":\"#2a3f5f\",\"gridcolor\":\"white\",\"linecolor\":\"white\",\"minorgridcolor\":\"white\",\"startlinecolor\":\"#2a3f5f\"},\"baxis\":{\"endlinecolor\":\"#2a3f5f\",\"gridcolor\":\"white\",\"linecolor\":\"white\",\"minorgridcolor\":\"white\",\"startlinecolor\":\"#2a3f5f\"},\"type\":\"carpet\"}],\"table\":[{\"cells\":{\"fill\":{\"color\":\"#EBF0F8\"},\"line\":{\"color\":\"white\"}},\"header\":{\"fill\":{\"color\":\"#C8D4E3\"},\"line\":{\"color\":\"white\"}},\"type\":\"table\"}],\"barpolar\":[{\"marker\":{\"line\":{\"color\":\"#E5ECF6\",\"width\":0.5},\"pattern\":{\"fillmode\":\"overlay\",\"size\":10,\"solidity\":0.2}},\"type\":\"barpolar\"}],\"pie\":[{\"automargin\":true,\"type\":\"pie\"}]},\"layout\":{\"autotypenumbers\":\"strict\",\"colorway\":[\"#636efa\",\"#EF553B\",\"#00cc96\",\"#ab63fa\",\"#FFA15A\",\"#19d3f3\",\"#FF6692\",\"#B6E880\",\"#FF97FF\",\"#FECB52\"],\"font\":{\"color\":\"#2a3f5f\"},\"hovermode\":\"closest\",\"hoverlabel\":{\"align\":\"left\"},\"paper_bgcolor\":\"white\",\"plot_bgcolor\":\"#E5ECF6\",\"polar\":{\"bgcolor\":\"#E5ECF6\",\"angularaxis\":{\"gridcolor\":\"white\",\"linecolor\":\"white\",\"ticks\":\"\"},\"radialaxis\":{\"gridcolor\":\"white\",\"linecolor\":\"white\",\"ticks\":\"\"}},\"ternary\":{\"bgcolor\":\"#E5ECF6\",\"aaxis\":{\"gridcolor\":\"white\",\"linecolor\":\"white\",\"ticks\":\"\"},\"baxis\":{\"gridcolor\":\"white\",\"linecolor\":\"white\",\"ticks\":\"\"},\"caxis\":{\"gridcolor\":\"white\",\"linecolor\":\"white\",\"ticks\":\"\"}},\"coloraxis\":{\"colorbar\":{\"outlinewidth\":0,\"ticks\":\"\"}},\"colorscale\":{\"sequential\":[[0.0,\"#0d0887\"],[0.1111111111111111,\"#46039f\"],[0.2222222222222222,\"#7201a8\"],[0.3333333333333333,\"#9c179e\"],[0.4444444444444444,\"#bd3786\"],[0.5555555555555556,\"#d8576b\"],[0.6666666666666666,\"#ed7953\"],[0.7777777777777778,\"#fb9f3a\"],[0.8888888888888888,\"#fdca26\"],[1.0,\"#f0f921\"]],\"sequentialminus\":[[0.0,\"#0d0887\"],[0.1111111111111111,\"#46039f\"],[0.2222222222222222,\"#7201a8\"],[0.3333333333333333,\"#9c179e\"],[0.4444444444444444,\"#bd3786\"],[0.5555555555555556,\"#d8576b\"],[0.6666666666666666,\"#ed7953\"],[0.7777777777777778,\"#fb9f3a\"],[0.8888888888888888,\"#fdca26\"],[1.0,\"#f0f921\"]],\"diverging\":[[0,\"#8e0152\"],[0.1,\"#c51b7d\"],[0.2,\"#de77ae\"],[0.3,\"#f1b6da\"],[0.4,\"#fde0ef\"],[0.5,\"#f7f7f7\"],[0.6,\"#e6f5d0\"],[0.7,\"#b8e186\"],[0.8,\"#7fbc41\"],[0.9,\"#4d9221\"],[1,\"#276419\"]]},\"xaxis\":{\"gridcolor\":\"white\",\"linecolor\":\"white\",\"ticks\":\"\",\"title\":{\"standoff\":15},\"zerolinecolor\":\"white\",\"automargin\":true,\"zerolinewidth\":2},\"yaxis\":{\"gridcolor\":\"white\",\"linecolor\":\"white\",\"ticks\":\"\",\"title\":{\"standoff\":15},\"zerolinecolor\":\"white\",\"automargin\":true,\"zerolinewidth\":2},\"scene\":{\"xaxis\":{\"backgroundcolor\":\"#E5ECF6\",\"gridcolor\":\"white\",\"linecolor\":\"white\",\"showbackground\":true,\"ticks\":\"\",\"zerolinecolor\":\"white\",\"gridwidth\":2},\"yaxis\":{\"backgroundcolor\":\"#E5ECF6\",\"gridcolor\":\"white\",\"linecolor\":\"white\",\"showbackground\":true,\"ticks\":\"\",\"zerolinecolor\":\"white\",\"gridwidth\":2},\"zaxis\":{\"backgroundcolor\":\"#E5ECF6\",\"gridcolor\":\"white\",\"linecolor\":\"white\",\"showbackground\":true,\"ticks\":\"\",\"zerolinecolor\":\"white\",\"gridwidth\":2}},\"shapedefaults\":{\"line\":{\"color\":\"#2a3f5f\"}},\"annotationdefaults\":{\"arrowcolor\":\"#2a3f5f\",\"arrowhead\":0,\"arrowwidth\":1},\"geo\":{\"bgcolor\":\"white\",\"landcolor\":\"#E5ECF6\",\"subunitcolor\":\"white\",\"showland\":true,\"showlakes\":true,\"lakecolor\":\"white\"},\"title\":{\"x\":0.05},\"mapbox\":{\"style\":\"light\"}}},\"xaxis\":{\"anchor\":\"y\",\"domain\":[0.0,1.0],\"title\":{\"text\":\"\\u041a\\u0430\\u0442\\u0435\\u0433\\u043e\\u0440\\u0438\\u044f\"},\"categoryorder\":\"total descending\"},\"yaxis\":{\"anchor\":\"x\",\"domain\":[0.0,1.0],\"title\":{\"text\":\"\\u0414\\u043e\\u0445\\u043e\\u0434\"}},\"legend\":{\"title\":{\"text\":\"category_name\"},\"tracegroupgap\":0},\"margin\":{\"t\":60},\"barmode\":\"relative\",\"title\":{\"text\":\"\\u0421\\u0440\\u0430\\u0432\\u043d\\u0435\\u043d\\u0438\\u0435 \\u0434\\u043e\\u0445\\u043e\\u0434\\u0430 \\u043f\\u043e \\u0433\\u043e\\u0434\\u0430\\u043c\"},\"height\":800,\"width\":800},                        {\"responsive\": true}                    ).then(function(){\n",
       "                            \n",
       "var gd = document.getElementById('a393c437-1d97-4edb-bae8-b4ec8157a49b');\n",
       "var x = new MutationObserver(function (mutations, observer) {{\n",
       "        var display = window.getComputedStyle(gd).display;\n",
       "        if (!display || display === 'none') {{\n",
       "            console.log([gd, 'removed!']);\n",
       "            Plotly.purge(gd);\n",
       "            observer.disconnect();\n",
       "        }}\n",
       "}});\n",
       "\n",
       "// Listen for the removal of the full notebook cells\n",
       "var notebookContainer = gd.closest('#notebook-container');\n",
       "if (notebookContainer) {{\n",
       "    x.observe(notebookContainer, {childList: true});\n",
       "}}\n",
       "\n",
       "// Listen for the clearing of the current output cell\n",
       "var outputEl = gd.closest('.output');\n",
       "if (outputEl) {{\n",
       "    x.observe(outputEl, {childList: true});\n",
       "}}\n",
       "\n",
       "                        })                };                });            </script>        </div>"
      ]
     },
     "metadata": {},
     "output_type": "display_data"
    }
   ],
   "source": [
    "data_srav = data_comparable.pivot_table(index = ['category_name', 'year'], values = 'service_amount', aggfunc='sum').sort_values(by = 'service_amount', ascending = False).reset_index()\n",
    "fig = px.bar(data_srav.sort_values(by = 'category_name', ascending = False), x = 'year', y = 'service_amount', color ='category_name')\n",
    "fig.update_layout(title = 'Сравнение дохода по годам', xaxis_title = 'Категория', yaxis_title = 'Доход', height = 800, width = 800, xaxis={'categoryorder':'total descending'})\n",
    "fig.show()"
   ]
  },
  {
   "cell_type": "markdown",
   "id": "c527b6ef",
   "metadata": {},
   "source": [
    "Как мы можем видеть из графика все категории прибавили в доходности за 2022 год"
   ]
  },
  {
   "cell_type": "markdown",
   "id": "6795e6cd",
   "metadata": {},
   "source": [
    "**Теперь посмотрим на доходы в разрезе пола клиента.**"
   ]
  },
  {
   "cell_type": "code",
   "execution_count": 47,
   "id": "61b433e8",
   "metadata": {},
   "outputs": [
    {
     "data": {
      "text/html": [
       "<div>\n",
       "<style scoped>\n",
       "    .dataframe tbody tr th:only-of-type {\n",
       "        vertical-align: middle;\n",
       "    }\n",
       "\n",
       "    .dataframe tbody tr th {\n",
       "        vertical-align: top;\n",
       "    }\n",
       "\n",
       "    .dataframe thead th {\n",
       "        text-align: right;\n",
       "    }\n",
       "</style>\n",
       "<table border=\"1\" class=\"dataframe\">\n",
       "  <thead>\n",
       "    <tr style=\"text-align: right;\">\n",
       "      <th></th>\n",
       "      <th>category_name</th>\n",
       "      <th>sex_id</th>\n",
       "      <th>year</th>\n",
       "      <th>service_amount</th>\n",
       "    </tr>\n",
       "  </thead>\n",
       "  <tbody>\n",
       "    <tr>\n",
       "      <th>0</th>\n",
       "      <td>Другое</td>\n",
       "      <td>женский</td>\n",
       "      <td>2022</td>\n",
       "      <td>11140707</td>\n",
       "    </tr>\n",
       "    <tr>\n",
       "      <th>1</th>\n",
       "      <td>Другое</td>\n",
       "      <td>мужской</td>\n",
       "      <td>2022</td>\n",
       "      <td>7565847</td>\n",
       "    </tr>\n",
       "    <tr>\n",
       "      <th>2</th>\n",
       "      <td>Другое</td>\n",
       "      <td>женский</td>\n",
       "      <td>2021</td>\n",
       "      <td>7135053</td>\n",
       "    </tr>\n",
       "    <tr>\n",
       "      <th>3</th>\n",
       "      <td>Первичная консультация</td>\n",
       "      <td>женский</td>\n",
       "      <td>2022</td>\n",
       "      <td>7099735</td>\n",
       "    </tr>\n",
       "    <tr>\n",
       "      <th>4</th>\n",
       "      <td>Анализы</td>\n",
       "      <td>женский</td>\n",
       "      <td>2022</td>\n",
       "      <td>6092218</td>\n",
       "    </tr>\n",
       "    <tr>\n",
       "      <th>5</th>\n",
       "      <td>Другое</td>\n",
       "      <td>мужской</td>\n",
       "      <td>2021</td>\n",
       "      <td>5142323</td>\n",
       "    </tr>\n",
       "    <tr>\n",
       "      <th>6</th>\n",
       "      <td>Повторная консультация</td>\n",
       "      <td>женский</td>\n",
       "      <td>2022</td>\n",
       "      <td>4754340</td>\n",
       "    </tr>\n",
       "    <tr>\n",
       "      <th>7</th>\n",
       "      <td>Первичная консультация</td>\n",
       "      <td>мужской</td>\n",
       "      <td>2022</td>\n",
       "      <td>4353630</td>\n",
       "    </tr>\n",
       "    <tr>\n",
       "      <th>8</th>\n",
       "      <td>Первичная консультация</td>\n",
       "      <td>женский</td>\n",
       "      <td>2021</td>\n",
       "      <td>4133925</td>\n",
       "    </tr>\n",
       "    <tr>\n",
       "      <th>9</th>\n",
       "      <td>Анализы</td>\n",
       "      <td>женский</td>\n",
       "      <td>2021</td>\n",
       "      <td>3340554</td>\n",
       "    </tr>\n",
       "    <tr>\n",
       "      <th>10</th>\n",
       "      <td>Повторная консультация</td>\n",
       "      <td>женский</td>\n",
       "      <td>2021</td>\n",
       "      <td>2801942</td>\n",
       "    </tr>\n",
       "    <tr>\n",
       "      <th>11</th>\n",
       "      <td>Первичная консультация</td>\n",
       "      <td>мужской</td>\n",
       "      <td>2021</td>\n",
       "      <td>2621010</td>\n",
       "    </tr>\n",
       "    <tr>\n",
       "      <th>12</th>\n",
       "      <td>Анализы</td>\n",
       "      <td>мужской</td>\n",
       "      <td>2022</td>\n",
       "      <td>2592350</td>\n",
       "    </tr>\n",
       "    <tr>\n",
       "      <th>13</th>\n",
       "      <td>Повторная консультация</td>\n",
       "      <td>мужской</td>\n",
       "      <td>2022</td>\n",
       "      <td>2551260</td>\n",
       "    </tr>\n",
       "    <tr>\n",
       "      <th>14</th>\n",
       "      <td>Повторная консультация</td>\n",
       "      <td>мужской</td>\n",
       "      <td>2021</td>\n",
       "      <td>1628120</td>\n",
       "    </tr>\n",
       "    <tr>\n",
       "      <th>15</th>\n",
       "      <td>Анализы</td>\n",
       "      <td>мужской</td>\n",
       "      <td>2021</td>\n",
       "      <td>1614398</td>\n",
       "    </tr>\n",
       "    <tr>\n",
       "      <th>16</th>\n",
       "      <td>Массаж</td>\n",
       "      <td>женский</td>\n",
       "      <td>2022</td>\n",
       "      <td>1210880</td>\n",
       "    </tr>\n",
       "    <tr>\n",
       "      <th>17</th>\n",
       "      <td>Массаж</td>\n",
       "      <td>мужской</td>\n",
       "      <td>2022</td>\n",
       "      <td>909160</td>\n",
       "    </tr>\n",
       "    <tr>\n",
       "      <th>18</th>\n",
       "      <td>Массаж</td>\n",
       "      <td>женский</td>\n",
       "      <td>2021</td>\n",
       "      <td>657080</td>\n",
       "    </tr>\n",
       "    <tr>\n",
       "      <th>19</th>\n",
       "      <td>Массаж</td>\n",
       "      <td>мужской</td>\n",
       "      <td>2021</td>\n",
       "      <td>536683</td>\n",
       "    </tr>\n",
       "    <tr>\n",
       "      <th>20</th>\n",
       "      <td>Гинекология</td>\n",
       "      <td>женский</td>\n",
       "      <td>2022</td>\n",
       "      <td>254630</td>\n",
       "    </tr>\n",
       "    <tr>\n",
       "      <th>21</th>\n",
       "      <td>Рентген</td>\n",
       "      <td>женский</td>\n",
       "      <td>2022</td>\n",
       "      <td>209030</td>\n",
       "    </tr>\n",
       "    <tr>\n",
       "      <th>22</th>\n",
       "      <td>Маммология</td>\n",
       "      <td>женский</td>\n",
       "      <td>2022</td>\n",
       "      <td>123085</td>\n",
       "    </tr>\n",
       "    <tr>\n",
       "      <th>23</th>\n",
       "      <td>Рентген</td>\n",
       "      <td>женский</td>\n",
       "      <td>2021</td>\n",
       "      <td>115177</td>\n",
       "    </tr>\n",
       "    <tr>\n",
       "      <th>24</th>\n",
       "      <td>Маммология</td>\n",
       "      <td>женский</td>\n",
       "      <td>2021</td>\n",
       "      <td>82749</td>\n",
       "    </tr>\n",
       "    <tr>\n",
       "      <th>25</th>\n",
       "      <td>Хирургия</td>\n",
       "      <td>мужской</td>\n",
       "      <td>2022</td>\n",
       "      <td>78320</td>\n",
       "    </tr>\n",
       "    <tr>\n",
       "      <th>26</th>\n",
       "      <td>Гинекология</td>\n",
       "      <td>женский</td>\n",
       "      <td>2021</td>\n",
       "      <td>74719</td>\n",
       "    </tr>\n",
       "    <tr>\n",
       "      <th>27</th>\n",
       "      <td>Имунные реакции</td>\n",
       "      <td>женский</td>\n",
       "      <td>2022</td>\n",
       "      <td>21880</td>\n",
       "    </tr>\n",
       "    <tr>\n",
       "      <th>28</th>\n",
       "      <td>Узи</td>\n",
       "      <td>женский</td>\n",
       "      <td>2021</td>\n",
       "      <td>18260</td>\n",
       "    </tr>\n",
       "    <tr>\n",
       "      <th>29</th>\n",
       "      <td>Гинекология</td>\n",
       "      <td>мужской</td>\n",
       "      <td>2021</td>\n",
       "      <td>13125</td>\n",
       "    </tr>\n",
       "    <tr>\n",
       "      <th>30</th>\n",
       "      <td>Узи</td>\n",
       "      <td>женский</td>\n",
       "      <td>2022</td>\n",
       "      <td>13050</td>\n",
       "    </tr>\n",
       "    <tr>\n",
       "      <th>31</th>\n",
       "      <td>Хирургия</td>\n",
       "      <td>женский</td>\n",
       "      <td>2022</td>\n",
       "      <td>6480</td>\n",
       "    </tr>\n",
       "    <tr>\n",
       "      <th>32</th>\n",
       "      <td>Имунные реакции</td>\n",
       "      <td>мужской</td>\n",
       "      <td>2021</td>\n",
       "      <td>5775</td>\n",
       "    </tr>\n",
       "    <tr>\n",
       "      <th>33</th>\n",
       "      <td>Имунные реакции</td>\n",
       "      <td>женский</td>\n",
       "      <td>2021</td>\n",
       "      <td>5544</td>\n",
       "    </tr>\n",
       "    <tr>\n",
       "      <th>34</th>\n",
       "      <td>Рентген</td>\n",
       "      <td>мужской</td>\n",
       "      <td>2022</td>\n",
       "      <td>4900</td>\n",
       "    </tr>\n",
       "    <tr>\n",
       "      <th>35</th>\n",
       "      <td>Имунные реакции</td>\n",
       "      <td>мужской</td>\n",
       "      <td>2022</td>\n",
       "      <td>4560</td>\n",
       "    </tr>\n",
       "    <tr>\n",
       "      <th>36</th>\n",
       "      <td>Хирургия</td>\n",
       "      <td>женский</td>\n",
       "      <td>2021</td>\n",
       "      <td>4410</td>\n",
       "    </tr>\n",
       "    <tr>\n",
       "      <th>37</th>\n",
       "      <td>Узи</td>\n",
       "      <td>мужской</td>\n",
       "      <td>2021</td>\n",
       "      <td>3320</td>\n",
       "    </tr>\n",
       "    <tr>\n",
       "      <th>38</th>\n",
       "      <td>Хирургия</td>\n",
       "      <td>мужской</td>\n",
       "      <td>2021</td>\n",
       "      <td>1470</td>\n",
       "    </tr>\n",
       "    <tr>\n",
       "      <th>39</th>\n",
       "      <td>Гинекология</td>\n",
       "      <td>мужской</td>\n",
       "      <td>2022</td>\n",
       "      <td>600</td>\n",
       "    </tr>\n",
       "  </tbody>\n",
       "</table>\n",
       "</div>"
      ],
      "text/plain": [
       "             category_name   sex_id  year  service_amount\n",
       "0                   Другое  женский  2022        11140707\n",
       "1                   Другое  мужской  2022         7565847\n",
       "2                   Другое  женский  2021         7135053\n",
       "3   Первичная консультация  женский  2022         7099735\n",
       "4                  Анализы  женский  2022         6092218\n",
       "5                   Другое  мужской  2021         5142323\n",
       "6   Повторная консультация  женский  2022         4754340\n",
       "7   Первичная консультация  мужской  2022         4353630\n",
       "8   Первичная консультация  женский  2021         4133925\n",
       "9                  Анализы  женский  2021         3340554\n",
       "10  Повторная консультация  женский  2021         2801942\n",
       "11  Первичная консультация  мужской  2021         2621010\n",
       "12                 Анализы  мужской  2022         2592350\n",
       "13  Повторная консультация  мужской  2022         2551260\n",
       "14  Повторная консультация  мужской  2021         1628120\n",
       "15                 Анализы  мужской  2021         1614398\n",
       "16                  Массаж  женский  2022         1210880\n",
       "17                  Массаж  мужской  2022          909160\n",
       "18                  Массаж  женский  2021          657080\n",
       "19                  Массаж  мужской  2021          536683\n",
       "20             Гинекология  женский  2022          254630\n",
       "21                 Рентген  женский  2022          209030\n",
       "22              Маммология  женский  2022          123085\n",
       "23                 Рентген  женский  2021          115177\n",
       "24              Маммология  женский  2021           82749\n",
       "25                Хирургия  мужской  2022           78320\n",
       "26             Гинекология  женский  2021           74719\n",
       "27         Имунные реакции  женский  2022           21880\n",
       "28                     Узи  женский  2021           18260\n",
       "29             Гинекология  мужской  2021           13125\n",
       "30                     Узи  женский  2022           13050\n",
       "31                Хирургия  женский  2022            6480\n",
       "32         Имунные реакции  мужской  2021            5775\n",
       "33         Имунные реакции  женский  2021            5544\n",
       "34                 Рентген  мужской  2022            4900\n",
       "35         Имунные реакции  мужской  2022            4560\n",
       "36                Хирургия  женский  2021            4410\n",
       "37                     Узи  мужской  2021            3320\n",
       "38                Хирургия  мужской  2021            1470\n",
       "39             Гинекология  мужской  2022             600"
      ]
     },
     "execution_count": 47,
     "metadata": {},
     "output_type": "execute_result"
    }
   ],
   "source": [
    "data_srav_sex = data_comparable.pivot_table(index = ['category_name', 'sex_id','year'], values = 'service_amount', aggfunc='sum').sort_values(by = 'service_amount', ascending = False).reset_index()\n",
    "data_srav_sex"
   ]
  },
  {
   "cell_type": "markdown",
   "id": "185207e8",
   "metadata": {},
   "source": [
    "**Поскольку, опять же, цифры не дают ясной картины, построим график**"
   ]
  },
  {
   "cell_type": "code",
   "execution_count": 55,
   "id": "10a27980",
   "metadata": {},
   "outputs": [
    {
     "data": {
      "application/vnd.plotly.v1+json": {
       "config": {
        "plotlyServerURL": "https://plot.ly"
       },
       "data": [
        {
         "alignmentgroup": "True",
         "hovertemplate": "sex_id=женский<br>year=%{x}<br>service_amount=%{y}<extra></extra>",
         "legendgroup": "женский",
         "marker": {
          "color": "#636efa",
          "pattern": {
           "shape": ""
          }
         },
         "name": "женский",
         "offsetgroup": "женский",
         "orientation": "v",
         "showlegend": true,
         "textposition": "auto",
         "type": "bar",
         "x": [
          2022,
          2021,
          2021,
          2022,
          2021,
          2022,
          2022,
          2021,
          2021,
          2022,
          2022,
          2021,
          2022,
          2021,
          2022,
          2021,
          2021,
          2022,
          2022,
          2021,
          2021,
          2022
         ],
         "xaxis": "x",
         "y": [
          6480,
          4410,
          18260,
          13050,
          115177,
          209030,
          4754340,
          2801942,
          4133925,
          7099735,
          1210880,
          657080,
          123085,
          82749,
          21880,
          5544,
          7135053,
          11140707,
          254630,
          74719,
          3340554,
          6092218
         ],
         "yaxis": "y"
        },
        {
         "alignmentgroup": "True",
         "hovertemplate": "sex_id=мужской<br>year=%{x}<br>service_amount=%{y}<extra></extra>",
         "legendgroup": "мужской",
         "marker": {
          "color": "#EF553B",
          "pattern": {
           "shape": ""
          }
         },
         "name": "мужской",
         "offsetgroup": "мужской",
         "orientation": "v",
         "showlegend": true,
         "textposition": "auto",
         "type": "bar",
         "x": [
          2022,
          2021,
          2021,
          2022,
          2022,
          2021,
          2022,
          2021,
          2021,
          2022,
          2021,
          2022,
          2022,
          2021,
          2021,
          2022,
          2021,
          2022
         ],
         "xaxis": "x",
         "y": [
          78320,
          1470,
          3320,
          4900,
          2551260,
          1628120,
          4353630,
          2621010,
          536683,
          909160,
          5775,
          4560,
          7565847,
          5142323,
          13125,
          600,
          1614398,
          2592350
         ],
         "yaxis": "y"
        }
       ],
       "layout": {
        "barmode": "relative",
        "height": 800,
        "legend": {
         "title": {
          "text": "sex_id"
         },
         "tracegroupgap": 0
        },
        "margin": {
         "t": 60
        },
        "template": {
         "data": {
          "bar": [
           {
            "error_x": {
             "color": "#2a3f5f"
            },
            "error_y": {
             "color": "#2a3f5f"
            },
            "marker": {
             "line": {
              "color": "#E5ECF6",
              "width": 0.5
             },
             "pattern": {
              "fillmode": "overlay",
              "size": 10,
              "solidity": 0.2
             }
            },
            "type": "bar"
           }
          ],
          "barpolar": [
           {
            "marker": {
             "line": {
              "color": "#E5ECF6",
              "width": 0.5
             },
             "pattern": {
              "fillmode": "overlay",
              "size": 10,
              "solidity": 0.2
             }
            },
            "type": "barpolar"
           }
          ],
          "carpet": [
           {
            "aaxis": {
             "endlinecolor": "#2a3f5f",
             "gridcolor": "white",
             "linecolor": "white",
             "minorgridcolor": "white",
             "startlinecolor": "#2a3f5f"
            },
            "baxis": {
             "endlinecolor": "#2a3f5f",
             "gridcolor": "white",
             "linecolor": "white",
             "minorgridcolor": "white",
             "startlinecolor": "#2a3f5f"
            },
            "type": "carpet"
           }
          ],
          "choropleth": [
           {
            "colorbar": {
             "outlinewidth": 0,
             "ticks": ""
            },
            "type": "choropleth"
           }
          ],
          "contour": [
           {
            "colorbar": {
             "outlinewidth": 0,
             "ticks": ""
            },
            "colorscale": [
             [
              0,
              "#0d0887"
             ],
             [
              0.1111111111111111,
              "#46039f"
             ],
             [
              0.2222222222222222,
              "#7201a8"
             ],
             [
              0.3333333333333333,
              "#9c179e"
             ],
             [
              0.4444444444444444,
              "#bd3786"
             ],
             [
              0.5555555555555556,
              "#d8576b"
             ],
             [
              0.6666666666666666,
              "#ed7953"
             ],
             [
              0.7777777777777778,
              "#fb9f3a"
             ],
             [
              0.8888888888888888,
              "#fdca26"
             ],
             [
              1,
              "#f0f921"
             ]
            ],
            "type": "contour"
           }
          ],
          "contourcarpet": [
           {
            "colorbar": {
             "outlinewidth": 0,
             "ticks": ""
            },
            "type": "contourcarpet"
           }
          ],
          "heatmap": [
           {
            "colorbar": {
             "outlinewidth": 0,
             "ticks": ""
            },
            "colorscale": [
             [
              0,
              "#0d0887"
             ],
             [
              0.1111111111111111,
              "#46039f"
             ],
             [
              0.2222222222222222,
              "#7201a8"
             ],
             [
              0.3333333333333333,
              "#9c179e"
             ],
             [
              0.4444444444444444,
              "#bd3786"
             ],
             [
              0.5555555555555556,
              "#d8576b"
             ],
             [
              0.6666666666666666,
              "#ed7953"
             ],
             [
              0.7777777777777778,
              "#fb9f3a"
             ],
             [
              0.8888888888888888,
              "#fdca26"
             ],
             [
              1,
              "#f0f921"
             ]
            ],
            "type": "heatmap"
           }
          ],
          "heatmapgl": [
           {
            "colorbar": {
             "outlinewidth": 0,
             "ticks": ""
            },
            "colorscale": [
             [
              0,
              "#0d0887"
             ],
             [
              0.1111111111111111,
              "#46039f"
             ],
             [
              0.2222222222222222,
              "#7201a8"
             ],
             [
              0.3333333333333333,
              "#9c179e"
             ],
             [
              0.4444444444444444,
              "#bd3786"
             ],
             [
              0.5555555555555556,
              "#d8576b"
             ],
             [
              0.6666666666666666,
              "#ed7953"
             ],
             [
              0.7777777777777778,
              "#fb9f3a"
             ],
             [
              0.8888888888888888,
              "#fdca26"
             ],
             [
              1,
              "#f0f921"
             ]
            ],
            "type": "heatmapgl"
           }
          ],
          "histogram": [
           {
            "marker": {
             "pattern": {
              "fillmode": "overlay",
              "size": 10,
              "solidity": 0.2
             }
            },
            "type": "histogram"
           }
          ],
          "histogram2d": [
           {
            "colorbar": {
             "outlinewidth": 0,
             "ticks": ""
            },
            "colorscale": [
             [
              0,
              "#0d0887"
             ],
             [
              0.1111111111111111,
              "#46039f"
             ],
             [
              0.2222222222222222,
              "#7201a8"
             ],
             [
              0.3333333333333333,
              "#9c179e"
             ],
             [
              0.4444444444444444,
              "#bd3786"
             ],
             [
              0.5555555555555556,
              "#d8576b"
             ],
             [
              0.6666666666666666,
              "#ed7953"
             ],
             [
              0.7777777777777778,
              "#fb9f3a"
             ],
             [
              0.8888888888888888,
              "#fdca26"
             ],
             [
              1,
              "#f0f921"
             ]
            ],
            "type": "histogram2d"
           }
          ],
          "histogram2dcontour": [
           {
            "colorbar": {
             "outlinewidth": 0,
             "ticks": ""
            },
            "colorscale": [
             [
              0,
              "#0d0887"
             ],
             [
              0.1111111111111111,
              "#46039f"
             ],
             [
              0.2222222222222222,
              "#7201a8"
             ],
             [
              0.3333333333333333,
              "#9c179e"
             ],
             [
              0.4444444444444444,
              "#bd3786"
             ],
             [
              0.5555555555555556,
              "#d8576b"
             ],
             [
              0.6666666666666666,
              "#ed7953"
             ],
             [
              0.7777777777777778,
              "#fb9f3a"
             ],
             [
              0.8888888888888888,
              "#fdca26"
             ],
             [
              1,
              "#f0f921"
             ]
            ],
            "type": "histogram2dcontour"
           }
          ],
          "mesh3d": [
           {
            "colorbar": {
             "outlinewidth": 0,
             "ticks": ""
            },
            "type": "mesh3d"
           }
          ],
          "parcoords": [
           {
            "line": {
             "colorbar": {
              "outlinewidth": 0,
              "ticks": ""
             }
            },
            "type": "parcoords"
           }
          ],
          "pie": [
           {
            "automargin": true,
            "type": "pie"
           }
          ],
          "scatter": [
           {
            "fillpattern": {
             "fillmode": "overlay",
             "size": 10,
             "solidity": 0.2
            },
            "type": "scatter"
           }
          ],
          "scatter3d": [
           {
            "line": {
             "colorbar": {
              "outlinewidth": 0,
              "ticks": ""
             }
            },
            "marker": {
             "colorbar": {
              "outlinewidth": 0,
              "ticks": ""
             }
            },
            "type": "scatter3d"
           }
          ],
          "scattercarpet": [
           {
            "marker": {
             "colorbar": {
              "outlinewidth": 0,
              "ticks": ""
             }
            },
            "type": "scattercarpet"
           }
          ],
          "scattergeo": [
           {
            "marker": {
             "colorbar": {
              "outlinewidth": 0,
              "ticks": ""
             }
            },
            "type": "scattergeo"
           }
          ],
          "scattergl": [
           {
            "marker": {
             "colorbar": {
              "outlinewidth": 0,
              "ticks": ""
             }
            },
            "type": "scattergl"
           }
          ],
          "scattermapbox": [
           {
            "marker": {
             "colorbar": {
              "outlinewidth": 0,
              "ticks": ""
             }
            },
            "type": "scattermapbox"
           }
          ],
          "scatterpolar": [
           {
            "marker": {
             "colorbar": {
              "outlinewidth": 0,
              "ticks": ""
             }
            },
            "type": "scatterpolar"
           }
          ],
          "scatterpolargl": [
           {
            "marker": {
             "colorbar": {
              "outlinewidth": 0,
              "ticks": ""
             }
            },
            "type": "scatterpolargl"
           }
          ],
          "scatterternary": [
           {
            "marker": {
             "colorbar": {
              "outlinewidth": 0,
              "ticks": ""
             }
            },
            "type": "scatterternary"
           }
          ],
          "surface": [
           {
            "colorbar": {
             "outlinewidth": 0,
             "ticks": ""
            },
            "colorscale": [
             [
              0,
              "#0d0887"
             ],
             [
              0.1111111111111111,
              "#46039f"
             ],
             [
              0.2222222222222222,
              "#7201a8"
             ],
             [
              0.3333333333333333,
              "#9c179e"
             ],
             [
              0.4444444444444444,
              "#bd3786"
             ],
             [
              0.5555555555555556,
              "#d8576b"
             ],
             [
              0.6666666666666666,
              "#ed7953"
             ],
             [
              0.7777777777777778,
              "#fb9f3a"
             ],
             [
              0.8888888888888888,
              "#fdca26"
             ],
             [
              1,
              "#f0f921"
             ]
            ],
            "type": "surface"
           }
          ],
          "table": [
           {
            "cells": {
             "fill": {
              "color": "#EBF0F8"
             },
             "line": {
              "color": "white"
             }
            },
            "header": {
             "fill": {
              "color": "#C8D4E3"
             },
             "line": {
              "color": "white"
             }
            },
            "type": "table"
           }
          ]
         },
         "layout": {
          "annotationdefaults": {
           "arrowcolor": "#2a3f5f",
           "arrowhead": 0,
           "arrowwidth": 1
          },
          "autotypenumbers": "strict",
          "coloraxis": {
           "colorbar": {
            "outlinewidth": 0,
            "ticks": ""
           }
          },
          "colorscale": {
           "diverging": [
            [
             0,
             "#8e0152"
            ],
            [
             0.1,
             "#c51b7d"
            ],
            [
             0.2,
             "#de77ae"
            ],
            [
             0.3,
             "#f1b6da"
            ],
            [
             0.4,
             "#fde0ef"
            ],
            [
             0.5,
             "#f7f7f7"
            ],
            [
             0.6,
             "#e6f5d0"
            ],
            [
             0.7,
             "#b8e186"
            ],
            [
             0.8,
             "#7fbc41"
            ],
            [
             0.9,
             "#4d9221"
            ],
            [
             1,
             "#276419"
            ]
           ],
           "sequential": [
            [
             0,
             "#0d0887"
            ],
            [
             0.1111111111111111,
             "#46039f"
            ],
            [
             0.2222222222222222,
             "#7201a8"
            ],
            [
             0.3333333333333333,
             "#9c179e"
            ],
            [
             0.4444444444444444,
             "#bd3786"
            ],
            [
             0.5555555555555556,
             "#d8576b"
            ],
            [
             0.6666666666666666,
             "#ed7953"
            ],
            [
             0.7777777777777778,
             "#fb9f3a"
            ],
            [
             0.8888888888888888,
             "#fdca26"
            ],
            [
             1,
             "#f0f921"
            ]
           ],
           "sequentialminus": [
            [
             0,
             "#0d0887"
            ],
            [
             0.1111111111111111,
             "#46039f"
            ],
            [
             0.2222222222222222,
             "#7201a8"
            ],
            [
             0.3333333333333333,
             "#9c179e"
            ],
            [
             0.4444444444444444,
             "#bd3786"
            ],
            [
             0.5555555555555556,
             "#d8576b"
            ],
            [
             0.6666666666666666,
             "#ed7953"
            ],
            [
             0.7777777777777778,
             "#fb9f3a"
            ],
            [
             0.8888888888888888,
             "#fdca26"
            ],
            [
             1,
             "#f0f921"
            ]
           ]
          },
          "colorway": [
           "#636efa",
           "#EF553B",
           "#00cc96",
           "#ab63fa",
           "#FFA15A",
           "#19d3f3",
           "#FF6692",
           "#B6E880",
           "#FF97FF",
           "#FECB52"
          ],
          "font": {
           "color": "#2a3f5f"
          },
          "geo": {
           "bgcolor": "white",
           "lakecolor": "white",
           "landcolor": "#E5ECF6",
           "showlakes": true,
           "showland": true,
           "subunitcolor": "white"
          },
          "hoverlabel": {
           "align": "left"
          },
          "hovermode": "closest",
          "mapbox": {
           "style": "light"
          },
          "paper_bgcolor": "white",
          "plot_bgcolor": "#E5ECF6",
          "polar": {
           "angularaxis": {
            "gridcolor": "white",
            "linecolor": "white",
            "ticks": ""
           },
           "bgcolor": "#E5ECF6",
           "radialaxis": {
            "gridcolor": "white",
            "linecolor": "white",
            "ticks": ""
           }
          },
          "scene": {
           "xaxis": {
            "backgroundcolor": "#E5ECF6",
            "gridcolor": "white",
            "gridwidth": 2,
            "linecolor": "white",
            "showbackground": true,
            "ticks": "",
            "zerolinecolor": "white"
           },
           "yaxis": {
            "backgroundcolor": "#E5ECF6",
            "gridcolor": "white",
            "gridwidth": 2,
            "linecolor": "white",
            "showbackground": true,
            "ticks": "",
            "zerolinecolor": "white"
           },
           "zaxis": {
            "backgroundcolor": "#E5ECF6",
            "gridcolor": "white",
            "gridwidth": 2,
            "linecolor": "white",
            "showbackground": true,
            "ticks": "",
            "zerolinecolor": "white"
           }
          },
          "shapedefaults": {
           "line": {
            "color": "#2a3f5f"
           }
          },
          "ternary": {
           "aaxis": {
            "gridcolor": "white",
            "linecolor": "white",
            "ticks": ""
           },
           "baxis": {
            "gridcolor": "white",
            "linecolor": "white",
            "ticks": ""
           },
           "bgcolor": "#E5ECF6",
           "caxis": {
            "gridcolor": "white",
            "linecolor": "white",
            "ticks": ""
           }
          },
          "title": {
           "x": 0.05
          },
          "xaxis": {
           "automargin": true,
           "gridcolor": "white",
           "linecolor": "white",
           "ticks": "",
           "title": {
            "standoff": 15
           },
           "zerolinecolor": "white",
           "zerolinewidth": 2
          },
          "yaxis": {
           "automargin": true,
           "gridcolor": "white",
           "linecolor": "white",
           "ticks": "",
           "title": {
            "standoff": 15
           },
           "zerolinecolor": "white",
           "zerolinewidth": 2
          }
         }
        },
        "title": {
         "text": "Сравнение дохода по годам по полам"
        },
        "width": 800,
        "xaxis": {
         "anchor": "y",
         "categoryorder": "total descending",
         "domain": [
          0,
          1
         ],
         "title": {
          "text": "Год"
         }
        },
        "yaxis": {
         "anchor": "x",
         "domain": [
          0,
          1
         ],
         "title": {
          "text": "Доход"
         }
        }
       }
      },
      "text/html": [
       "<div>                            <div id=\"e523806c-4b5a-47d4-9099-2090c4a9b959\" class=\"plotly-graph-div\" style=\"height:800px; width:800px;\"></div>            <script type=\"text/javascript\">                require([\"plotly\"], function(Plotly) {                    window.PLOTLYENV=window.PLOTLYENV || {};                                    if (document.getElementById(\"e523806c-4b5a-47d4-9099-2090c4a9b959\")) {                    Plotly.newPlot(                        \"e523806c-4b5a-47d4-9099-2090c4a9b959\",                        [{\"alignmentgroup\":\"True\",\"hovertemplate\":\"sex_id=\\u0436\\u0435\\u043d\\u0441\\u043a\\u0438\\u0439<br>year=%{x}<br>service_amount=%{y}<extra></extra>\",\"legendgroup\":\"\\u0436\\u0435\\u043d\\u0441\\u043a\\u0438\\u0439\",\"marker\":{\"color\":\"#636efa\",\"pattern\":{\"shape\":\"\"}},\"name\":\"\\u0436\\u0435\\u043d\\u0441\\u043a\\u0438\\u0439\",\"offsetgroup\":\"\\u0436\\u0435\\u043d\\u0441\\u043a\\u0438\\u0439\",\"orientation\":\"v\",\"showlegend\":true,\"textposition\":\"auto\",\"x\":[2022,2021,2021,2022,2021,2022,2022,2021,2021,2022,2022,2021,2022,2021,2022,2021,2021,2022,2022,2021,2021,2022],\"xaxis\":\"x\",\"y\":[6480,4410,18260,13050,115177,209030,4754340,2801942,4133925,7099735,1210880,657080,123085,82749,21880,5544,7135053,11140707,254630,74719,3340554,6092218],\"yaxis\":\"y\",\"type\":\"bar\"},{\"alignmentgroup\":\"True\",\"hovertemplate\":\"sex_id=\\u043c\\u0443\\u0436\\u0441\\u043a\\u043e\\u0439<br>year=%{x}<br>service_amount=%{y}<extra></extra>\",\"legendgroup\":\"\\u043c\\u0443\\u0436\\u0441\\u043a\\u043e\\u0439\",\"marker\":{\"color\":\"#EF553B\",\"pattern\":{\"shape\":\"\"}},\"name\":\"\\u043c\\u0443\\u0436\\u0441\\u043a\\u043e\\u0439\",\"offsetgroup\":\"\\u043c\\u0443\\u0436\\u0441\\u043a\\u043e\\u0439\",\"orientation\":\"v\",\"showlegend\":true,\"textposition\":\"auto\",\"x\":[2022,2021,2021,2022,2022,2021,2022,2021,2021,2022,2021,2022,2022,2021,2021,2022,2021,2022],\"xaxis\":\"x\",\"y\":[78320,1470,3320,4900,2551260,1628120,4353630,2621010,536683,909160,5775,4560,7565847,5142323,13125,600,1614398,2592350],\"yaxis\":\"y\",\"type\":\"bar\"}],                        {\"template\":{\"data\":{\"histogram2dcontour\":[{\"type\":\"histogram2dcontour\",\"colorbar\":{\"outlinewidth\":0,\"ticks\":\"\"},\"colorscale\":[[0.0,\"#0d0887\"],[0.1111111111111111,\"#46039f\"],[0.2222222222222222,\"#7201a8\"],[0.3333333333333333,\"#9c179e\"],[0.4444444444444444,\"#bd3786\"],[0.5555555555555556,\"#d8576b\"],[0.6666666666666666,\"#ed7953\"],[0.7777777777777778,\"#fb9f3a\"],[0.8888888888888888,\"#fdca26\"],[1.0,\"#f0f921\"]]}],\"choropleth\":[{\"type\":\"choropleth\",\"colorbar\":{\"outlinewidth\":0,\"ticks\":\"\"}}],\"histogram2d\":[{\"type\":\"histogram2d\",\"colorbar\":{\"outlinewidth\":0,\"ticks\":\"\"},\"colorscale\":[[0.0,\"#0d0887\"],[0.1111111111111111,\"#46039f\"],[0.2222222222222222,\"#7201a8\"],[0.3333333333333333,\"#9c179e\"],[0.4444444444444444,\"#bd3786\"],[0.5555555555555556,\"#d8576b\"],[0.6666666666666666,\"#ed7953\"],[0.7777777777777778,\"#fb9f3a\"],[0.8888888888888888,\"#fdca26\"],[1.0,\"#f0f921\"]]}],\"heatmap\":[{\"type\":\"heatmap\",\"colorbar\":{\"outlinewidth\":0,\"ticks\":\"\"},\"colorscale\":[[0.0,\"#0d0887\"],[0.1111111111111111,\"#46039f\"],[0.2222222222222222,\"#7201a8\"],[0.3333333333333333,\"#9c179e\"],[0.4444444444444444,\"#bd3786\"],[0.5555555555555556,\"#d8576b\"],[0.6666666666666666,\"#ed7953\"],[0.7777777777777778,\"#fb9f3a\"],[0.8888888888888888,\"#fdca26\"],[1.0,\"#f0f921\"]]}],\"heatmapgl\":[{\"type\":\"heatmapgl\",\"colorbar\":{\"outlinewidth\":0,\"ticks\":\"\"},\"colorscale\":[[0.0,\"#0d0887\"],[0.1111111111111111,\"#46039f\"],[0.2222222222222222,\"#7201a8\"],[0.3333333333333333,\"#9c179e\"],[0.4444444444444444,\"#bd3786\"],[0.5555555555555556,\"#d8576b\"],[0.6666666666666666,\"#ed7953\"],[0.7777777777777778,\"#fb9f3a\"],[0.8888888888888888,\"#fdca26\"],[1.0,\"#f0f921\"]]}],\"contourcarpet\":[{\"type\":\"contourcarpet\",\"colorbar\":{\"outlinewidth\":0,\"ticks\":\"\"}}],\"contour\":[{\"type\":\"contour\",\"colorbar\":{\"outlinewidth\":0,\"ticks\":\"\"},\"colorscale\":[[0.0,\"#0d0887\"],[0.1111111111111111,\"#46039f\"],[0.2222222222222222,\"#7201a8\"],[0.3333333333333333,\"#9c179e\"],[0.4444444444444444,\"#bd3786\"],[0.5555555555555556,\"#d8576b\"],[0.6666666666666666,\"#ed7953\"],[0.7777777777777778,\"#fb9f3a\"],[0.8888888888888888,\"#fdca26\"],[1.0,\"#f0f921\"]]}],\"surface\":[{\"type\":\"surface\",\"colorbar\":{\"outlinewidth\":0,\"ticks\":\"\"},\"colorscale\":[[0.0,\"#0d0887\"],[0.1111111111111111,\"#46039f\"],[0.2222222222222222,\"#7201a8\"],[0.3333333333333333,\"#9c179e\"],[0.4444444444444444,\"#bd3786\"],[0.5555555555555556,\"#d8576b\"],[0.6666666666666666,\"#ed7953\"],[0.7777777777777778,\"#fb9f3a\"],[0.8888888888888888,\"#fdca26\"],[1.0,\"#f0f921\"]]}],\"mesh3d\":[{\"type\":\"mesh3d\",\"colorbar\":{\"outlinewidth\":0,\"ticks\":\"\"}}],\"scatter\":[{\"fillpattern\":{\"fillmode\":\"overlay\",\"size\":10,\"solidity\":0.2},\"type\":\"scatter\"}],\"parcoords\":[{\"type\":\"parcoords\",\"line\":{\"colorbar\":{\"outlinewidth\":0,\"ticks\":\"\"}}}],\"scatterpolargl\":[{\"type\":\"scatterpolargl\",\"marker\":{\"colorbar\":{\"outlinewidth\":0,\"ticks\":\"\"}}}],\"bar\":[{\"error_x\":{\"color\":\"#2a3f5f\"},\"error_y\":{\"color\":\"#2a3f5f\"},\"marker\":{\"line\":{\"color\":\"#E5ECF6\",\"width\":0.5},\"pattern\":{\"fillmode\":\"overlay\",\"size\":10,\"solidity\":0.2}},\"type\":\"bar\"}],\"scattergeo\":[{\"type\":\"scattergeo\",\"marker\":{\"colorbar\":{\"outlinewidth\":0,\"ticks\":\"\"}}}],\"scatterpolar\":[{\"type\":\"scatterpolar\",\"marker\":{\"colorbar\":{\"outlinewidth\":0,\"ticks\":\"\"}}}],\"histogram\":[{\"marker\":{\"pattern\":{\"fillmode\":\"overlay\",\"size\":10,\"solidity\":0.2}},\"type\":\"histogram\"}],\"scattergl\":[{\"type\":\"scattergl\",\"marker\":{\"colorbar\":{\"outlinewidth\":0,\"ticks\":\"\"}}}],\"scatter3d\":[{\"type\":\"scatter3d\",\"line\":{\"colorbar\":{\"outlinewidth\":0,\"ticks\":\"\"}},\"marker\":{\"colorbar\":{\"outlinewidth\":0,\"ticks\":\"\"}}}],\"scattermapbox\":[{\"type\":\"scattermapbox\",\"marker\":{\"colorbar\":{\"outlinewidth\":0,\"ticks\":\"\"}}}],\"scatterternary\":[{\"type\":\"scatterternary\",\"marker\":{\"colorbar\":{\"outlinewidth\":0,\"ticks\":\"\"}}}],\"scattercarpet\":[{\"type\":\"scattercarpet\",\"marker\":{\"colorbar\":{\"outlinewidth\":0,\"ticks\":\"\"}}}],\"carpet\":[{\"aaxis\":{\"endlinecolor\":\"#2a3f5f\",\"gridcolor\":\"white\",\"linecolor\":\"white\",\"minorgridcolor\":\"white\",\"startlinecolor\":\"#2a3f5f\"},\"baxis\":{\"endlinecolor\":\"#2a3f5f\",\"gridcolor\":\"white\",\"linecolor\":\"white\",\"minorgridcolor\":\"white\",\"startlinecolor\":\"#2a3f5f\"},\"type\":\"carpet\"}],\"table\":[{\"cells\":{\"fill\":{\"color\":\"#EBF0F8\"},\"line\":{\"color\":\"white\"}},\"header\":{\"fill\":{\"color\":\"#C8D4E3\"},\"line\":{\"color\":\"white\"}},\"type\":\"table\"}],\"barpolar\":[{\"marker\":{\"line\":{\"color\":\"#E5ECF6\",\"width\":0.5},\"pattern\":{\"fillmode\":\"overlay\",\"size\":10,\"solidity\":0.2}},\"type\":\"barpolar\"}],\"pie\":[{\"automargin\":true,\"type\":\"pie\"}]},\"layout\":{\"autotypenumbers\":\"strict\",\"colorway\":[\"#636efa\",\"#EF553B\",\"#00cc96\",\"#ab63fa\",\"#FFA15A\",\"#19d3f3\",\"#FF6692\",\"#B6E880\",\"#FF97FF\",\"#FECB52\"],\"font\":{\"color\":\"#2a3f5f\"},\"hovermode\":\"closest\",\"hoverlabel\":{\"align\":\"left\"},\"paper_bgcolor\":\"white\",\"plot_bgcolor\":\"#E5ECF6\",\"polar\":{\"bgcolor\":\"#E5ECF6\",\"angularaxis\":{\"gridcolor\":\"white\",\"linecolor\":\"white\",\"ticks\":\"\"},\"radialaxis\":{\"gridcolor\":\"white\",\"linecolor\":\"white\",\"ticks\":\"\"}},\"ternary\":{\"bgcolor\":\"#E5ECF6\",\"aaxis\":{\"gridcolor\":\"white\",\"linecolor\":\"white\",\"ticks\":\"\"},\"baxis\":{\"gridcolor\":\"white\",\"linecolor\":\"white\",\"ticks\":\"\"},\"caxis\":{\"gridcolor\":\"white\",\"linecolor\":\"white\",\"ticks\":\"\"}},\"coloraxis\":{\"colorbar\":{\"outlinewidth\":0,\"ticks\":\"\"}},\"colorscale\":{\"sequential\":[[0.0,\"#0d0887\"],[0.1111111111111111,\"#46039f\"],[0.2222222222222222,\"#7201a8\"],[0.3333333333333333,\"#9c179e\"],[0.4444444444444444,\"#bd3786\"],[0.5555555555555556,\"#d8576b\"],[0.6666666666666666,\"#ed7953\"],[0.7777777777777778,\"#fb9f3a\"],[0.8888888888888888,\"#fdca26\"],[1.0,\"#f0f921\"]],\"sequentialminus\":[[0.0,\"#0d0887\"],[0.1111111111111111,\"#46039f\"],[0.2222222222222222,\"#7201a8\"],[0.3333333333333333,\"#9c179e\"],[0.4444444444444444,\"#bd3786\"],[0.5555555555555556,\"#d8576b\"],[0.6666666666666666,\"#ed7953\"],[0.7777777777777778,\"#fb9f3a\"],[0.8888888888888888,\"#fdca26\"],[1.0,\"#f0f921\"]],\"diverging\":[[0,\"#8e0152\"],[0.1,\"#c51b7d\"],[0.2,\"#de77ae\"],[0.3,\"#f1b6da\"],[0.4,\"#fde0ef\"],[0.5,\"#f7f7f7\"],[0.6,\"#e6f5d0\"],[0.7,\"#b8e186\"],[0.8,\"#7fbc41\"],[0.9,\"#4d9221\"],[1,\"#276419\"]]},\"xaxis\":{\"gridcolor\":\"white\",\"linecolor\":\"white\",\"ticks\":\"\",\"title\":{\"standoff\":15},\"zerolinecolor\":\"white\",\"automargin\":true,\"zerolinewidth\":2},\"yaxis\":{\"gridcolor\":\"white\",\"linecolor\":\"white\",\"ticks\":\"\",\"title\":{\"standoff\":15},\"zerolinecolor\":\"white\",\"automargin\":true,\"zerolinewidth\":2},\"scene\":{\"xaxis\":{\"backgroundcolor\":\"#E5ECF6\",\"gridcolor\":\"white\",\"linecolor\":\"white\",\"showbackground\":true,\"ticks\":\"\",\"zerolinecolor\":\"white\",\"gridwidth\":2},\"yaxis\":{\"backgroundcolor\":\"#E5ECF6\",\"gridcolor\":\"white\",\"linecolor\":\"white\",\"showbackground\":true,\"ticks\":\"\",\"zerolinecolor\":\"white\",\"gridwidth\":2},\"zaxis\":{\"backgroundcolor\":\"#E5ECF6\",\"gridcolor\":\"white\",\"linecolor\":\"white\",\"showbackground\":true,\"ticks\":\"\",\"zerolinecolor\":\"white\",\"gridwidth\":2}},\"shapedefaults\":{\"line\":{\"color\":\"#2a3f5f\"}},\"annotationdefaults\":{\"arrowcolor\":\"#2a3f5f\",\"arrowhead\":0,\"arrowwidth\":1},\"geo\":{\"bgcolor\":\"white\",\"landcolor\":\"#E5ECF6\",\"subunitcolor\":\"white\",\"showland\":true,\"showlakes\":true,\"lakecolor\":\"white\"},\"title\":{\"x\":0.05},\"mapbox\":{\"style\":\"light\"}}},\"xaxis\":{\"anchor\":\"y\",\"domain\":[0.0,1.0],\"title\":{\"text\":\"\\u0413\\u043e\\u0434\"},\"categoryorder\":\"total descending\"},\"yaxis\":{\"anchor\":\"x\",\"domain\":[0.0,1.0],\"title\":{\"text\":\"\\u0414\\u043e\\u0445\\u043e\\u0434\"}},\"legend\":{\"title\":{\"text\":\"sex_id\"},\"tracegroupgap\":0},\"margin\":{\"t\":60},\"barmode\":\"relative\",\"title\":{\"text\":\"\\u0421\\u0440\\u0430\\u0432\\u043d\\u0435\\u043d\\u0438\\u0435 \\u0434\\u043e\\u0445\\u043e\\u0434\\u0430 \\u043f\\u043e \\u0433\\u043e\\u0434\\u0430\\u043c \\u043f\\u043e \\u043f\\u043e\\u043b\\u0430\\u043c\"},\"height\":800,\"width\":800},                        {\"responsive\": true}                    ).then(function(){\n",
       "                            \n",
       "var gd = document.getElementById('e523806c-4b5a-47d4-9099-2090c4a9b959');\n",
       "var x = new MutationObserver(function (mutations, observer) {{\n",
       "        var display = window.getComputedStyle(gd).display;\n",
       "        if (!display || display === 'none') {{\n",
       "            console.log([gd, 'removed!']);\n",
       "            Plotly.purge(gd);\n",
       "            observer.disconnect();\n",
       "        }}\n",
       "}});\n",
       "\n",
       "// Listen for the removal of the full notebook cells\n",
       "var notebookContainer = gd.closest('#notebook-container');\n",
       "if (notebookContainer) {{\n",
       "    x.observe(notebookContainer, {childList: true});\n",
       "}}\n",
       "\n",
       "// Listen for the clearing of the current output cell\n",
       "var outputEl = gd.closest('.output');\n",
       "if (outputEl) {{\n",
       "    x.observe(outputEl, {childList: true});\n",
       "}}\n",
       "\n",
       "                        })                };                });            </script>        </div>"
      ]
     },
     "metadata": {},
     "output_type": "display_data"
    }
   ],
   "source": [
    "data_srav_sex = data_comparable.pivot_table(index = ['category_name', 'sex_id','year'], values = 'service_amount', aggfunc='sum').sort_values(by = 'service_amount', ascending = False).reset_index()\n",
    "fig = px.bar(data_srav_sex.sort_values(by = 'category_name', ascending = False), x = 'year', y = 'service_amount', color ='sex_id')\n",
    "fig.update_layout(title = 'Сравнение дохода по годам по полам', xaxis_title = 'Год', yaxis_title = 'Доход', height = 800, width = 800, xaxis={'categoryorder':'total descending'})\n",
    "fig.show()"
   ]
  },
  {
   "cell_type": "markdown",
   "id": "b4cd693d",
   "metadata": {},
   "source": [
    "За 2022/2021 доходы по полам соответствуют приросту числа посетителей"
   ]
  },
  {
   "cell_type": "markdown",
   "id": "062b7c1d",
   "metadata": {},
   "source": [
    "### Гипотеза: Цены на услуги выросли из-за общей инфляции.\n",
    "\n",
    "\n",
    "**Инфляция по итогам 2022 года в России составила 11,94% после 8,39% в 2021 году, следует из данных Росстата.**\n",
    "\n",
    "Исходя из данных Росстата посчитаем, какой прирост цен у нас наблюдался в 2022 году по сравнению с 2021.\n"
   ]
  },
  {
   "cell_type": "code",
   "execution_count": 65,
   "id": "73894a73",
   "metadata": {},
   "outputs": [
    {
     "data": {
      "text/plain": [
       "1092.0"
      ]
     },
     "execution_count": 65,
     "metadata": {},
     "output_type": "execute_result"
    }
   ],
   "source": [
    "data_ammount_2021 = data_comparable[data_comparable['year']==2021]['service_amount'].median()\n",
    "data_ammount_2021"
   ]
  },
  {
   "cell_type": "code",
   "execution_count": 64,
   "id": "87b941fe",
   "metadata": {},
   "outputs": [
    {
     "data": {
      "text/plain": [
       "1200.0"
      ]
     },
     "execution_count": 64,
     "metadata": {},
     "output_type": "execute_result"
    }
   ],
   "source": [
    "data_ammount_2022 = data_comparable[data_comparable['year']==2022]['service_amount'].median()\n",
    "data_ammount_2022"
   ]
  },
  {
   "cell_type": "code",
   "execution_count": 72,
   "id": "89b70deb",
   "metadata": {},
   "outputs": [
    {
     "data": {
      "text/plain": [
       "9.0"
      ]
     },
     "execution_count": 72,
     "metadata": {},
     "output_type": "execute_result"
    }
   ],
   "source": [
    "data_ammount_delta = 100 - (data_ammount_2021/data_ammount_2022)*100\n",
    "data_ammount_delta"
   ]
  },
  {
   "cell_type": "markdown",
   "id": "d11e6d1d",
   "metadata": {},
   "source": [
    "**Сравнение Уровня Инфляции в России за 2021 и 2022 годы**\n",
    "\n",
    "График позаимствован с сайта: https://www.statbureau.org/ru/inflation-comparison "
   ]
  },
  {
   "attachments": {
    "grafic-2.png": {
     "image/png": "[encoded data removed]"
    }
   },
   "cell_type": "markdown",
   "id": "c3080924",
   "metadata": {},
   "source": [
    "![grafic-2.png](attachment:grafic-2.png)"
   ]
  },
  {
   "cell_type": "markdown",
   "id": "729494b0",
   "metadata": {},
   "source": [
    "Прирост цен произошел в пределах инфляции и составил 9%"
   ]
  },
  {
   "cell_type": "markdown",
   "id": "49a302bd",
   "metadata": {},
   "source": [
    "### Выводы и прогнозы"
   ]
  },
  {
   "cell_type": "markdown",
   "id": "62dcf5a4",
   "metadata": {},
   "source": [
    "**В ходе проекта были проанализированы доходы медицинской организации, рассмотрена гипотеза изменения цен и сделаны следующие выводы:**\n",
    "\n",
    "    1)Доходы выросли 1.6 раза\n",
    "    2)Количество клиентов вырасло в 1.55 раз\n",
    "    3)В 2022 году выросла доходность всех выделеных категорий\n",
    "    4)За 2022/2021 доходы по полам соответствуют приросту числа посетителей\n",
    "**Была высказана гипотеза о том, что увеличение стоимости услуг зависит от инфляции**\n",
    "  В итоге было найдено, что прирост цен произошел в пределах параметров инфляции, выделеных Росстатом"
   ]
  },
  {
   "cell_type": "markdown",
   "id": "fa7fafc9",
   "metadata": {},
   "source": [
    "**Прогноз на будущее**"
   ]
  },
  {
   "cell_type": "markdown",
   "id": "992991b1",
   "metadata": {},
   "source": [
    "Поскольку с 2021 по 2022 год изменение цен произошло в пределах инфляции, можно сделать вывод, что в дальнейшем будет наблюдаться схожая динамика в отношении изменения цен на услуги."
   ]
  }
 ],
 "metadata": {
  "kernelspec": {
   "display_name": "Python 3 (ipykernel)",
   "language": "python",
   "name": "python3"
  },
  "language_info": {
   "codemirror_mode": {
    "name": "ipython",
    "version": 3
   },
   "file_extension": ".py",
   "mimetype": "text/x-python",
   "name": "python",
   "nbconvert_exporter": "python",
   "pygments_lexer": "ipython3",
   "version": "3.10.9"
  }
 },
 "nbformat": 4,
 "nbformat_minor": 5
}
